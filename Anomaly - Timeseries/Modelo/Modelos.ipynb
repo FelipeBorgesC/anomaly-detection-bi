{
  "nbformat": 4,
  "nbformat_minor": 0,
  "metadata": {
    "colab": {
      "name": "Modelos.ipynb",
      "provenance": [],
      "collapsed_sections": [
        "MzsqXQpM1Jmd",
        "F2oSeC1eYGsE",
        "Od23KrQCXltB",
        "xesyg0sJXpkW",
        "qWG2vgy5YNs2",
        "KN16FQAGXtbe",
        "N2Rn_7JcXxE2",
        "pv7-_ghTYUcL",
        "4qk-8vAjXzve",
        "YcBS7Q8UX6DS"
      ]
    },
    "kernelspec": {
      "name": "python3",
      "display_name": "Python 3"
    },
    "language_info": {
      "name": "python"
    }
  },
  "cells": [
    {
      "cell_type": "markdown",
      "source": [
        "## Definindo a pasta de partida dos comandos"
      ],
      "metadata": {
        "id": "IbTWASkiG81y"
      }
    },
    {
      "cell_type": "markdown",
      "source": [
        "Case de estudo com agradecimentos ao dataset 3w: https://github.com/ricardovvargas/3w_dataset"
      ],
      "metadata": {
        "id": "yKa5eLAXOH7I"
      }
    },
    {
      "cell_type": "markdown",
      "source": [
        "A partir do arquivo pickle resultante do tratamento dos dados vamos aplicar os modelos!"
      ],
      "metadata": {
        "id": "sfcmmRZh67np"
      }
    },
    {
      "cell_type": "markdown",
      "source": [
        "## Carregando as bases:"
      ],
      "metadata": {
        "id": "MzsqXQpM1Jmd"
      }
    },
    {
      "cell_type": "markdown",
      "source": [
        "Carregando dados"
      ],
      "metadata": {
        "id": "K2oCLEl_18O0"
      }
    },
    {
      "cell_type": "code",
      "source": [
        "import pickle"
      ],
      "metadata": {
        "id": "i4I44-ZW1i6h"
      },
      "execution_count": 3,
      "outputs": []
    },
    {
      "cell_type": "code",
      "source": [
        "filename = 'anomaly_ts_data.pickle'\n",
        "with open(filename, 'rb') as picklefile:\n",
        "  all_data = pickle.load(picklefile)"
      ],
      "metadata": {
        "id": "vg-wPP0f2MQG"
      },
      "execution_count": 4,
      "outputs": []
    },
    {
      "cell_type": "code",
      "source": [
        "X_train = all_data['X_train'].reset_index(drop=True)\n",
        "y_train = all_data['y_train']\n",
        "X_test = all_data['X_test'].reset_index(drop=True)\n",
        "y_test = all_data['y_test']\n",
        "X_val = all_data['X_val'].reset_index(drop=True)\n",
        "y_val = all_data['y_val']"
      ],
      "metadata": {
        "id": "rUD8qucc1-NC"
      },
      "execution_count": 5,
      "outputs": []
    },
    {
      "cell_type": "markdown",
      "source": [
        "Checar brevemente se está tudo ok"
      ],
      "metadata": {
        "id": "IP5iLmwB7TA6"
      }
    },
    {
      "cell_type": "code",
      "source": [
        "X_train.head()"
      ],
      "metadata": {
        "id": "HGMsND7W7Sce",
        "colab": {
          "base_uri": "https://localhost:8080/",
          "height": 317
        },
        "outputId": "4aa02e67-d932-42f4-95ce-a32548fdd8dc"
      },
      "execution_count": 6,
      "outputs": [
        {
          "output_type": "execute_result",
          "data": {
            "text/plain": [
              "   P-PDG__median  P-PDG__mean  P-PDG__standard_deviation  P-PDG__variance  \\\n",
              "0       420.2314   420.231400               1.136868e-13     1.292470e-26   \n",
              "1       420.2314   420.231400               1.136868e-13     1.292470e-26   \n",
              "2       420.2314   420.231400               1.136868e-13     1.292470e-26   \n",
              "3       420.2314   420.231400               1.136868e-13     1.292470e-26   \n",
              "4       420.2314   420.230848               9.928043e-04     9.856604e-07   \n",
              "\n",
              "   P-PDG__root_mean_square  P-PDG__maximum  P-PDG__absolute_maximum  \\\n",
              "0               420.231400        420.2314                 420.2314   \n",
              "1               420.231400        420.2314                 420.2314   \n",
              "2               420.231400        420.2314                 420.2314   \n",
              "3               420.231400        420.2314                 420.2314   \n",
              "4               420.230848        420.2314                 420.2314   \n",
              "\n",
              "   P-PDG__minimum  P-TPT__median  P-TPT__mean  ...  \\\n",
              "0        420.2314      175.34060   175.340600  ...   \n",
              "1        420.2314      175.34060   175.340600  ...   \n",
              "2        420.2314      175.36260   175.370497  ...   \n",
              "3        420.2314      175.49975   175.483367  ...   \n",
              "4        420.2280      175.50130   175.501300  ...   \n",
              "\n",
              "   P-MON-CKP__absolute_maximum  P-MON-CKP__minimum  T-JUS-CKP__median  \\\n",
              "0                     96.64524            96.64524            66.7545   \n",
              "1                     96.64524            96.64524            66.7545   \n",
              "2                     96.64524            96.64524            66.7545   \n",
              "3                     96.64524            96.64524            66.7545   \n",
              "4                     96.64524            96.64524            66.7545   \n",
              "\n",
              "   T-JUS-CKP__mean  T-JUS-CKP__standard_deviation  T-JUS-CKP__variance  \\\n",
              "0          66.7545                            0.0                  0.0   \n",
              "1          66.7545                            0.0                  0.0   \n",
              "2          66.7545                            0.0                  0.0   \n",
              "3          66.7545                            0.0                  0.0   \n",
              "4          66.7545                            0.0                  0.0   \n",
              "\n",
              "   T-JUS-CKP__root_mean_square  T-JUS-CKP__maximum  \\\n",
              "0                      66.7545             66.7545   \n",
              "1                      66.7545             66.7545   \n",
              "2                      66.7545             66.7545   \n",
              "3                      66.7545             66.7545   \n",
              "4                      66.7545             66.7545   \n",
              "\n",
              "   T-JUS-CKP__absolute_maximum  T-JUS-CKP__minimum  \n",
              "0                      66.7545             66.7545  \n",
              "1                      66.7545             66.7545  \n",
              "2                      66.7545             66.7545  \n",
              "3                      66.7545             66.7545  \n",
              "4                      66.7545             66.7545  \n",
              "\n",
              "[5 rows x 40 columns]"
            ],
            "text/html": [
              "\n",
              "  <div id=\"df-fd40733e-2cc7-4090-98e4-e14b2f51a2a8\">\n",
              "    <div class=\"colab-df-container\">\n",
              "      <div>\n",
              "<style scoped>\n",
              "    .dataframe tbody tr th:only-of-type {\n",
              "        vertical-align: middle;\n",
              "    }\n",
              "\n",
              "    .dataframe tbody tr th {\n",
              "        vertical-align: top;\n",
              "    }\n",
              "\n",
              "    .dataframe thead th {\n",
              "        text-align: right;\n",
              "    }\n",
              "</style>\n",
              "<table border=\"1\" class=\"dataframe\">\n",
              "  <thead>\n",
              "    <tr style=\"text-align: right;\">\n",
              "      <th></th>\n",
              "      <th>P-PDG__median</th>\n",
              "      <th>P-PDG__mean</th>\n",
              "      <th>P-PDG__standard_deviation</th>\n",
              "      <th>P-PDG__variance</th>\n",
              "      <th>P-PDG__root_mean_square</th>\n",
              "      <th>P-PDG__maximum</th>\n",
              "      <th>P-PDG__absolute_maximum</th>\n",
              "      <th>P-PDG__minimum</th>\n",
              "      <th>P-TPT__median</th>\n",
              "      <th>P-TPT__mean</th>\n",
              "      <th>...</th>\n",
              "      <th>P-MON-CKP__absolute_maximum</th>\n",
              "      <th>P-MON-CKP__minimum</th>\n",
              "      <th>T-JUS-CKP__median</th>\n",
              "      <th>T-JUS-CKP__mean</th>\n",
              "      <th>T-JUS-CKP__standard_deviation</th>\n",
              "      <th>T-JUS-CKP__variance</th>\n",
              "      <th>T-JUS-CKP__root_mean_square</th>\n",
              "      <th>T-JUS-CKP__maximum</th>\n",
              "      <th>T-JUS-CKP__absolute_maximum</th>\n",
              "      <th>T-JUS-CKP__minimum</th>\n",
              "    </tr>\n",
              "  </thead>\n",
              "  <tbody>\n",
              "    <tr>\n",
              "      <th>0</th>\n",
              "      <td>420.2314</td>\n",
              "      <td>420.231400</td>\n",
              "      <td>1.136868e-13</td>\n",
              "      <td>1.292470e-26</td>\n",
              "      <td>420.231400</td>\n",
              "      <td>420.2314</td>\n",
              "      <td>420.2314</td>\n",
              "      <td>420.2314</td>\n",
              "      <td>175.34060</td>\n",
              "      <td>175.340600</td>\n",
              "      <td>...</td>\n",
              "      <td>96.64524</td>\n",
              "      <td>96.64524</td>\n",
              "      <td>66.7545</td>\n",
              "      <td>66.7545</td>\n",
              "      <td>0.0</td>\n",
              "      <td>0.0</td>\n",
              "      <td>66.7545</td>\n",
              "      <td>66.7545</td>\n",
              "      <td>66.7545</td>\n",
              "      <td>66.7545</td>\n",
              "    </tr>\n",
              "    <tr>\n",
              "      <th>1</th>\n",
              "      <td>420.2314</td>\n",
              "      <td>420.231400</td>\n",
              "      <td>1.136868e-13</td>\n",
              "      <td>1.292470e-26</td>\n",
              "      <td>420.231400</td>\n",
              "      <td>420.2314</td>\n",
              "      <td>420.2314</td>\n",
              "      <td>420.2314</td>\n",
              "      <td>175.34060</td>\n",
              "      <td>175.340600</td>\n",
              "      <td>...</td>\n",
              "      <td>96.64524</td>\n",
              "      <td>96.64524</td>\n",
              "      <td>66.7545</td>\n",
              "      <td>66.7545</td>\n",
              "      <td>0.0</td>\n",
              "      <td>0.0</td>\n",
              "      <td>66.7545</td>\n",
              "      <td>66.7545</td>\n",
              "      <td>66.7545</td>\n",
              "      <td>66.7545</td>\n",
              "    </tr>\n",
              "    <tr>\n",
              "      <th>2</th>\n",
              "      <td>420.2314</td>\n",
              "      <td>420.231400</td>\n",
              "      <td>1.136868e-13</td>\n",
              "      <td>1.292470e-26</td>\n",
              "      <td>420.231400</td>\n",
              "      <td>420.2314</td>\n",
              "      <td>420.2314</td>\n",
              "      <td>420.2314</td>\n",
              "      <td>175.36260</td>\n",
              "      <td>175.370497</td>\n",
              "      <td>...</td>\n",
              "      <td>96.64524</td>\n",
              "      <td>96.64524</td>\n",
              "      <td>66.7545</td>\n",
              "      <td>66.7545</td>\n",
              "      <td>0.0</td>\n",
              "      <td>0.0</td>\n",
              "      <td>66.7545</td>\n",
              "      <td>66.7545</td>\n",
              "      <td>66.7545</td>\n",
              "      <td>66.7545</td>\n",
              "    </tr>\n",
              "    <tr>\n",
              "      <th>3</th>\n",
              "      <td>420.2314</td>\n",
              "      <td>420.231400</td>\n",
              "      <td>1.136868e-13</td>\n",
              "      <td>1.292470e-26</td>\n",
              "      <td>420.231400</td>\n",
              "      <td>420.2314</td>\n",
              "      <td>420.2314</td>\n",
              "      <td>420.2314</td>\n",
              "      <td>175.49975</td>\n",
              "      <td>175.483367</td>\n",
              "      <td>...</td>\n",
              "      <td>96.64524</td>\n",
              "      <td>96.64524</td>\n",
              "      <td>66.7545</td>\n",
              "      <td>66.7545</td>\n",
              "      <td>0.0</td>\n",
              "      <td>0.0</td>\n",
              "      <td>66.7545</td>\n",
              "      <td>66.7545</td>\n",
              "      <td>66.7545</td>\n",
              "      <td>66.7545</td>\n",
              "    </tr>\n",
              "    <tr>\n",
              "      <th>4</th>\n",
              "      <td>420.2314</td>\n",
              "      <td>420.230848</td>\n",
              "      <td>9.928043e-04</td>\n",
              "      <td>9.856604e-07</td>\n",
              "      <td>420.230848</td>\n",
              "      <td>420.2314</td>\n",
              "      <td>420.2314</td>\n",
              "      <td>420.2280</td>\n",
              "      <td>175.50130</td>\n",
              "      <td>175.501300</td>\n",
              "      <td>...</td>\n",
              "      <td>96.64524</td>\n",
              "      <td>96.64524</td>\n",
              "      <td>66.7545</td>\n",
              "      <td>66.7545</td>\n",
              "      <td>0.0</td>\n",
              "      <td>0.0</td>\n",
              "      <td>66.7545</td>\n",
              "      <td>66.7545</td>\n",
              "      <td>66.7545</td>\n",
              "      <td>66.7545</td>\n",
              "    </tr>\n",
              "  </tbody>\n",
              "</table>\n",
              "<p>5 rows × 40 columns</p>\n",
              "</div>\n",
              "      <button class=\"colab-df-convert\" onclick=\"convertToInteractive('df-fd40733e-2cc7-4090-98e4-e14b2f51a2a8')\"\n",
              "              title=\"Convert this dataframe to an interactive table.\"\n",
              "              style=\"display:none;\">\n",
              "        \n",
              "  <svg xmlns=\"http://www.w3.org/2000/svg\" height=\"24px\"viewBox=\"0 0 24 24\"\n",
              "       width=\"24px\">\n",
              "    <path d=\"M0 0h24v24H0V0z\" fill=\"none\"/>\n",
              "    <path d=\"M18.56 5.44l.94 2.06.94-2.06 2.06-.94-2.06-.94-.94-2.06-.94 2.06-2.06.94zm-11 1L8.5 8.5l.94-2.06 2.06-.94-2.06-.94L8.5 2.5l-.94 2.06-2.06.94zm10 10l.94 2.06.94-2.06 2.06-.94-2.06-.94-.94-2.06-.94 2.06-2.06.94z\"/><path d=\"M17.41 7.96l-1.37-1.37c-.4-.4-.92-.59-1.43-.59-.52 0-1.04.2-1.43.59L10.3 9.45l-7.72 7.72c-.78.78-.78 2.05 0 2.83L4 21.41c.39.39.9.59 1.41.59.51 0 1.02-.2 1.41-.59l7.78-7.78 2.81-2.81c.8-.78.8-2.07 0-2.86zM5.41 20L4 18.59l7.72-7.72 1.47 1.35L5.41 20z\"/>\n",
              "  </svg>\n",
              "      </button>\n",
              "      \n",
              "  <style>\n",
              "    .colab-df-container {\n",
              "      display:flex;\n",
              "      flex-wrap:wrap;\n",
              "      gap: 12px;\n",
              "    }\n",
              "\n",
              "    .colab-df-convert {\n",
              "      background-color: #E8F0FE;\n",
              "      border: none;\n",
              "      border-radius: 50%;\n",
              "      cursor: pointer;\n",
              "      display: none;\n",
              "      fill: #1967D2;\n",
              "      height: 32px;\n",
              "      padding: 0 0 0 0;\n",
              "      width: 32px;\n",
              "    }\n",
              "\n",
              "    .colab-df-convert:hover {\n",
              "      background-color: #E2EBFA;\n",
              "      box-shadow: 0px 1px 2px rgba(60, 64, 67, 0.3), 0px 1px 3px 1px rgba(60, 64, 67, 0.15);\n",
              "      fill: #174EA6;\n",
              "    }\n",
              "\n",
              "    [theme=dark] .colab-df-convert {\n",
              "      background-color: #3B4455;\n",
              "      fill: #D2E3FC;\n",
              "    }\n",
              "\n",
              "    [theme=dark] .colab-df-convert:hover {\n",
              "      background-color: #434B5C;\n",
              "      box-shadow: 0px 1px 3px 1px rgba(0, 0, 0, 0.15);\n",
              "      filter: drop-shadow(0px 1px 2px rgba(0, 0, 0, 0.3));\n",
              "      fill: #FFFFFF;\n",
              "    }\n",
              "  </style>\n",
              "\n",
              "      <script>\n",
              "        const buttonEl =\n",
              "          document.querySelector('#df-fd40733e-2cc7-4090-98e4-e14b2f51a2a8 button.colab-df-convert');\n",
              "        buttonEl.style.display =\n",
              "          google.colab.kernel.accessAllowed ? 'block' : 'none';\n",
              "\n",
              "        async function convertToInteractive(key) {\n",
              "          const element = document.querySelector('#df-fd40733e-2cc7-4090-98e4-e14b2f51a2a8');\n",
              "          const dataTable =\n",
              "            await google.colab.kernel.invokeFunction('convertToInteractive',\n",
              "                                                     [key], {});\n",
              "          if (!dataTable) return;\n",
              "\n",
              "          const docLinkHtml = 'Like what you see? Visit the ' +\n",
              "            '<a target=\"_blank\" href=https://colab.research.google.com/notebooks/data_table.ipynb>data table notebook</a>'\n",
              "            + ' to learn more about interactive tables.';\n",
              "          element.innerHTML = '';\n",
              "          dataTable['output_type'] = 'display_data';\n",
              "          await google.colab.output.renderOutput(dataTable, element);\n",
              "          const docLink = document.createElement('div');\n",
              "          docLink.innerHTML = docLinkHtml;\n",
              "          element.appendChild(docLink);\n",
              "        }\n",
              "      </script>\n",
              "    </div>\n",
              "  </div>\n",
              "  "
            ]
          },
          "metadata": {},
          "execution_count": 6
        }
      ]
    },
    {
      "cell_type": "code",
      "source": [
        "X_train.shape, X_test.shape, X_val.shape"
      ],
      "metadata": {
        "colab": {
          "base_uri": "https://localhost:8080/"
        },
        "id": "2hYQDlPp8Kkz",
        "outputId": "90d82002-1bb1-45f5-bc2d-344751f08324"
      },
      "execution_count": 9,
      "outputs": [
        {
          "output_type": "execute_result",
          "data": {
            "text/plain": [
              "((115, 40), (245, 40), (380, 40))"
            ]
          },
          "metadata": {},
          "execution_count": 9
        }
      ]
    },
    {
      "cell_type": "markdown",
      "source": [
        "## Aplicar aos modelos"
      ],
      "metadata": {
        "id": "V3reINq_Xh-o"
      }
    },
    {
      "cell_type": "markdown",
      "source": [
        "### Autoencoder"
      ],
      "metadata": {
        "id": "F2oSeC1eYGsE"
      }
    },
    {
      "cell_type": "markdown",
      "source": [
        "####  Treino"
      ],
      "metadata": {
        "id": "Od23KrQCXltB"
      }
    },
    {
      "cell_type": "code",
      "source": [
        "import numpy as np\n",
        "import random\n",
        "import pandas as pd\n",
        "import matplotlib.pyplot as plt\n",
        "from sklearn.metrics import precision_recall_fscore_support\n",
        "from sklearn.metrics import confusion_matrix\n",
        "import seaborn as sns\n",
        "import tensorflow\n",
        "from tensorflow.keras import Model\n",
        "from tensorflow.keras.layers import Input, Dense, Dropout, BatchNormalization\n",
        "from tensorflow.keras.optimizers import Adam\n",
        "from tensorflow.keras import regularizers\n",
        "from tensorflow.keras.callbacks import EarlyStopping, ReduceLROnPlateau\n",
        "import logging\n",
        "\n",
        "\n",
        "\n",
        "\n",
        "# set random seed for reproducibility\n",
        "tensorflow.random.set_seed(2022)\n",
        "np.random.seed(2022)\n",
        "np.random.RandomState(2022)\n",
        "random.seed(2022)"
      ],
      "metadata": {
        "id": "_lm8yO12avGk"
      },
      "execution_count": 10,
      "outputs": []
    },
    {
      "cell_type": "code",
      "source": [
        "# definição do modelo\n",
        "\n",
        "input_feats = X_train.shape[1]\n",
        "hidden_neurons = [64, 16]\n",
        "latent_dim = 8\n",
        "\n",
        "# Encoder\n",
        "inputs = Input(shape=(input_feats,), name='encoder_input')\n",
        "enc_hidden = Dense(hidden_neurons[0], activation='linear', name='encoder_hidden_0')(inputs)\n",
        "enc_hidden = Dropout(0.15)(enc_hidden)\n",
        "enc_hidden = Dense(hidden_neurons[1], activation='linear', name='encoder_hidden_1')(enc_hidden)\n",
        "enc_hidden = Dropout(0.25)(enc_hidden)\n",
        "\n",
        "# Camda Latente\n",
        "z_ = Dense(latent_dim, name='z_')(enc_hidden)\n",
        "\n",
        "encoder = Model(inputs, z_, name='encoder')\n",
        "logging.info(encoder.summary())\n",
        "\n",
        "# Decoder\n",
        "latent_inputs = Input(shape=(latent_dim,), name='z_')\n",
        "dec_hidden = Dense(hidden_neurons[1], activation='linear', name='decoder_hidden_0')(latent_inputs)\n",
        "dec_hidden = Dropout(0.15)(dec_hidden)\n",
        "dec_hidden = Dense(hidden_neurons[0], activation='linear', name='decoder_hidden_1')(dec_hidden)\n",
        "dec_hidden = Dropout(0.25)(dec_hidden)\n",
        "\n",
        "\n",
        "outputs = Dense(input_feats, activation='linear',\n",
        "                name='decoder_output')(dec_hidden)\n",
        "\n",
        "decoder = Model(latent_inputs, outputs, name='decoder')\n",
        "logging.info(decoder.summary())\n",
        "\n",
        "\n",
        "outputs = decoder(encoder(inputs))\n",
        "\n",
        "model = Model(inputs, outputs, name='ae')\n",
        "\n",
        "optimizer = Adam(learning_rate=0.001)\n",
        "model.compile(optimizer=optimizer, loss=\"mse\", metrics='mse');"
      ],
      "metadata": {
        "id": "14MqWYCW7XtW",
        "colab": {
          "base_uri": "https://localhost:8080/"
        },
        "outputId": "4b24d46a-bf98-47de-b399-b1f4bcdeacf4"
      },
      "execution_count": 11,
      "outputs": [
        {
          "output_type": "stream",
          "name": "stdout",
          "text": [
            "Model: \"encoder\"\n",
            "_________________________________________________________________\n",
            " Layer (type)                Output Shape              Param #   \n",
            "=================================================================\n",
            " encoder_input (InputLayer)  [(None, 40)]              0         \n",
            "                                                                 \n",
            " encoder_hidden_0 (Dense)    (None, 64)                2624      \n",
            "                                                                 \n",
            " dropout (Dropout)           (None, 64)                0         \n",
            "                                                                 \n",
            " encoder_hidden_1 (Dense)    (None, 16)                1040      \n",
            "                                                                 \n",
            " dropout_1 (Dropout)         (None, 16)                0         \n",
            "                                                                 \n",
            " z_ (Dense)                  (None, 8)                 136       \n",
            "                                                                 \n",
            "=================================================================\n",
            "Total params: 3,800\n",
            "Trainable params: 3,800\n",
            "Non-trainable params: 0\n",
            "_________________________________________________________________\n",
            "Model: \"decoder\"\n",
            "_________________________________________________________________\n",
            " Layer (type)                Output Shape              Param #   \n",
            "=================================================================\n",
            " z_ (InputLayer)             [(None, 8)]               0         \n",
            "                                                                 \n",
            " decoder_hidden_0 (Dense)    (None, 16)                144       \n",
            "                                                                 \n",
            " dropout_2 (Dropout)         (None, 16)                0         \n",
            "                                                                 \n",
            " decoder_hidden_1 (Dense)    (None, 64)                1088      \n",
            "                                                                 \n",
            " dropout_3 (Dropout)         (None, 64)                0         \n",
            "                                                                 \n",
            " decoder_output (Dense)      (None, 40)                2600      \n",
            "                                                                 \n",
            "=================================================================\n",
            "Total params: 3,832\n",
            "Trainable params: 3,832\n",
            "Non-trainable params: 0\n",
            "_________________________________________________________________\n"
          ]
        }
      ]
    },
    {
      "cell_type": "code",
      "source": [
        "monitor = 'val_mse'\n",
        "lr_reduce = ReduceLROnPlateau(monitor=monitor, factor=0.6, min_delta=0.0001, patience=8, verbose=1)\n",
        "early = EarlyStopping(monitor=monitor, mode=\"min\", patience=25)\n",
        "kwargs = {}\n",
        "kwargs['epochs'] = 250\n",
        "kwargs['batch_size'] = 32\n",
        "kwargs['shuffle'] = True\n",
        "kwargs['validation_data'] = (X_test, X_test)\n",
        "kwargs['verbose'] = 1\n",
        "kwargs['callbacks'] = [early, lr_reduce]\n",
        "\n",
        "history = model.fit(X_train, X_train, **kwargs)"
      ],
      "metadata": {
        "id": "7Tejds3IXr6l",
        "colab": {
          "base_uri": "https://localhost:8080/"
        },
        "outputId": "5b4c6707-b094-4316-85cd-85f35804e84f"
      },
      "execution_count": 12,
      "outputs": [
        {
          "output_type": "stream",
          "name": "stdout",
          "text": [
            "Epoch 1/250\n",
            "4/4 [==============================] - 1s 79ms/step - loss: 115121.0781 - mse: 115121.0781 - val_loss: 46939.8008 - val_mse: 46939.8008 - lr: 0.0010\n",
            "Epoch 2/250\n",
            "4/4 [==============================] - 0s 15ms/step - loss: 61382.7188 - mse: 61382.7188 - val_loss: 34509.7500 - val_mse: 34509.7500 - lr: 0.0010\n",
            "Epoch 3/250\n",
            "4/4 [==============================] - 0s 15ms/step - loss: 47898.3203 - mse: 47898.3203 - val_loss: 32331.9199 - val_mse: 32331.9199 - lr: 0.0010\n",
            "Epoch 4/250\n",
            "4/4 [==============================] - 0s 13ms/step - loss: 46272.7188 - mse: 46272.7188 - val_loss: 31399.2578 - val_mse: 31399.2578 - lr: 0.0010\n",
            "Epoch 5/250\n",
            "4/4 [==============================] - 0s 14ms/step - loss: 43672.4492 - mse: 43672.4492 - val_loss: 30465.0625 - val_mse: 30465.0625 - lr: 0.0010\n",
            "Epoch 6/250\n",
            "4/4 [==============================] - 0s 16ms/step - loss: 38682.4570 - mse: 38682.4570 - val_loss: 29276.2559 - val_mse: 29276.2559 - lr: 0.0010\n",
            "Epoch 7/250\n",
            "4/4 [==============================] - 0s 16ms/step - loss: 33818.7891 - mse: 33818.7891 - val_loss: 27005.9141 - val_mse: 27005.9141 - lr: 0.0010\n",
            "Epoch 8/250\n",
            "4/4 [==============================] - 0s 12ms/step - loss: 28008.1367 - mse: 28008.1367 - val_loss: 23379.2910 - val_mse: 23379.2910 - lr: 0.0010\n",
            "Epoch 9/250\n",
            "4/4 [==============================] - 0s 16ms/step - loss: 26217.1914 - mse: 26217.1914 - val_loss: 19191.5566 - val_mse: 19191.5566 - lr: 0.0010\n",
            "Epoch 10/250\n",
            "4/4 [==============================] - 0s 16ms/step - loss: 21743.1699 - mse: 21743.1699 - val_loss: 15560.9023 - val_mse: 15560.9023 - lr: 0.0010\n",
            "Epoch 11/250\n",
            "4/4 [==============================] - 0s 17ms/step - loss: 20357.5000 - mse: 20357.5000 - val_loss: 13930.4385 - val_mse: 13930.4385 - lr: 0.0010\n",
            "Epoch 12/250\n",
            "4/4 [==============================] - 0s 13ms/step - loss: 17759.6035 - mse: 17759.6035 - val_loss: 14368.1904 - val_mse: 14368.1904 - lr: 0.0010\n",
            "Epoch 13/250\n",
            "4/4 [==============================] - 0s 15ms/step - loss: 17424.0625 - mse: 17424.0625 - val_loss: 13853.7861 - val_mse: 13853.7861 - lr: 0.0010\n",
            "Epoch 14/250\n",
            "4/4 [==============================] - 0s 18ms/step - loss: 15672.8916 - mse: 15672.8916 - val_loss: 12335.5273 - val_mse: 12335.5273 - lr: 0.0010\n",
            "Epoch 15/250\n",
            "4/4 [==============================] - 0s 14ms/step - loss: 16057.8936 - mse: 16057.8936 - val_loss: 11067.1602 - val_mse: 11067.1602 - lr: 0.0010\n",
            "Epoch 16/250\n",
            "4/4 [==============================] - 0s 17ms/step - loss: 12747.2695 - mse: 12747.2695 - val_loss: 11883.7080 - val_mse: 11883.7080 - lr: 0.0010\n",
            "Epoch 17/250\n",
            "4/4 [==============================] - 0s 16ms/step - loss: 13143.9902 - mse: 13143.9902 - val_loss: 13160.4072 - val_mse: 13160.4072 - lr: 0.0010\n",
            "Epoch 18/250\n",
            "4/4 [==============================] - 0s 17ms/step - loss: 13447.0439 - mse: 13447.0439 - val_loss: 12026.8691 - val_mse: 12026.8691 - lr: 0.0010\n",
            "Epoch 19/250\n",
            "4/4 [==============================] - 0s 16ms/step - loss: 11512.1162 - mse: 11512.1162 - val_loss: 11694.6855 - val_mse: 11694.6855 - lr: 0.0010\n",
            "Epoch 20/250\n",
            "4/4 [==============================] - 0s 17ms/step - loss: 10755.7754 - mse: 10755.7754 - val_loss: 11314.7676 - val_mse: 11314.7676 - lr: 0.0010\n",
            "Epoch 21/250\n",
            "4/4 [==============================] - 0s 16ms/step - loss: 10677.2979 - mse: 10677.2979 - val_loss: 11471.5303 - val_mse: 11471.5303 - lr: 0.0010\n",
            "Epoch 22/250\n",
            "4/4 [==============================] - 0s 14ms/step - loss: 11095.1025 - mse: 11095.1025 - val_loss: 10480.9854 - val_mse: 10480.9854 - lr: 0.0010\n",
            "Epoch 23/250\n",
            "4/4 [==============================] - 0s 15ms/step - loss: 10633.9346 - mse: 10633.9346 - val_loss: 11612.3037 - val_mse: 11612.3037 - lr: 0.0010\n",
            "Epoch 24/250\n",
            "4/4 [==============================] - 0s 13ms/step - loss: 10576.1279 - mse: 10576.1279 - val_loss: 10874.7188 - val_mse: 10874.7188 - lr: 0.0010\n",
            "Epoch 25/250\n",
            "4/4 [==============================] - 0s 17ms/step - loss: 9207.7578 - mse: 9207.7578 - val_loss: 9242.4512 - val_mse: 9242.4512 - lr: 0.0010\n",
            "Epoch 26/250\n",
            "4/4 [==============================] - 0s 15ms/step - loss: 9181.2822 - mse: 9181.2822 - val_loss: 9820.4492 - val_mse: 9820.4492 - lr: 0.0010\n",
            "Epoch 27/250\n",
            "4/4 [==============================] - 0s 19ms/step - loss: 8718.2051 - mse: 8718.2051 - val_loss: 9914.6484 - val_mse: 9914.6484 - lr: 0.0010\n",
            "Epoch 28/250\n",
            "4/4 [==============================] - 0s 15ms/step - loss: 8235.3887 - mse: 8235.3887 - val_loss: 9207.6260 - val_mse: 9207.6260 - lr: 0.0010\n",
            "Epoch 29/250\n",
            "4/4 [==============================] - 0s 13ms/step - loss: 8830.7959 - mse: 8830.7959 - val_loss: 8998.4160 - val_mse: 8998.4160 - lr: 0.0010\n",
            "Epoch 30/250\n",
            "4/4 [==============================] - 0s 14ms/step - loss: 8163.1338 - mse: 8163.1338 - val_loss: 10556.7930 - val_mse: 10556.7930 - lr: 0.0010\n",
            "Epoch 31/250\n",
            "4/4 [==============================] - 0s 14ms/step - loss: 7807.6455 - mse: 7807.6455 - val_loss: 9486.2852 - val_mse: 9486.2852 - lr: 0.0010\n",
            "Epoch 32/250\n",
            "4/4 [==============================] - 0s 12ms/step - loss: 7422.4585 - mse: 7422.4585 - val_loss: 7577.4780 - val_mse: 7577.4780 - lr: 0.0010\n",
            "Epoch 33/250\n",
            "4/4 [==============================] - 0s 15ms/step - loss: 8199.0498 - mse: 8199.0488 - val_loss: 9997.3945 - val_mse: 9997.3945 - lr: 0.0010\n",
            "Epoch 34/250\n",
            "4/4 [==============================] - 0s 13ms/step - loss: 7246.2988 - mse: 7246.2988 - val_loss: 10894.5586 - val_mse: 10894.5586 - lr: 0.0010\n",
            "Epoch 35/250\n",
            "4/4 [==============================] - 0s 13ms/step - loss: 6830.8892 - mse: 6830.8892 - val_loss: 8089.7603 - val_mse: 8089.7603 - lr: 0.0010\n",
            "Epoch 36/250\n",
            "4/4 [==============================] - 0s 14ms/step - loss: 7388.7271 - mse: 7388.7271 - val_loss: 8163.6562 - val_mse: 8163.6562 - lr: 0.0010\n",
            "Epoch 37/250\n",
            "4/4 [==============================] - 0s 13ms/step - loss: 7456.7305 - mse: 7456.7305 - val_loss: 8974.5703 - val_mse: 8974.5703 - lr: 0.0010\n",
            "Epoch 38/250\n",
            "4/4 [==============================] - 0s 13ms/step - loss: 7028.5664 - mse: 7028.5664 - val_loss: 9219.2715 - val_mse: 9219.2715 - lr: 0.0010\n",
            "Epoch 39/250\n",
            "4/4 [==============================] - 0s 16ms/step - loss: 6365.4414 - mse: 6365.4414 - val_loss: 8914.5723 - val_mse: 8914.5723 - lr: 0.0010\n",
            "Epoch 40/250\n",
            "1/4 [======>.......................] - ETA: 0s - loss: 5807.1768 - mse: 5807.1768\n",
            "Epoch 40: ReduceLROnPlateau reducing learning rate to 0.0006000000284984708.\n",
            "4/4 [==============================] - 0s 18ms/step - loss: 6431.3657 - mse: 6431.3657 - val_loss: 7782.8721 - val_mse: 7782.8721 - lr: 0.0010\n",
            "Epoch 41/250\n",
            "4/4 [==============================] - 0s 13ms/step - loss: 6414.5513 - mse: 6414.5513 - val_loss: 7572.5518 - val_mse: 7572.5518 - lr: 6.0000e-04\n",
            "Epoch 42/250\n",
            "4/4 [==============================] - 0s 13ms/step - loss: 6174.2212 - mse: 6174.2217 - val_loss: 7673.5898 - val_mse: 7673.5898 - lr: 6.0000e-04\n",
            "Epoch 43/250\n",
            "4/4 [==============================] - 0s 13ms/step - loss: 6344.0991 - mse: 6344.0991 - val_loss: 7561.5020 - val_mse: 7561.5020 - lr: 6.0000e-04\n",
            "Epoch 44/250\n",
            "4/4 [==============================] - 0s 18ms/step - loss: 6008.6284 - mse: 6008.6284 - val_loss: 7973.0112 - val_mse: 7973.0112 - lr: 6.0000e-04\n",
            "Epoch 45/250\n",
            "4/4 [==============================] - 0s 13ms/step - loss: 5966.6094 - mse: 5966.6094 - val_loss: 8251.7451 - val_mse: 8251.7451 - lr: 6.0000e-04\n",
            "Epoch 46/250\n",
            "4/4 [==============================] - 0s 13ms/step - loss: 6530.2339 - mse: 6530.2339 - val_loss: 8460.6689 - val_mse: 8460.6689 - lr: 6.0000e-04\n",
            "Epoch 47/250\n",
            "4/4 [==============================] - 0s 18ms/step - loss: 5293.3359 - mse: 5293.3359 - val_loss: 8405.2930 - val_mse: 8405.2930 - lr: 6.0000e-04\n",
            "Epoch 48/250\n",
            "4/4 [==============================] - 0s 13ms/step - loss: 5854.7153 - mse: 5854.7153 - val_loss: 8161.2520 - val_mse: 8161.2520 - lr: 6.0000e-04\n",
            "Epoch 49/250\n",
            "4/4 [==============================] - 0s 18ms/step - loss: 5886.0273 - mse: 5886.0273 - val_loss: 7278.8877 - val_mse: 7278.8877 - lr: 6.0000e-04\n",
            "Epoch 50/250\n",
            "4/4 [==============================] - 0s 17ms/step - loss: 5992.4194 - mse: 5992.4194 - val_loss: 6678.0166 - val_mse: 6678.0166 - lr: 6.0000e-04\n",
            "Epoch 51/250\n",
            "4/4 [==============================] - 0s 13ms/step - loss: 5267.3042 - mse: 5267.3042 - val_loss: 6743.2646 - val_mse: 6743.2646 - lr: 6.0000e-04\n",
            "Epoch 52/250\n",
            "4/4 [==============================] - 0s 13ms/step - loss: 5658.3794 - mse: 5658.3794 - val_loss: 7404.2324 - val_mse: 7404.2324 - lr: 6.0000e-04\n",
            "Epoch 53/250\n",
            "4/4 [==============================] - 0s 18ms/step - loss: 5370.8125 - mse: 5370.8125 - val_loss: 7804.7510 - val_mse: 7804.7510 - lr: 6.0000e-04\n",
            "Epoch 54/250\n",
            "4/4 [==============================] - 0s 17ms/step - loss: 5352.4229 - mse: 5352.4229 - val_loss: 8085.4497 - val_mse: 8085.4497 - lr: 6.0000e-04\n",
            "Epoch 55/250\n",
            "4/4 [==============================] - 0s 20ms/step - loss: 5140.1162 - mse: 5140.1162 - val_loss: 8110.3408 - val_mse: 8110.3408 - lr: 6.0000e-04\n",
            "Epoch 56/250\n",
            "4/4 [==============================] - 0s 20ms/step - loss: 5992.0527 - mse: 5992.0527 - val_loss: 7755.4854 - val_mse: 7755.4854 - lr: 6.0000e-04\n",
            "Epoch 57/250\n",
            "4/4 [==============================] - 0s 19ms/step - loss: 4737.0542 - mse: 4737.0542 - val_loss: 7420.1919 - val_mse: 7420.1919 - lr: 6.0000e-04\n",
            "Epoch 58/250\n",
            "1/4 [======>.......................] - ETA: 0s - loss: 5794.0635 - mse: 5794.0635\n",
            "Epoch 58: ReduceLROnPlateau reducing learning rate to 0.0003600000170990825.\n",
            "4/4 [==============================] - 0s 17ms/step - loss: 5604.5273 - mse: 5604.5273 - val_loss: 7724.8799 - val_mse: 7724.8799 - lr: 6.0000e-04\n",
            "Epoch 59/250\n",
            "4/4 [==============================] - 0s 20ms/step - loss: 5601.0977 - mse: 5601.0977 - val_loss: 7502.8955 - val_mse: 7502.8955 - lr: 3.6000e-04\n",
            "Epoch 60/250\n",
            "4/4 [==============================] - 0s 20ms/step - loss: 5108.6406 - mse: 5108.6406 - val_loss: 7164.6045 - val_mse: 7164.6045 - lr: 3.6000e-04\n",
            "Epoch 61/250\n",
            "4/4 [==============================] - 0s 19ms/step - loss: 4870.6816 - mse: 4870.6816 - val_loss: 6730.8530 - val_mse: 6730.8530 - lr: 3.6000e-04\n",
            "Epoch 62/250\n",
            "4/4 [==============================] - 0s 19ms/step - loss: 4541.1016 - mse: 4541.1016 - val_loss: 6694.0488 - val_mse: 6694.0488 - lr: 3.6000e-04\n",
            "Epoch 63/250\n",
            "4/4 [==============================] - 0s 20ms/step - loss: 4807.8218 - mse: 4807.8218 - val_loss: 7031.4214 - val_mse: 7031.4214 - lr: 3.6000e-04\n",
            "Epoch 64/250\n",
            "4/4 [==============================] - 0s 20ms/step - loss: 5464.0933 - mse: 5464.0933 - val_loss: 7523.6221 - val_mse: 7523.6221 - lr: 3.6000e-04\n",
            "Epoch 65/250\n",
            "4/4 [==============================] - 0s 21ms/step - loss: 4810.0913 - mse: 4810.0913 - val_loss: 7958.9580 - val_mse: 7958.9580 - lr: 3.6000e-04\n",
            "Epoch 66/250\n",
            "1/4 [======>.......................] - ETA: 0s - loss: 4503.0107 - mse: 4503.0107\n",
            "Epoch 66: ReduceLROnPlateau reducing learning rate to 0.00021600000327453016.\n",
            "4/4 [==============================] - 0s 18ms/step - loss: 5162.5581 - mse: 5162.5581 - val_loss: 7629.4067 - val_mse: 7629.4067 - lr: 3.6000e-04\n",
            "Epoch 67/250\n",
            "4/4 [==============================] - 0s 17ms/step - loss: 4632.3477 - mse: 4632.3477 - val_loss: 7296.9585 - val_mse: 7296.9585 - lr: 2.1600e-04\n",
            "Epoch 68/250\n",
            "4/4 [==============================] - 0s 16ms/step - loss: 5031.0859 - mse: 5031.0859 - val_loss: 7238.9507 - val_mse: 7238.9507 - lr: 2.1600e-04\n",
            "Epoch 69/250\n",
            "4/4 [==============================] - 0s 19ms/step - loss: 5097.2632 - mse: 5097.2632 - val_loss: 7159.9805 - val_mse: 7159.9805 - lr: 2.1600e-04\n",
            "Epoch 70/250\n",
            "4/4 [==============================] - 0s 14ms/step - loss: 4995.0288 - mse: 4995.0288 - val_loss: 7202.5220 - val_mse: 7202.5220 - lr: 2.1600e-04\n",
            "Epoch 71/250\n",
            "4/4 [==============================] - 0s 13ms/step - loss: 5026.1162 - mse: 5026.1162 - val_loss: 7227.1997 - val_mse: 7227.1997 - lr: 2.1600e-04\n",
            "Epoch 72/250\n",
            "4/4 [==============================] - 0s 13ms/step - loss: 4759.1392 - mse: 4759.1392 - val_loss: 7359.8530 - val_mse: 7359.8530 - lr: 2.1600e-04\n",
            "Epoch 73/250\n",
            "4/4 [==============================] - 0s 16ms/step - loss: 4970.2368 - mse: 4970.2368 - val_loss: 7353.1440 - val_mse: 7353.1440 - lr: 2.1600e-04\n",
            "Epoch 74/250\n",
            "1/4 [======>.......................] - ETA: 0s - loss: 5024.2051 - mse: 5024.2051\n",
            "Epoch 74: ReduceLROnPlateau reducing learning rate to 0.00012960000021848827.\n",
            "4/4 [==============================] - 0s 19ms/step - loss: 4998.0034 - mse: 4998.0034 - val_loss: 7107.7900 - val_mse: 7107.7900 - lr: 2.1600e-04\n",
            "Epoch 75/250\n",
            "4/4 [==============================] - 0s 15ms/step - loss: 4787.8037 - mse: 4787.8037 - val_loss: 7185.4126 - val_mse: 7185.4126 - lr: 1.2960e-04\n"
          ]
        }
      ]
    },
    {
      "cell_type": "code",
      "source": [
        "plt.plot(history.history['loss'])\n",
        "plt.plot(history.history['val_loss'])\n",
        "plt.title('model loss')\n",
        "plt.ylabel('loss')\n",
        "plt.xlabel('epoch')\n",
        "plt.legend(['train', 'val'], loc='upper left')\n",
        "plt.show()"
      ],
      "metadata": {
        "id": "DPKLX9FzXr8w",
        "colab": {
          "base_uri": "https://localhost:8080/",
          "height": 295
        },
        "outputId": "cebdfa22-b27e-47db-ac15-c1b1c90db1df"
      },
      "execution_count": 13,
      "outputs": [
        {
          "output_type": "display_data",
          "data": {
            "text/plain": [
              "<Figure size 432x288 with 1 Axes>"
            ],
            "image/png": "[encoded data removed]"
          },
          "metadata": {
            "needs_background": "light"
          }
        }
      ]
    },
    {
      "cell_type": "code",
      "source": [
        "preds = model.predict(X_test)\n",
        "scores = np.mean(np.power(X_test - preds, 2), axis=1)\n",
        "scores_to_define_threshold = np.mean(np.power(X_test - preds, 2), axis=1)\n",
        "plt.hist(scores, bins=50)"
      ],
      "metadata": {
        "id": "u9FslqqYAn9C",
        "colab": {
          "base_uri": "https://localhost:8080/",
          "height": 577
        },
        "outputId": "b4759bf7-b72a-4a84-f887-39f9cab712c6"
      },
      "execution_count": 14,
      "outputs": [
        {
          "output_type": "execute_result",
          "data": {
            "text/plain": [
              "(array([78., 12.,  7.,  3.,  4.,  0.,  3.,  4.,  2.,  3.,  0.,  1.,  2.,\n",
              "         0.,  1.,  4.,  2.,  0.,  2.,  1.,  0.,  1.,  0.,  0.,  5.,  2.,\n",
              "         3.,  1.,  2.,  0.,  1.,  1.,  3.,  1.,  1.,  2.,  1.,  5.,  2.,\n",
              "         7.,  6.,  6.,  4.,  4.,  4.,  4.,  3.,  3.,  5., 39.]),\n",
              " array([  460.96560501,   773.73931053,  1086.51301605,  1399.28672156,\n",
              "         1712.06042708,  2024.8341326 ,  2337.60783811,  2650.38154363,\n",
              "         2963.15524915,  3275.92895466,  3588.70266018,  3901.4763657 ,\n",
              "         4214.25007121,  4527.02377673,  4839.79748225,  5152.57118776,\n",
              "         5465.34489328,  5778.1185988 ,  6090.89230431,  6403.66600983,\n",
              "         6716.43971535,  7029.21342086,  7341.98712638,  7654.7608319 ,\n",
              "         7967.53453741,  8280.30824293,  8593.08194845,  8905.85565397,\n",
              "         9218.62935948,  9531.403065  ,  9844.17677052, 10156.95047603,\n",
              "        10469.72418155, 10782.49788707, 11095.27159258, 11408.0452981 ,\n",
              "        11720.81900362, 12033.59270913, 12346.36641465, 12659.14012017,\n",
              "        12971.91382568, 13284.6875312 , 13597.46123672, 13910.23494223,\n",
              "        14223.00864775, 14535.78235327, 14848.55605878, 15161.3297643 ,\n",
              "        15474.10346982, 15786.87717533, 16099.65088085]),\n",
              " <a list of 50 Patch objects>)"
            ]
          },
          "metadata": {},
          "execution_count": 14
        },
        {
          "output_type": "display_data",
          "data": {
            "text/plain": [
              "<Figure size 432x288 with 1 Axes>"
            ],
            "image/png": "[encoded data removed]"
          },
          "metadata": {
            "needs_background": "light"
          }
        }
      ]
    },
    {
      "cell_type": "code",
      "source": [
        "threshold = 2000\n",
        "scores[scores < threshold] = -999\n",
        "scores[scores >= threshold] = int(-1)\n",
        "scores[scores == -999] = int(1)\n",
        "scores[scores.isna()] = int(1)\n",
        "y_pred = np.array(scores)"
      ],
      "metadata": {
        "id": "W31Ar9MavKW9"
      },
      "execution_count": 15,
      "outputs": []
    },
    {
      "cell_type": "code",
      "source": [
        "def get_confusion_matrix(y_real, y_pred, model_name=None):\n",
        "    y_real_list = list(y_real)\n",
        "    y_pred_list = list(y_pred)\n",
        "    cm = confusion_matrix(y_true=y_real_list, y_pred=y_pred_list)\n",
        "    ax = sns.heatmap(cm, annot=True, cmap='Blues')\n",
        "\n",
        "    ax.set_title(model_name + ' Confusion Matrix with labels')\n",
        "    ax.set_xlabel('Predicted Values')\n",
        "    ax.set_ylabel('Actual Values')\n",
        "\n",
        "    # Ticket labels - As listas devem estar em ordem alfabetica\n",
        "    ax.xaxis.set_ticklabels(['-1', '1'])\n",
        "    ax.yaxis.set_ticklabels(['-1', '1'])\n",
        "    plt.show()\n",
        "    return cm"
      ],
      "metadata": {
        "id": "zK4fNVzGDWTS"
      },
      "execution_count": 16,
      "outputs": []
    },
    {
      "cell_type": "code",
      "source": [
        "# Calcula todas as métricas e exibe a matriz de confusão\n",
        "cm = get_confusion_matrix(y_real=y_test, y_pred=y_pred, model_name=\"Autoencoder\")\n",
        "\n",
        "ret = precision_recall_fscore_support(y_test, y_pred, average='micro')\n",
        "print(ret)\n",
        "# p, r, f1, _ = ret"
      ],
      "metadata": {
        "colab": {
          "base_uri": "https://localhost:8080/",
          "height": 312
        },
        "id": "yFEFsG0ZCtb6",
        "outputId": "29ec2799-1cfe-463b-cb2d-a40d187dd994"
      },
      "execution_count": 17,
      "outputs": [
        {
          "output_type": "display_data",
          "data": {
            "text/plain": [
              "<Figure size 432x288 with 2 Axes>"
            ],
            "image/png": "[encoded data removed]"
          },
          "metadata": {
            "needs_background": "light"
          }
        },
        {
          "output_type": "stream",
          "name": "stdout",
          "text": [
            "(0.8122448979591836, 0.8122448979591836, 0.8122448979591836, None)\n"
          ]
        }
      ]
    },
    {
      "cell_type": "markdown",
      "source": [
        "Vamos encontrar o melhor valor de threshold"
      ],
      "metadata": {
        "id": "cxKxl5C5LiNx"
      }
    },
    {
      "cell_type": "code",
      "source": [
        "erros = [(i, val_y_test, val_y_pred, scores_to_define_threshold[i]) for i, (val_y_test, val_y_pred) in enumerate(zip(y_test, y_pred)) if val_y_test != val_y_pred]\n",
        "erros[:5]"
      ],
      "metadata": {
        "id": "tmpPxfuZLwyg",
        "colab": {
          "base_uri": "https://localhost:8080/"
        },
        "outputId": "6ee48f02-ea00-43a9-a134-183f724be9c1"
      },
      "execution_count": 18,
      "outputs": [
        {
          "output_type": "execute_result",
          "data": {
            "text/plain": [
              "[(87, -1.0, 1.0, 567.8847903435028),\n",
              " (88, -1.0, 1.0, 1275.490437712079),\n",
              " (92, -1.0, 1.0, 1433.6655359433628),\n",
              " (98, -1.0, 1.0, 538.8230550190376),\n",
              " (99, -1.0, 1.0, 923.0012754223642)]"
            ]
          },
          "metadata": {},
          "execution_count": 18
        }
      ]
    },
    {
      "cell_type": "code",
      "source": [
        "preds = model.predict(X_test)\n",
        "scores = np.mean(np.power(X_test - preds, 2), axis=1)\n",
        "\n",
        "threshold = 494.25\n",
        "scores[scores < threshold] = -999\n",
        "scores[scores >= threshold] = int(-1)\n",
        "scores[scores == -999] = int(1)\n",
        "scores[scores.isna()] = int(1)\n",
        "y_pred = np.array(scores)"
      ],
      "metadata": {
        "id": "jqzFL74AFk8M"
      },
      "execution_count": 19,
      "outputs": []
    },
    {
      "cell_type": "code",
      "source": [
        "cm = get_confusion_matrix(y_real=y_test, y_pred=y_pred, model_name=\"Autoencoder\")\n",
        "\n",
        "ret = precision_recall_fscore_support(y_test, y_pred, average='micro')\n",
        "print(ret)"
      ],
      "metadata": {
        "colab": {
          "base_uri": "https://localhost:8080/",
          "height": 312
        },
        "id": "XpFprGLZF5Nb",
        "outputId": "8e9ebb28-59cd-497c-a240-d1358f9cded2"
      },
      "execution_count": 20,
      "outputs": [
        {
          "output_type": "display_data",
          "data": {
            "text/plain": [
              "<Figure size 432x288 with 2 Axes>"
            ],
            "image/png": "[encoded data removed]"
          },
          "metadata": {
            "needs_background": "light"
          }
        },
        {
          "output_type": "stream",
          "name": "stdout",
          "text": [
            "(1.0, 1.0, 1.0, None)\n"
          ]
        }
      ]
    },
    {
      "cell_type": "markdown",
      "source": [
        "#### Aplicando sobre o dataset de validação"
      ],
      "metadata": {
        "id": "xesyg0sJXpkW"
      }
    },
    {
      "cell_type": "code",
      "source": [
        "preds_val = model.predict(X_val)\n",
        "scores_val = np.mean(np.power(X_val - preds_val, 2), axis=1)\n",
        "\n",
        "scores_val[scores_val < threshold] = -999\n",
        "scores_val[scores_val >= threshold] = int(-1)\n",
        "scores_val[scores_val == -999] = int(1)\n",
        "scores_val[scores_val.isna()] = int(1)\n",
        "y_val_pred = np.array(scores_val)"
      ],
      "metadata": {
        "id": "OSadOG8SXrCJ"
      },
      "execution_count": 21,
      "outputs": []
    },
    {
      "cell_type": "code",
      "source": [
        "cm_val = get_confusion_matrix(y_real=y_val, y_pred=y_val_pred, model_name=\"Autoencoder\")\n",
        "\n",
        "ret_val = precision_recall_fscore_support(y_val, y_val_pred, average='micro')\n",
        "print(ret_val)"
      ],
      "metadata": {
        "id": "EI3c4eZsXrhO",
        "colab": {
          "base_uri": "https://localhost:8080/",
          "height": 312
        },
        "outputId": "a644ff54-bae4-4415-b4f5-a5acc9f72952"
      },
      "execution_count": 22,
      "outputs": [
        {
          "output_type": "display_data",
          "data": {
            "text/plain": [
              "<Figure size 432x288 with 2 Axes>"
            ],
            "image/png": "[encoded data removed]"
          },
          "metadata": {
            "needs_background": "light"
          }
        },
        {
          "output_type": "stream",
          "name": "stdout",
          "text": [
            "(1.0, 1.0, 1.0, None)\n"
          ]
        }
      ]
    },
    {
      "cell_type": "markdown",
      "source": [
        " ### Autoencoder + SVC"
      ],
      "metadata": {
        "id": "qWG2vgy5YNs2"
      }
    },
    {
      "cell_type": "markdown",
      "source": [
        "#### Treino"
      ],
      "metadata": {
        "id": "KN16FQAGXtbe"
      }
    },
    {
      "cell_type": "code",
      "source": [
        "import numpy as np\n",
        "import random\n",
        "import pandas as pd\n",
        "import matplotlib.pyplot as plt\n",
        "from sklearn.metrics import precision_recall_fscore_support\n",
        "from sklearn.metrics import confusion_matrix\n",
        "import seaborn as sns\n",
        "import tensorflow\n",
        "from tensorflow.keras import Model\n",
        "from tensorflow.keras.layers import Input, Dense, Dropout, BatchNormalization\n",
        "from tensorflow.keras.optimizers import Adam\n",
        "from tensorflow.keras import regularizers\n",
        "from tensorflow.keras.callbacks import EarlyStopping, ReduceLROnPlateau\n",
        "import logging\n",
        "\n",
        "\n",
        "\n",
        "\n",
        "# set random seed for reproducibility\n",
        "tensorflow.random.set_seed(2022)\n",
        "np.random.seed(2022)\n",
        "np.random.RandomState(2022)\n",
        "random.seed(2022)"
      ],
      "metadata": {
        "id": "RVzZ3J7xXwnn"
      },
      "execution_count": 23,
      "outputs": []
    },
    {
      "cell_type": "code",
      "source": [
        "# definição do modelo\n",
        "\n",
        "input_feats = X_train.shape[1]\n",
        "hidden_neurons = [64, 16]\n",
        "latent_dim = 8\n",
        "\n",
        "# Encoder\n",
        "inputs = Input(shape=(input_feats,), name='encoder_input')\n",
        "enc_hidden = Dense(hidden_neurons[0], activation='linear', name='encoder_hidden_0')(inputs)\n",
        "enc_hidden = Dropout(0.15)(enc_hidden)\n",
        "enc_hidden = Dense(hidden_neurons[1], activation='linear', name='encoder_hidden_1')(enc_hidden)\n",
        "enc_hidden = Dropout(0.25)(enc_hidden)\n",
        "\n",
        "# Camda Latente\n",
        "z_ = Dense(latent_dim, name='z_')(enc_hidden)\n",
        "\n",
        "encoder = Model(inputs, z_, name='encoder')\n",
        "logging.info(encoder.summary())\n",
        "\n",
        "# Decoder\n",
        "latent_inputs = Input(shape=(latent_dim,), name='z_')\n",
        "dec_hidden = Dense(hidden_neurons[1], activation='linear', name='decoder_hidden_0')(latent_inputs)\n",
        "dec_hidden = Dropout(0.15)(dec_hidden)\n",
        "dec_hidden = Dense(hidden_neurons[0], activation='linear', name='decoder_hidden_1')(dec_hidden)\n",
        "dec_hidden = Dropout(0.25)(dec_hidden)\n",
        "\n",
        "\n",
        "outputs = Dense(input_feats, activation='linear',\n",
        "                name='decoder_output')(dec_hidden)\n",
        "\n",
        "decoder = Model(latent_inputs, outputs, name='decoder')\n",
        "logging.info(decoder.summary())\n",
        "\n",
        "\n",
        "outputs = decoder(encoder(inputs))\n",
        "\n",
        "model = Model(inputs, outputs, name='ae')\n",
        "\n",
        "optimizer = Adam(learning_rate=0.001)\n",
        "model.compile(optimizer=optimizer, loss=\"mse\", metrics='mse');"
      ],
      "metadata": {
        "id": "Lx6owKYHX7jS",
        "colab": {
          "base_uri": "https://localhost:8080/"
        },
        "outputId": "ad3e547e-a119-4936-e769-73a9263ad62f"
      },
      "execution_count": 24,
      "outputs": [
        {
          "output_type": "stream",
          "name": "stdout",
          "text": [
            "Model: \"encoder\"\n",
            "_________________________________________________________________\n",
            " Layer (type)                Output Shape              Param #   \n",
            "=================================================================\n",
            " encoder_input (InputLayer)  [(None, 40)]              0         \n",
            "                                                                 \n",
            " encoder_hidden_0 (Dense)    (None, 64)                2624      \n",
            "                                                                 \n",
            " dropout_4 (Dropout)         (None, 64)                0         \n",
            "                                                                 \n",
            " encoder_hidden_1 (Dense)    (None, 16)                1040      \n",
            "                                                                 \n",
            " dropout_5 (Dropout)         (None, 16)                0         \n",
            "                                                                 \n",
            " z_ (Dense)                  (None, 8)                 136       \n",
            "                                                                 \n",
            "=================================================================\n",
            "Total params: 3,800\n",
            "Trainable params: 3,800\n",
            "Non-trainable params: 0\n",
            "_________________________________________________________________\n",
            "Model: \"decoder\"\n",
            "_________________________________________________________________\n",
            " Layer (type)                Output Shape              Param #   \n",
            "=================================================================\n",
            " z_ (InputLayer)             [(None, 8)]               0         \n",
            "                                                                 \n",
            " decoder_hidden_0 (Dense)    (None, 16)                144       \n",
            "                                                                 \n",
            " dropout_6 (Dropout)         (None, 16)                0         \n",
            "                                                                 \n",
            " decoder_hidden_1 (Dense)    (None, 64)                1088      \n",
            "                                                                 \n",
            " dropout_7 (Dropout)         (None, 64)                0         \n",
            "                                                                 \n",
            " decoder_output (Dense)      (None, 40)                2600      \n",
            "                                                                 \n",
            "=================================================================\n",
            "Total params: 3,832\n",
            "Trainable params: 3,832\n",
            "Non-trainable params: 0\n",
            "_________________________________________________________________\n"
          ]
        }
      ]
    },
    {
      "cell_type": "code",
      "source": [
        "monitor = 'val_mse'\n",
        "lr_reduce = ReduceLROnPlateau(monitor=monitor, factor=0.6, min_delta=0.0001, patience=8, verbose=1)\n",
        "early = EarlyStopping(monitor=monitor, mode=\"min\", patience=25)\n",
        "kwargs = {}\n",
        "kwargs['epochs'] = 250\n",
        "kwargs['batch_size'] = 32\n",
        "kwargs['shuffle'] = True\n",
        "kwargs['validation_data'] = (X_test, X_test)\n",
        "kwargs['verbose'] = 1\n",
        "kwargs['callbacks'] = [early, lr_reduce]\n",
        "\n",
        "history = model.fit(X_train, X_train, **kwargs)"
      ],
      "metadata": {
        "id": "Usbvh2oyX7ld",
        "colab": {
          "base_uri": "https://localhost:8080/"
        },
        "outputId": "d0f727d7-10e8-467f-df7d-81526333de73"
      },
      "execution_count": 25,
      "outputs": [
        {
          "output_type": "stream",
          "name": "stdout",
          "text": [
            "Epoch 1/250\n",
            "4/4 [==============================] - 1s 75ms/step - loss: 115121.0781 - mse: 115121.0781 - val_loss: 46939.8008 - val_mse: 46939.8008 - lr: 0.0010\n",
            "Epoch 2/250\n",
            "4/4 [==============================] - 0s 16ms/step - loss: 61382.7188 - mse: 61382.7188 - val_loss: 34509.7500 - val_mse: 34509.7500 - lr: 0.0010\n",
            "Epoch 3/250\n",
            "4/4 [==============================] - 0s 20ms/step - loss: 47898.3203 - mse: 47898.3203 - val_loss: 32331.9199 - val_mse: 32331.9199 - lr: 0.0010\n",
            "Epoch 4/250\n",
            "4/4 [==============================] - 0s 18ms/step - loss: 46272.7188 - mse: 46272.7188 - val_loss: 31399.2578 - val_mse: 31399.2578 - lr: 0.0010\n",
            "Epoch 5/250\n",
            "4/4 [==============================] - 0s 19ms/step - loss: 43672.4492 - mse: 43672.4492 - val_loss: 30465.0625 - val_mse: 30465.0625 - lr: 0.0010\n",
            "Epoch 6/250\n",
            "4/4 [==============================] - 0s 20ms/step - loss: 38682.4570 - mse: 38682.4570 - val_loss: 29276.2559 - val_mse: 29276.2559 - lr: 0.0010\n",
            "Epoch 7/250\n",
            "4/4 [==============================] - 0s 17ms/step - loss: 33818.7891 - mse: 33818.7891 - val_loss: 27005.9141 - val_mse: 27005.9141 - lr: 0.0010\n",
            "Epoch 8/250\n",
            "4/4 [==============================] - 0s 20ms/step - loss: 28008.1367 - mse: 28008.1367 - val_loss: 23379.2910 - val_mse: 23379.2910 - lr: 0.0010\n",
            "Epoch 9/250\n",
            "4/4 [==============================] - 0s 19ms/step - loss: 26217.1914 - mse: 26217.1914 - val_loss: 19191.5566 - val_mse: 19191.5566 - lr: 0.0010\n",
            "Epoch 10/250\n",
            "4/4 [==============================] - 0s 19ms/step - loss: 21743.1699 - mse: 21743.1699 - val_loss: 15560.9023 - val_mse: 15560.9023 - lr: 0.0010\n",
            "Epoch 11/250\n",
            "4/4 [==============================] - 0s 18ms/step - loss: 20357.5000 - mse: 20357.5000 - val_loss: 13930.4385 - val_mse: 13930.4385 - lr: 0.0010\n",
            "Epoch 12/250\n",
            "4/4 [==============================] - 0s 21ms/step - loss: 17759.6035 - mse: 17759.6035 - val_loss: 14368.1904 - val_mse: 14368.1904 - lr: 0.0010\n",
            "Epoch 13/250\n",
            "4/4 [==============================] - 0s 15ms/step - loss: 17424.0625 - mse: 17424.0625 - val_loss: 13853.7861 - val_mse: 13853.7861 - lr: 0.0010\n",
            "Epoch 14/250\n",
            "4/4 [==============================] - 0s 16ms/step - loss: 15672.8916 - mse: 15672.8916 - val_loss: 12335.5273 - val_mse: 12335.5273 - lr: 0.0010\n",
            "Epoch 15/250\n",
            "4/4 [==============================] - 0s 14ms/step - loss: 16057.8936 - mse: 16057.8936 - val_loss: 11067.1602 - val_mse: 11067.1602 - lr: 0.0010\n",
            "Epoch 16/250\n",
            "4/4 [==============================] - 0s 16ms/step - loss: 12747.2695 - mse: 12747.2695 - val_loss: 11883.7080 - val_mse: 11883.7080 - lr: 0.0010\n",
            "Epoch 17/250\n",
            "4/4 [==============================] - 0s 14ms/step - loss: 13143.9902 - mse: 13143.9902 - val_loss: 13160.4072 - val_mse: 13160.4072 - lr: 0.0010\n",
            "Epoch 18/250\n",
            "4/4 [==============================] - 0s 16ms/step - loss: 13447.0439 - mse: 13447.0439 - val_loss: 12026.8691 - val_mse: 12026.8691 - lr: 0.0010\n",
            "Epoch 19/250\n",
            "4/4 [==============================] - 0s 12ms/step - loss: 11512.1162 - mse: 11512.1162 - val_loss: 11694.6855 - val_mse: 11694.6855 - lr: 0.0010\n",
            "Epoch 20/250\n",
            "4/4 [==============================] - 0s 17ms/step - loss: 10755.7754 - mse: 10755.7754 - val_loss: 11314.7676 - val_mse: 11314.7676 - lr: 0.0010\n",
            "Epoch 21/250\n",
            "4/4 [==============================] - 0s 18ms/step - loss: 10677.2979 - mse: 10677.2979 - val_loss: 11471.5303 - val_mse: 11471.5303 - lr: 0.0010\n",
            "Epoch 22/250\n",
            "4/4 [==============================] - 0s 13ms/step - loss: 11095.1025 - mse: 11095.1025 - val_loss: 10480.9854 - val_mse: 10480.9854 - lr: 0.0010\n",
            "Epoch 23/250\n",
            "4/4 [==============================] - 0s 14ms/step - loss: 10633.9346 - mse: 10633.9346 - val_loss: 11612.3037 - val_mse: 11612.3037 - lr: 0.0010\n",
            "Epoch 24/250\n",
            "4/4 [==============================] - 0s 13ms/step - loss: 10576.1279 - mse: 10576.1279 - val_loss: 10874.7188 - val_mse: 10874.7188 - lr: 0.0010\n",
            "Epoch 25/250\n",
            "4/4 [==============================] - 0s 17ms/step - loss: 9207.7578 - mse: 9207.7578 - val_loss: 9242.4512 - val_mse: 9242.4512 - lr: 0.0010\n",
            "Epoch 26/250\n",
            "4/4 [==============================] - 0s 14ms/step - loss: 9181.2822 - mse: 9181.2822 - val_loss: 9820.4492 - val_mse: 9820.4492 - lr: 0.0010\n",
            "Epoch 27/250\n",
            "4/4 [==============================] - 0s 13ms/step - loss: 8718.2051 - mse: 8718.2051 - val_loss: 9914.6484 - val_mse: 9914.6484 - lr: 0.0010\n",
            "Epoch 28/250\n",
            "4/4 [==============================] - 0s 18ms/step - loss: 8235.3887 - mse: 8235.3887 - val_loss: 9207.6260 - val_mse: 9207.6260 - lr: 0.0010\n",
            "Epoch 29/250\n",
            "4/4 [==============================] - 0s 18ms/step - loss: 8830.7959 - mse: 8830.7959 - val_loss: 8998.4160 - val_mse: 8998.4160 - lr: 0.0010\n",
            "Epoch 30/250\n",
            "4/4 [==============================] - 0s 17ms/step - loss: 8163.1338 - mse: 8163.1338 - val_loss: 10556.7930 - val_mse: 10556.7930 - lr: 0.0010\n",
            "Epoch 31/250\n",
            "4/4 [==============================] - 0s 19ms/step - loss: 7807.6455 - mse: 7807.6455 - val_loss: 9486.2852 - val_mse: 9486.2852 - lr: 0.0010\n",
            "Epoch 32/250\n",
            "4/4 [==============================] - 0s 15ms/step - loss: 7422.4585 - mse: 7422.4585 - val_loss: 7577.4780 - val_mse: 7577.4780 - lr: 0.0010\n",
            "Epoch 33/250\n",
            "4/4 [==============================] - 0s 19ms/step - loss: 8199.0498 - mse: 8199.0488 - val_loss: 9997.3945 - val_mse: 9997.3945 - lr: 0.0010\n",
            "Epoch 34/250\n",
            "4/4 [==============================] - 0s 20ms/step - loss: 7246.2988 - mse: 7246.2988 - val_loss: 10894.5586 - val_mse: 10894.5586 - lr: 0.0010\n",
            "Epoch 35/250\n",
            "4/4 [==============================] - 0s 18ms/step - loss: 6830.8892 - mse: 6830.8892 - val_loss: 8089.7603 - val_mse: 8089.7603 - lr: 0.0010\n",
            "Epoch 36/250\n",
            "4/4 [==============================] - 0s 17ms/step - loss: 7388.7271 - mse: 7388.7271 - val_loss: 8163.6562 - val_mse: 8163.6562 - lr: 0.0010\n",
            "Epoch 37/250\n",
            "4/4 [==============================] - 0s 16ms/step - loss: 7456.7305 - mse: 7456.7305 - val_loss: 8974.5703 - val_mse: 8974.5703 - lr: 0.0010\n",
            "Epoch 38/250\n",
            "4/4 [==============================] - 0s 20ms/step - loss: 7028.5664 - mse: 7028.5664 - val_loss: 9219.2715 - val_mse: 9219.2715 - lr: 0.0010\n",
            "Epoch 39/250\n",
            "4/4 [==============================] - 0s 19ms/step - loss: 6365.4414 - mse: 6365.4414 - val_loss: 8914.5723 - val_mse: 8914.5723 - lr: 0.0010\n",
            "Epoch 40/250\n",
            "1/4 [======>.......................] - ETA: 0s - loss: 5807.1768 - mse: 5807.1768\n",
            "Epoch 40: ReduceLROnPlateau reducing learning rate to 0.0006000000284984708.\n",
            "4/4 [==============================] - 0s 20ms/step - loss: 6431.3657 - mse: 6431.3657 - val_loss: 7782.8721 - val_mse: 7782.8721 - lr: 0.0010\n",
            "Epoch 41/250\n",
            "4/4 [==============================] - 0s 16ms/step - loss: 6414.5513 - mse: 6414.5513 - val_loss: 7572.5518 - val_mse: 7572.5518 - lr: 6.0000e-04\n",
            "Epoch 42/250\n",
            "4/4 [==============================] - 0s 18ms/step - loss: 6174.2212 - mse: 6174.2217 - val_loss: 7673.5898 - val_mse: 7673.5898 - lr: 6.0000e-04\n",
            "Epoch 43/250\n",
            "4/4 [==============================] - 0s 19ms/step - loss: 6344.0991 - mse: 6344.0991 - val_loss: 7561.5020 - val_mse: 7561.5020 - lr: 6.0000e-04\n",
            "Epoch 44/250\n",
            "4/4 [==============================] - 0s 17ms/step - loss: 6008.6284 - mse: 6008.6284 - val_loss: 7973.0112 - val_mse: 7973.0112 - lr: 6.0000e-04\n",
            "Epoch 45/250\n",
            "4/4 [==============================] - 0s 16ms/step - loss: 5966.6094 - mse: 5966.6094 - val_loss: 8251.7451 - val_mse: 8251.7451 - lr: 6.0000e-04\n",
            "Epoch 46/250\n",
            "4/4 [==============================] - 0s 16ms/step - loss: 6530.2339 - mse: 6530.2339 - val_loss: 8460.6689 - val_mse: 8460.6689 - lr: 6.0000e-04\n",
            "Epoch 47/250\n",
            "4/4 [==============================] - 0s 24ms/step - loss: 5293.3359 - mse: 5293.3359 - val_loss: 8405.2930 - val_mse: 8405.2930 - lr: 6.0000e-04\n",
            "Epoch 48/250\n",
            "4/4 [==============================] - 0s 17ms/step - loss: 5854.7153 - mse: 5854.7153 - val_loss: 8161.2520 - val_mse: 8161.2520 - lr: 6.0000e-04\n",
            "Epoch 49/250\n",
            "4/4 [==============================] - 0s 19ms/step - loss: 5886.0273 - mse: 5886.0273 - val_loss: 7278.8877 - val_mse: 7278.8877 - lr: 6.0000e-04\n",
            "Epoch 50/250\n",
            "4/4 [==============================] - 0s 19ms/step - loss: 5992.4194 - mse: 5992.4194 - val_loss: 6678.0166 - val_mse: 6678.0166 - lr: 6.0000e-04\n",
            "Epoch 51/250\n",
            "4/4 [==============================] - 0s 19ms/step - loss: 5267.3042 - mse: 5267.3042 - val_loss: 6743.2646 - val_mse: 6743.2646 - lr: 6.0000e-04\n",
            "Epoch 52/250\n",
            "4/4 [==============================] - 0s 21ms/step - loss: 5658.3794 - mse: 5658.3794 - val_loss: 7404.2324 - val_mse: 7404.2324 - lr: 6.0000e-04\n",
            "Epoch 53/250\n",
            "4/4 [==============================] - 0s 17ms/step - loss: 5370.8125 - mse: 5370.8125 - val_loss: 7804.7510 - val_mse: 7804.7510 - lr: 6.0000e-04\n",
            "Epoch 54/250\n",
            "4/4 [==============================] - 0s 22ms/step - loss: 5352.4229 - mse: 5352.4229 - val_loss: 8085.4497 - val_mse: 8085.4497 - lr: 6.0000e-04\n",
            "Epoch 55/250\n",
            "4/4 [==============================] - 0s 16ms/step - loss: 5140.1162 - mse: 5140.1162 - val_loss: 8110.3408 - val_mse: 8110.3408 - lr: 6.0000e-04\n",
            "Epoch 56/250\n",
            "4/4 [==============================] - 0s 20ms/step - loss: 5992.0527 - mse: 5992.0527 - val_loss: 7755.4854 - val_mse: 7755.4854 - lr: 6.0000e-04\n",
            "Epoch 57/250\n",
            "4/4 [==============================] - 0s 17ms/step - loss: 4737.0542 - mse: 4737.0542 - val_loss: 7420.1919 - val_mse: 7420.1919 - lr: 6.0000e-04\n",
            "Epoch 58/250\n",
            "1/4 [======>.......................] - ETA: 0s - loss: 5794.0635 - mse: 5794.0635\n",
            "Epoch 58: ReduceLROnPlateau reducing learning rate to 0.0003600000170990825.\n",
            "4/4 [==============================] - 0s 20ms/step - loss: 5604.5273 - mse: 5604.5273 - val_loss: 7724.8799 - val_mse: 7724.8799 - lr: 6.0000e-04\n",
            "Epoch 59/250\n",
            "4/4 [==============================] - 0s 20ms/step - loss: 5601.0977 - mse: 5601.0977 - val_loss: 7502.8955 - val_mse: 7502.8955 - lr: 3.6000e-04\n",
            "Epoch 60/250\n",
            "4/4 [==============================] - 0s 20ms/step - loss: 5108.6406 - mse: 5108.6406 - val_loss: 7164.6045 - val_mse: 7164.6045 - lr: 3.6000e-04\n",
            "Epoch 61/250\n",
            "4/4 [==============================] - 0s 16ms/step - loss: 4870.6816 - mse: 4870.6816 - val_loss: 6730.8530 - val_mse: 6730.8530 - lr: 3.6000e-04\n",
            "Epoch 62/250\n",
            "4/4 [==============================] - 0s 18ms/step - loss: 4541.1016 - mse: 4541.1016 - val_loss: 6694.0488 - val_mse: 6694.0488 - lr: 3.6000e-04\n",
            "Epoch 63/250\n",
            "4/4 [==============================] - 0s 18ms/step - loss: 4807.8218 - mse: 4807.8218 - val_loss: 7031.4214 - val_mse: 7031.4214 - lr: 3.6000e-04\n",
            "Epoch 64/250\n",
            "4/4 [==============================] - 0s 18ms/step - loss: 5464.0933 - mse: 5464.0933 - val_loss: 7523.6221 - val_mse: 7523.6221 - lr: 3.6000e-04\n",
            "Epoch 65/250\n",
            "4/4 [==============================] - 0s 17ms/step - loss: 4810.0913 - mse: 4810.0913 - val_loss: 7958.9580 - val_mse: 7958.9580 - lr: 3.6000e-04\n",
            "Epoch 66/250\n",
            "1/4 [======>.......................] - ETA: 0s - loss: 4503.0107 - mse: 4503.0107\n",
            "Epoch 66: ReduceLROnPlateau reducing learning rate to 0.00021600000327453016.\n",
            "4/4 [==============================] - 0s 18ms/step - loss: 5162.5581 - mse: 5162.5581 - val_loss: 7629.4067 - val_mse: 7629.4067 - lr: 3.6000e-04\n",
            "Epoch 67/250\n",
            "4/4 [==============================] - 0s 17ms/step - loss: 4632.3477 - mse: 4632.3477 - val_loss: 7296.9585 - val_mse: 7296.9585 - lr: 2.1600e-04\n",
            "Epoch 68/250\n",
            "4/4 [==============================] - 0s 18ms/step - loss: 5031.0859 - mse: 5031.0859 - val_loss: 7238.9507 - val_mse: 7238.9507 - lr: 2.1600e-04\n",
            "Epoch 69/250\n",
            "4/4 [==============================] - 0s 21ms/step - loss: 5097.2632 - mse: 5097.2632 - val_loss: 7159.9805 - val_mse: 7159.9805 - lr: 2.1600e-04\n",
            "Epoch 70/250\n",
            "4/4 [==============================] - 0s 17ms/step - loss: 4995.0288 - mse: 4995.0288 - val_loss: 7202.5220 - val_mse: 7202.5220 - lr: 2.1600e-04\n",
            "Epoch 71/250\n",
            "4/4 [==============================] - 0s 19ms/step - loss: 5026.1162 - mse: 5026.1162 - val_loss: 7227.1997 - val_mse: 7227.1997 - lr: 2.1600e-04\n",
            "Epoch 72/250\n",
            "4/4 [==============================] - 0s 20ms/step - loss: 4759.1392 - mse: 4759.1392 - val_loss: 7359.8530 - val_mse: 7359.8530 - lr: 2.1600e-04\n",
            "Epoch 73/250\n",
            "4/4 [==============================] - 0s 23ms/step - loss: 4970.2368 - mse: 4970.2368 - val_loss: 7353.1440 - val_mse: 7353.1440 - lr: 2.1600e-04\n",
            "Epoch 74/250\n",
            "1/4 [======>.......................] - ETA: 0s - loss: 5024.2051 - mse: 5024.2051\n",
            "Epoch 74: ReduceLROnPlateau reducing learning rate to 0.00012960000021848827.\n",
            "4/4 [==============================] - 0s 17ms/step - loss: 4998.0034 - mse: 4998.0034 - val_loss: 7107.7900 - val_mse: 7107.7900 - lr: 2.1600e-04\n",
            "Epoch 75/250\n",
            "4/4 [==============================] - 0s 21ms/step - loss: 4787.8037 - mse: 4787.8037 - val_loss: 7185.4126 - val_mse: 7185.4126 - lr: 1.2960e-04\n"
          ]
        }
      ]
    },
    {
      "cell_type": "code",
      "source": [
        "from sklearn.svm import OneClassSVM\n",
        "from sklearn.ensemble import IsolationForest"
      ],
      "metadata": {
        "id": "g0CDR37wxQQX"
      },
      "execution_count": 89,
      "outputs": []
    },
    {
      "cell_type": "code",
      "source": [
        "preds = model.predict(X_train)\n",
        "svm = OneClassSVM(kernel='rbf', gamma='scale', nu=0.85)  # IsolationForest(contamination=0.01, behaviour='new')\n",
        "svm.fit(preds, y_train)"
      ],
      "metadata": {
        "colab": {
          "base_uri": "https://localhost:8080/"
        },
        "id": "Lbiod1W8w2rm",
        "outputId": "45bfa358-5b55-4a47-a2ca-0d8359a71325"
      },
      "execution_count": 85,
      "outputs": [
        {
          "output_type": "execute_result",
          "data": {
            "text/plain": [
              "OneClassSVM(nu=0.85)"
            ]
          },
          "metadata": {},
          "execution_count": 85
        }
      ]
    },
    {
      "cell_type": "code",
      "source": [
        "y_pred = svm.predict(preds)"
      ],
      "metadata": {
        "id": "-gsJPReZ0hnO"
      },
      "execution_count": 86,
      "outputs": []
    },
    {
      "cell_type": "code",
      "source": [
        "# Calcula todas as métricas e exibe a matriz de confusão\n",
        "cm = get_confusion_matrix(y_real=y_train, y_pred=y_pred, model_name=\"Autoencoder + SVM\")\n",
        "\n",
        "ret = precision_recall_fscore_support(y_train, y_pred, average='micro')\n",
        "print(ret)\n",
        "# p, r, f1, _ = ret"
      ],
      "metadata": {
        "colab": {
          "base_uri": "https://localhost:8080/",
          "height": 312
        },
        "id": "3Zjfrw4f1UNP",
        "outputId": "dd784b82-4396-433c-ab88-550bf9f1fbb2"
      },
      "execution_count": 87,
      "outputs": [
        {
          "output_type": "display_data",
          "data": {
            "text/plain": [
              "<Figure size 432x288 with 2 Axes>"
            ],
            "image/png": "[encoded data removed]"
          },
          "metadata": {
            "needs_background": "light"
          }
        },
        {
          "output_type": "stream",
          "name": "stdout",
          "text": [
            "(0.808695652173913, 0.808695652173913, 0.808695652173913, None)\n"
          ]
        }
      ]
    },
    {
      "cell_type": "code",
      "source": [
        "preds = model.predict(X_test)\n",
        "y_pred = svm.predict(preds)\n",
        "\n",
        "# Calcula todas as métricas e exibe a matriz de confusão\n",
        "cm = get_confusion_matrix(y_real=y_test, y_pred=y_pred, model_name=\"Autoencoder + SVM\")\n",
        "\n",
        "ret = precision_recall_fscore_support(y_test, y_pred, average='micro')\n",
        "print(ret)\n",
        "# p, r, f1, _ = ret"
      ],
      "metadata": {
        "colab": {
          "base_uri": "https://localhost:8080/",
          "height": 312
        },
        "id": "xsMV3M463KjG",
        "outputId": "6cf8df07-67f3-4cb8-c35c-613d400148de"
      },
      "execution_count": 88,
      "outputs": [
        {
          "output_type": "display_data",
          "data": {
            "text/plain": [
              "<Figure size 432x288 with 2 Axes>"
            ],
            "image/png": "[encoded data removed]"
          },
          "metadata": {
            "needs_background": "light"
          }
        },
        {
          "output_type": "stream",
          "name": "stdout",
          "text": [
            "(0.9306122448979591, 0.9306122448979591, 0.9306122448979591, None)\n"
          ]
        }
      ]
    },
    {
      "cell_type": "markdown",
      "source": [
        "#### Aplicando sobre o dataset de validação"
      ],
      "metadata": {
        "id": "N2Rn_7JcXxE2"
      }
    },
    {
      "cell_type": "code",
      "source": [
        "preds = model.predict(X_val)\n",
        "y_val_pred = svm.predict(preds)\n",
        "\n",
        "# Calcula todas as métricas e exibe a matriz de confusão\n",
        "cm = get_confusion_matrix(y_real=y_val, y_pred=y_val_pred, model_name=\"Autoencoder + SVM\")\n",
        "\n",
        "ret = precision_recall_fscore_support(y_val, y_val_pred, average='micro')\n",
        "print(ret)\n",
        "# p, r, f1, _ = ret"
      ],
      "metadata": {
        "id": "w1qTlf06XzE3",
        "colab": {
          "base_uri": "https://localhost:8080/",
          "height": 312
        },
        "outputId": "d8d227b3-4399-4f0f-9693-60f9d19618e6"
      },
      "execution_count": 90,
      "outputs": [
        {
          "output_type": "display_data",
          "data": {
            "text/plain": [
              "<Figure size 432x288 with 2 Axes>"
            ],
            "image/png": "[encoded data removed]"
          },
          "metadata": {
            "needs_background": "light"
          }
        },
        {
          "output_type": "stream",
          "name": "stdout",
          "text": [
            "(0.9605263157894737, 0.9605263157894737, 0.9605263157894737, None)\n"
          ]
        }
      ]
    },
    {
      "cell_type": "markdown",
      "source": [
        "### Variational Autoencoder"
      ],
      "metadata": {
        "id": "pv7-_ghTYUcL"
      }
    },
    {
      "cell_type": "markdown",
      "source": [
        "#### Treino"
      ],
      "metadata": {
        "id": "4qk-8vAjXzve"
      }
    },
    {
      "cell_type": "code",
      "source": [
        ""
      ],
      "metadata": {
        "id": "jEyeaywtX4v1"
      },
      "execution_count": null,
      "outputs": []
    },
    {
      "cell_type": "code",
      "source": [
        ""
      ],
      "metadata": {
        "id": "bXeApVxtX8gO"
      },
      "execution_count": null,
      "outputs": []
    },
    {
      "cell_type": "code",
      "source": [
        ""
      ],
      "metadata": {
        "id": "_Ba-kq5MX8iM"
      },
      "execution_count": null,
      "outputs": []
    },
    {
      "cell_type": "markdown",
      "source": [
        "#### Teste"
      ],
      "metadata": {
        "id": "YcBS7Q8UX6DS"
      }
    },
    {
      "cell_type": "code",
      "source": [
        ""
      ],
      "metadata": {
        "id": "HK_JXftlX64O"
      },
      "execution_count": null,
      "outputs": []
    },
    {
      "cell_type": "code",
      "source": [
        ""
      ],
      "metadata": {
        "id": "MxaNRY_pX860"
      },
      "execution_count": null,
      "outputs": []
    },
    {
      "cell_type": "code",
      "source": [
        ""
      ],
      "metadata": {
        "id": "OiS-o3cPX88-"
      },
      "execution_count": null,
      "outputs": []
    }
  ]
}
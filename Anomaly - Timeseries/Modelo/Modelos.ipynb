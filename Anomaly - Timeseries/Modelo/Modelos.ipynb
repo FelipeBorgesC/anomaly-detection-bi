{
  "nbformat": 4,
  "nbformat_minor": 0,
  "metadata": {
    "colab": {
      "provenance": [],
      "collapsed_sections": [
        "F2oSeC1eYGsE",
        "Od23KrQCXltB",
        "xesyg0sJXpkW",
        "qWG2vgy5YNs2",
        "N2Rn_7JcXxE2",
        "pv7-_ghTYUcL",
        "4qk-8vAjXzve",
        "YcBS7Q8UX6DS"
      ]
    },
    "kernelspec": {
      "name": "python3",
      "display_name": "Python 3"
    },
    "language_info": {
      "name": "python"
    }
  },
  "cells": [
    {
      "cell_type": "markdown",
      "source": [
        "## Definindo a pasta de partida dos comandos"
      ],
      "metadata": {
        "id": "IbTWASkiG81y"
      }
    },
    {
      "cell_type": "markdown",
      "source": [
        "Case de estudo com agradecimentos ao dataset 3w: https://github.com/ricardovvargas/3w_dataset"
      ],
      "metadata": {
        "id": "yKa5eLAXOH7I"
      }
    },
    {
      "cell_type": "markdown",
      "source": [
        "A partir do arquivo pickle resultante do tratamento dos dados vamos aplicar os modelos!"
      ],
      "metadata": {
        "id": "sfcmmRZh67np"
      }
    },
    {
      "cell_type": "markdown",
      "source": [
        "## Carregando as bases:"
      ],
      "metadata": {
        "id": "MzsqXQpM1Jmd"
      }
    },
    {
      "cell_type": "markdown",
      "source": [
        "Carregando dados"
      ],
      "metadata": {
        "id": "K2oCLEl_18O0"
      }
    },
    {
      "cell_type": "code",
      "source": [
        "import pickle"
      ],
      "metadata": {
        "id": "i4I44-ZW1i6h"
      },
      "execution_count": null,
      "outputs": []
    },
    {
      "cell_type": "code",
      "source": [
        "filename = 'anomaly_ts_data.pickle'\n",
        "with open(filename, 'rb') as picklefile:\n",
        "  all_data = pickle.load(picklefile)"
      ],
      "metadata": {
        "id": "vg-wPP0f2MQG"
      },
      "execution_count": null,
      "outputs": []
    },
    {
      "cell_type": "code",
      "source": [
        "X_train = all_data['X_train'].reset_index(drop=True)\n",
        "y_train = all_data['y_train']\n",
        "X_test = all_data['X_test'].reset_index(drop=True)\n",
        "y_test = all_data['y_test']\n",
        "X_val = all_data['X_val'].reset_index(drop=True)\n",
        "y_val = all_data['y_val']"
      ],
      "metadata": {
        "id": "rUD8qucc1-NC"
      },
      "execution_count": null,
      "outputs": []
    },
    {
      "cell_type": "markdown",
      "source": [
        "Checar brevemente se está tudo ok"
      ],
      "metadata": {
        "id": "IP5iLmwB7TA6"
      }
    },
    {
      "cell_type": "code",
      "source": [
        "X_train.head()"
      ],
      "metadata": {
        "id": "HGMsND7W7Sce",
        "colab": {
          "base_uri": "https://localhost:8080/",
          "height": 317
        },
        "outputId": "db5c0ca8-d887-4d52-d1d0-eacb6fa1df20"
      },
      "execution_count": null,
      "outputs": [
        {
          "output_type": "execute_result",
          "data": {
            "text/plain": [
              "   P-PDG__median  P-PDG__mean  P-PDG__standard_deviation  P-PDG__variance  \\\n",
              "0      420.26990   420.269900               1.705303e-13     2.908057e-26   \n",
              "1      420.24420   420.244200               5.684342e-14     3.231174e-27   \n",
              "2      420.24420   420.244200               5.684342e-14     3.231174e-27   \n",
              "3      420.24745   420.247661               2.856784e-03     8.161216e-06   \n",
              "4      420.23140   420.230848               9.928043e-04     9.856604e-07   \n",
              "\n",
              "   P-PDG__root_mean_square  P-PDG__maximum  P-PDG__absolute_maximum  \\\n",
              "0               420.269900        420.2699                 420.2699   \n",
              "1               420.244200        420.2442                 420.2442   \n",
              "2               420.244200        420.2442                 420.2442   \n",
              "3               420.247661        420.2529                 420.2529   \n",
              "4               420.230848        420.2314                 420.2314   \n",
              "\n",
              "   P-PDG__minimum  P-TPT__median  P-TPT__mean  ...  \\\n",
              "0        420.2699       174.6979     174.6979  ...   \n",
              "1        420.2442       175.3406     175.3406  ...   \n",
              "2        420.2442       175.3406     175.3406  ...   \n",
              "3        420.2442       175.3406     175.3406  ...   \n",
              "4        420.2280       175.5013     175.5013  ...   \n",
              "\n",
              "   P-MON-CKP__absolute_maximum  P-MON-CKP__minimum  T-JUS-CKP__median  \\\n",
              "0                     96.18252            96.18252           66.86504   \n",
              "1                     96.64524            96.64524           66.86504   \n",
              "2                     96.64524            96.64524           66.86504   \n",
              "3                     96.64524            96.64524           66.86504   \n",
              "4                     96.64524            96.64524           66.75450   \n",
              "\n",
              "   T-JUS-CKP__mean  T-JUS-CKP__standard_deviation  T-JUS-CKP__variance  \\\n",
              "0         66.86504                   1.421085e-14         2.019484e-28   \n",
              "1         66.86504                   1.421085e-14         2.019484e-28   \n",
              "2         66.86504                   1.421085e-14         2.019484e-28   \n",
              "3         66.86504                   1.421085e-14         2.019484e-28   \n",
              "4         66.75450                   0.000000e+00         0.000000e+00   \n",
              "\n",
              "   T-JUS-CKP__root_mean_square  T-JUS-CKP__maximum  \\\n",
              "0                     66.86504            66.86504   \n",
              "1                     66.86504            66.86504   \n",
              "2                     66.86504            66.86504   \n",
              "3                     66.86504            66.86504   \n",
              "4                     66.75450            66.75450   \n",
              "\n",
              "   T-JUS-CKP__absolute_maximum  T-JUS-CKP__minimum  \n",
              "0                     66.86504            66.86504  \n",
              "1                     66.86504            66.86504  \n",
              "2                     66.86504            66.86504  \n",
              "3                     66.86504            66.86504  \n",
              "4                     66.75450            66.75450  \n",
              "\n",
              "[5 rows x 40 columns]"
            ],
            "text/html": [
              "\n",
              "  <div id=\"df-57817d85-72f4-46bd-a770-5ad484d27e2f\">\n",
              "    <div class=\"colab-df-container\">\n",
              "      <div>\n",
              "<style scoped>\n",
              "    .dataframe tbody tr th:only-of-type {\n",
              "        vertical-align: middle;\n",
              "    }\n",
              "\n",
              "    .dataframe tbody tr th {\n",
              "        vertical-align: top;\n",
              "    }\n",
              "\n",
              "    .dataframe thead th {\n",
              "        text-align: right;\n",
              "    }\n",
              "</style>\n",
              "<table border=\"1\" class=\"dataframe\">\n",
              "  <thead>\n",
              "    <tr style=\"text-align: right;\">\n",
              "      <th></th>\n",
              "      <th>P-PDG__median</th>\n",
              "      <th>P-PDG__mean</th>\n",
              "      <th>P-PDG__standard_deviation</th>\n",
              "      <th>P-PDG__variance</th>\n",
              "      <th>P-PDG__root_mean_square</th>\n",
              "      <th>P-PDG__maximum</th>\n",
              "      <th>P-PDG__absolute_maximum</th>\n",
              "      <th>P-PDG__minimum</th>\n",
              "      <th>P-TPT__median</th>\n",
              "      <th>P-TPT__mean</th>\n",
              "      <th>...</th>\n",
              "      <th>P-MON-CKP__absolute_maximum</th>\n",
              "      <th>P-MON-CKP__minimum</th>\n",
              "      <th>T-JUS-CKP__median</th>\n",
              "      <th>T-JUS-CKP__mean</th>\n",
              "      <th>T-JUS-CKP__standard_deviation</th>\n",
              "      <th>T-JUS-CKP__variance</th>\n",
              "      <th>T-JUS-CKP__root_mean_square</th>\n",
              "      <th>T-JUS-CKP__maximum</th>\n",
              "      <th>T-JUS-CKP__absolute_maximum</th>\n",
              "      <th>T-JUS-CKP__minimum</th>\n",
              "    </tr>\n",
              "  </thead>\n",
              "  <tbody>\n",
              "    <tr>\n",
              "      <th>0</th>\n",
              "      <td>420.26990</td>\n",
              "      <td>420.269900</td>\n",
              "      <td>1.705303e-13</td>\n",
              "      <td>2.908057e-26</td>\n",
              "      <td>420.269900</td>\n",
              "      <td>420.2699</td>\n",
              "      <td>420.2699</td>\n",
              "      <td>420.2699</td>\n",
              "      <td>174.6979</td>\n",
              "      <td>174.6979</td>\n",
              "      <td>...</td>\n",
              "      <td>96.18252</td>\n",
              "      <td>96.18252</td>\n",
              "      <td>66.86504</td>\n",
              "      <td>66.86504</td>\n",
              "      <td>1.421085e-14</td>\n",
              "      <td>2.019484e-28</td>\n",
              "      <td>66.86504</td>\n",
              "      <td>66.86504</td>\n",
              "      <td>66.86504</td>\n",
              "      <td>66.86504</td>\n",
              "    </tr>\n",
              "    <tr>\n",
              "      <th>1</th>\n",
              "      <td>420.24420</td>\n",
              "      <td>420.244200</td>\n",
              "      <td>5.684342e-14</td>\n",
              "      <td>3.231174e-27</td>\n",
              "      <td>420.244200</td>\n",
              "      <td>420.2442</td>\n",
              "      <td>420.2442</td>\n",
              "      <td>420.2442</td>\n",
              "      <td>175.3406</td>\n",
              "      <td>175.3406</td>\n",
              "      <td>...</td>\n",
              "      <td>96.64524</td>\n",
              "      <td>96.64524</td>\n",
              "      <td>66.86504</td>\n",
              "      <td>66.86504</td>\n",
              "      <td>1.421085e-14</td>\n",
              "      <td>2.019484e-28</td>\n",
              "      <td>66.86504</td>\n",
              "      <td>66.86504</td>\n",
              "      <td>66.86504</td>\n",
              "      <td>66.86504</td>\n",
              "    </tr>\n",
              "    <tr>\n",
              "      <th>2</th>\n",
              "      <td>420.24420</td>\n",
              "      <td>420.244200</td>\n",
              "      <td>5.684342e-14</td>\n",
              "      <td>3.231174e-27</td>\n",
              "      <td>420.244200</td>\n",
              "      <td>420.2442</td>\n",
              "      <td>420.2442</td>\n",
              "      <td>420.2442</td>\n",
              "      <td>175.3406</td>\n",
              "      <td>175.3406</td>\n",
              "      <td>...</td>\n",
              "      <td>96.64524</td>\n",
              "      <td>96.64524</td>\n",
              "      <td>66.86504</td>\n",
              "      <td>66.86504</td>\n",
              "      <td>1.421085e-14</td>\n",
              "      <td>2.019484e-28</td>\n",
              "      <td>66.86504</td>\n",
              "      <td>66.86504</td>\n",
              "      <td>66.86504</td>\n",
              "      <td>66.86504</td>\n",
              "    </tr>\n",
              "    <tr>\n",
              "      <th>3</th>\n",
              "      <td>420.24745</td>\n",
              "      <td>420.247661</td>\n",
              "      <td>2.856784e-03</td>\n",
              "      <td>8.161216e-06</td>\n",
              "      <td>420.247661</td>\n",
              "      <td>420.2529</td>\n",
              "      <td>420.2529</td>\n",
              "      <td>420.2442</td>\n",
              "      <td>175.3406</td>\n",
              "      <td>175.3406</td>\n",
              "      <td>...</td>\n",
              "      <td>96.64524</td>\n",
              "      <td>96.64524</td>\n",
              "      <td>66.86504</td>\n",
              "      <td>66.86504</td>\n",
              "      <td>1.421085e-14</td>\n",
              "      <td>2.019484e-28</td>\n",
              "      <td>66.86504</td>\n",
              "      <td>66.86504</td>\n",
              "      <td>66.86504</td>\n",
              "      <td>66.86504</td>\n",
              "    </tr>\n",
              "    <tr>\n",
              "      <th>4</th>\n",
              "      <td>420.23140</td>\n",
              "      <td>420.230848</td>\n",
              "      <td>9.928043e-04</td>\n",
              "      <td>9.856604e-07</td>\n",
              "      <td>420.230848</td>\n",
              "      <td>420.2314</td>\n",
              "      <td>420.2314</td>\n",
              "      <td>420.2280</td>\n",
              "      <td>175.5013</td>\n",
              "      <td>175.5013</td>\n",
              "      <td>...</td>\n",
              "      <td>96.64524</td>\n",
              "      <td>96.64524</td>\n",
              "      <td>66.75450</td>\n",
              "      <td>66.75450</td>\n",
              "      <td>0.000000e+00</td>\n",
              "      <td>0.000000e+00</td>\n",
              "      <td>66.75450</td>\n",
              "      <td>66.75450</td>\n",
              "      <td>66.75450</td>\n",
              "      <td>66.75450</td>\n",
              "    </tr>\n",
              "  </tbody>\n",
              "</table>\n",
              "<p>5 rows × 40 columns</p>\n",
              "</div>\n",
              "      <button class=\"colab-df-convert\" onclick=\"convertToInteractive('df-57817d85-72f4-46bd-a770-5ad484d27e2f')\"\n",
              "              title=\"Convert this dataframe to an interactive table.\"\n",
              "              style=\"display:none;\">\n",
              "        \n",
              "  <svg xmlns=\"http://www.w3.org/2000/svg\" height=\"24px\"viewBox=\"0 0 24 24\"\n",
              "       width=\"24px\">\n",
              "    <path d=\"M0 0h24v24H0V0z\" fill=\"none\"/>\n",
              "    <path d=\"M18.56 5.44l.94 2.06.94-2.06 2.06-.94-2.06-.94-.94-2.06-.94 2.06-2.06.94zm-11 1L8.5 8.5l.94-2.06 2.06-.94-2.06-.94L8.5 2.5l-.94 2.06-2.06.94zm10 10l.94 2.06.94-2.06 2.06-.94-2.06-.94-.94-2.06-.94 2.06-2.06.94z\"/><path d=\"M17.41 7.96l-1.37-1.37c-.4-.4-.92-.59-1.43-.59-.52 0-1.04.2-1.43.59L10.3 9.45l-7.72 7.72c-.78.78-.78 2.05 0 2.83L4 21.41c.39.39.9.59 1.41.59.51 0 1.02-.2 1.41-.59l7.78-7.78 2.81-2.81c.8-.78.8-2.07 0-2.86zM5.41 20L4 18.59l7.72-7.72 1.47 1.35L5.41 20z\"/>\n",
              "  </svg>\n",
              "      </button>\n",
              "      \n",
              "  <style>\n",
              "    .colab-df-container {\n",
              "      display:flex;\n",
              "      flex-wrap:wrap;\n",
              "      gap: 12px;\n",
              "    }\n",
              "\n",
              "    .colab-df-convert {\n",
              "      background-color: #E8F0FE;\n",
              "      border: none;\n",
              "      border-radius: 50%;\n",
              "      cursor: pointer;\n",
              "      display: none;\n",
              "      fill: #1967D2;\n",
              "      height: 32px;\n",
              "      padding: 0 0 0 0;\n",
              "      width: 32px;\n",
              "    }\n",
              "\n",
              "    .colab-df-convert:hover {\n",
              "      background-color: #E2EBFA;\n",
              "      box-shadow: 0px 1px 2px rgba(60, 64, 67, 0.3), 0px 1px 3px 1px rgba(60, 64, 67, 0.15);\n",
              "      fill: #174EA6;\n",
              "    }\n",
              "\n",
              "    [theme=dark] .colab-df-convert {\n",
              "      background-color: #3B4455;\n",
              "      fill: #D2E3FC;\n",
              "    }\n",
              "\n",
              "    [theme=dark] .colab-df-convert:hover {\n",
              "      background-color: #434B5C;\n",
              "      box-shadow: 0px 1px 3px 1px rgba(0, 0, 0, 0.15);\n",
              "      filter: drop-shadow(0px 1px 2px rgba(0, 0, 0, 0.3));\n",
              "      fill: #FFFFFF;\n",
              "    }\n",
              "  </style>\n",
              "\n",
              "      <script>\n",
              "        const buttonEl =\n",
              "          document.querySelector('#df-57817d85-72f4-46bd-a770-5ad484d27e2f button.colab-df-convert');\n",
              "        buttonEl.style.display =\n",
              "          google.colab.kernel.accessAllowed ? 'block' : 'none';\n",
              "\n",
              "        async function convertToInteractive(key) {\n",
              "          const element = document.querySelector('#df-57817d85-72f4-46bd-a770-5ad484d27e2f');\n",
              "          const dataTable =\n",
              "            await google.colab.kernel.invokeFunction('convertToInteractive',\n",
              "                                                     [key], {});\n",
              "          if (!dataTable) return;\n",
              "\n",
              "          const docLinkHtml = 'Like what you see? Visit the ' +\n",
              "            '<a target=\"_blank\" href=https://colab.research.google.com/notebooks/data_table.ipynb>data table notebook</a>'\n",
              "            + ' to learn more about interactive tables.';\n",
              "          element.innerHTML = '';\n",
              "          dataTable['output_type'] = 'display_data';\n",
              "          await google.colab.output.renderOutput(dataTable, element);\n",
              "          const docLink = document.createElement('div');\n",
              "          docLink.innerHTML = docLinkHtml;\n",
              "          element.appendChild(docLink);\n",
              "        }\n",
              "      </script>\n",
              "    </div>\n",
              "  </div>\n",
              "  "
            ]
          },
          "metadata": {},
          "execution_count": 4
        }
      ]
    },
    {
      "cell_type": "code",
      "source": [
        "X_train.shape, X_test.shape, X_val.shape"
      ],
      "metadata": {
        "colab": {
          "base_uri": "https://localhost:8080/"
        },
        "id": "2hYQDlPp8Kkz",
        "outputId": "2bc58ead-f963-4b04-f7da-7a0f9d2e1a0c"
      },
      "execution_count": null,
      "outputs": [
        {
          "output_type": "execute_result",
          "data": {
            "text/plain": [
              "((90, 40), (215, 40), (192, 40))"
            ]
          },
          "metadata": {},
          "execution_count": 5
        }
      ]
    },
    {
      "cell_type": "markdown",
      "source": [
        "## Aplicar aos modelos"
      ],
      "metadata": {
        "id": "V3reINq_Xh-o"
      }
    },
    {
      "cell_type": "markdown",
      "source": [
        "### Autoencoder"
      ],
      "metadata": {
        "id": "F2oSeC1eYGsE"
      }
    },
    {
      "cell_type": "markdown",
      "source": [
        "####  Treino"
      ],
      "metadata": {
        "id": "Od23KrQCXltB"
      }
    },
    {
      "cell_type": "code",
      "source": [
        "import numpy as np\n",
        "import random\n",
        "import pandas as pd\n",
        "import matplotlib.pyplot as plt\n",
        "from sklearn.metrics import precision_recall_fscore_support\n",
        "from sklearn.metrics import confusion_matrix\n",
        "import seaborn as sns\n",
        "import tensorflow\n",
        "from tensorflow.keras import Model\n",
        "from tensorflow.keras.layers import Input, Dense, Dropout, BatchNormalization\n",
        "from tensorflow.keras.optimizers import Adam\n",
        "from tensorflow.keras import regularizers\n",
        "from tensorflow.keras.callbacks import EarlyStopping, ReduceLROnPlateau\n",
        "import logging\n",
        "\n",
        "\n",
        "# set random seed for reproducibility\n",
        "tensorflow.random.set_seed(2022)\n",
        "np.random.seed(2022)\n",
        "np.random.RandomState(2022)\n",
        "random.seed(2022)"
      ],
      "metadata": {
        "id": "_lm8yO12avGk"
      },
      "execution_count": null,
      "outputs": []
    },
    {
      "cell_type": "code",
      "source": [
        "X_train.shape[1]"
      ],
      "metadata": {
        "colab": {
          "base_uri": "https://localhost:8080/"
        },
        "id": "uTKakWm43vmM",
        "outputId": "53ad4946-55a5-4519-8f7f-8822eec8d607"
      },
      "execution_count": null,
      "outputs": [
        {
          "output_type": "execute_result",
          "data": {
            "text/plain": [
              "40"
            ]
          },
          "metadata": {},
          "execution_count": 9
        }
      ]
    },
    {
      "cell_type": "code",
      "source": [
        "# definição do modelo\n",
        "\n",
        "input_feats = X_train.shape[1]\n",
        "hidden_neurons = [64, 16]\n",
        "latent_dim = 8\n",
        "\n",
        "# Encoder\n",
        "inputs = Input(shape=(input_feats,), name='encoder_input')\n",
        "enc_hidden = Dense(hidden_neurons[0], activation='linear', name='encoder_hidden_0')(inputs)\n",
        "enc_hidden = Dropout(0.15)(enc_hidden)\n",
        "enc_hidden = Dense(hidden_neurons[1], activation='linear', name='encoder_hidden_1')(enc_hidden)\n",
        "enc_hidden = Dropout(0.25)(enc_hidden)\n",
        "\n",
        "# Camada Latente\n",
        "z_ = Dense(latent_dim, name='z_')(enc_hidden)\n",
        "\n",
        "encoder = Model(inputs, z_, name='encoder')\n",
        "logging.info(encoder.summary())\n",
        "\n",
        "# Decoder\n",
        "latent_inputs = Input(shape=(latent_dim,), name='z_')\n",
        "dec_hidden = Dense(hidden_neurons[1], activation='linear', name='decoder_hidden_0')(latent_inputs)\n",
        "dec_hidden = Dropout(0.15)(dec_hidden)\n",
        "dec_hidden = Dense(hidden_neurons[0], activation='linear', name='decoder_hidden_1')(dec_hidden)\n",
        "dec_hidden = Dropout(0.25)(dec_hidden)\n",
        "\n",
        "\n",
        "outputs = Dense(input_feats, activation='linear',\n",
        "                name='decoder_output')(dec_hidden)\n",
        "\n",
        "decoder = Model(latent_inputs, outputs, name='decoder')\n",
        "logging.info(decoder.summary())\n",
        "\n",
        "\n",
        "outputs = decoder(encoder(inputs))\n",
        "\n",
        "model = Model(inputs, outputs, name='ae')\n",
        "\n",
        "optimizer = Adam(learning_rate=0.001)\n",
        "model.compile(optimizer=optimizer, loss=\"mse\", metrics='mse');"
      ],
      "metadata": {
        "id": "14MqWYCW7XtW",
        "colab": {
          "base_uri": "https://localhost:8080/"
        },
        "outputId": "1bca8b28-654d-4e06-9ef8-bcd17b4036b4"
      },
      "execution_count": null,
      "outputs": [
        {
          "output_type": "stream",
          "name": "stdout",
          "text": [
            "Model: \"encoder\"\n",
            "_________________________________________________________________\n",
            " Layer (type)                Output Shape              Param #   \n",
            "=================================================================\n",
            " encoder_input (InputLayer)  [(None, 40)]              0         \n",
            "                                                                 \n",
            " encoder_hidden_0 (Dense)    (None, 64)                2624      \n",
            "                                                                 \n",
            " dropout (Dropout)           (None, 64)                0         \n",
            "                                                                 \n",
            " encoder_hidden_1 (Dense)    (None, 16)                1040      \n",
            "                                                                 \n",
            " dropout_1 (Dropout)         (None, 16)                0         \n",
            "                                                                 \n",
            " z_ (Dense)                  (None, 8)                 136       \n",
            "                                                                 \n",
            "=================================================================\n",
            "Total params: 3,800\n",
            "Trainable params: 3,800\n",
            "Non-trainable params: 0\n",
            "_________________________________________________________________\n",
            "Model: \"decoder\"\n",
            "_________________________________________________________________\n",
            " Layer (type)                Output Shape              Param #   \n",
            "=================================================================\n",
            " z_ (InputLayer)             [(None, 8)]               0         \n",
            "                                                                 \n",
            " decoder_hidden_0 (Dense)    (None, 16)                144       \n",
            "                                                                 \n",
            " dropout_2 (Dropout)         (None, 16)                0         \n",
            "                                                                 \n",
            " decoder_hidden_1 (Dense)    (None, 64)                1088      \n",
            "                                                                 \n",
            " dropout_3 (Dropout)         (None, 64)                0         \n",
            "                                                                 \n",
            " decoder_output (Dense)      (None, 40)                2600      \n",
            "                                                                 \n",
            "=================================================================\n",
            "Total params: 3,832\n",
            "Trainable params: 3,832\n",
            "Non-trainable params: 0\n",
            "_________________________________________________________________\n"
          ]
        }
      ]
    },
    {
      "cell_type": "code",
      "source": [
        "monitor = 'val_mse'\n",
        "lr_reduce = ReduceLROnPlateau(monitor=monitor, factor=0.6, min_delta=0.0001, patience=8, verbose=1)\n",
        "early = EarlyStopping(monitor=monitor, mode=\"min\", patience=25)\n",
        "kwargs = {}\n",
        "kwargs['epochs'] = 250\n",
        "kwargs['batch_size'] = 32\n",
        "kwargs['shuffle'] = True\n",
        "kwargs['validation_data'] = (X_test, X_test)\n",
        "kwargs['verbose'] = 1\n",
        "kwargs['callbacks'] = [early, lr_reduce]\n",
        "\n",
        "history = model.fit(X_train, X_train, **kwargs)"
      ],
      "metadata": {
        "id": "7Tejds3IXr6l",
        "colab": {
          "base_uri": "https://localhost:8080/"
        },
        "outputId": "8d481a20-5c4b-49b9-d46b-773b73094fa6"
      },
      "execution_count": null,
      "outputs": [
        {
          "output_type": "stream",
          "name": "stdout",
          "text": [
            "Epoch 1/250\n",
            "3/3 [==============================] - 1s 139ms/step - loss: 123938.0703 - mse: 123938.0703 - val_loss: 54104.7734 - val_mse: 54104.7734 - lr: 0.0010\n",
            "Epoch 2/250\n",
            "3/3 [==============================] - 0s 26ms/step - loss: 69190.4766 - mse: 69190.4766 - val_loss: 38350.9961 - val_mse: 38350.9961 - lr: 0.0010\n",
            "Epoch 3/250\n",
            "3/3 [==============================] - 0s 28ms/step - loss: 54469.7891 - mse: 54469.7891 - val_loss: 33892.7031 - val_mse: 33892.7031 - lr: 0.0010\n",
            "Epoch 4/250\n",
            "3/3 [==============================] - 0s 28ms/step - loss: 47197.9492 - mse: 47197.9492 - val_loss: 32680.7168 - val_mse: 32680.7168 - lr: 0.0010\n",
            "Epoch 5/250\n",
            "3/3 [==============================] - 0s 23ms/step - loss: 46976.1836 - mse: 46976.1836 - val_loss: 32217.9141 - val_mse: 32217.9141 - lr: 0.0010\n",
            "Epoch 6/250\n",
            "3/3 [==============================] - 0s 26ms/step - loss: 41504.9883 - mse: 41504.9883 - val_loss: 31401.6309 - val_mse: 31401.6309 - lr: 0.0010\n",
            "Epoch 7/250\n",
            "3/3 [==============================] - 0s 24ms/step - loss: 39972.5234 - mse: 39972.5234 - val_loss: 29977.2070 - val_mse: 29977.2070 - lr: 0.0010\n",
            "Epoch 8/250\n",
            "3/3 [==============================] - 0s 27ms/step - loss: 36707.3711 - mse: 36707.3711 - val_loss: 28268.0859 - val_mse: 28268.0859 - lr: 0.0010\n",
            "Epoch 9/250\n",
            "3/3 [==============================] - 0s 25ms/step - loss: 32806.0664 - mse: 32806.0664 - val_loss: 26483.2168 - val_mse: 26483.2168 - lr: 0.0010\n",
            "Epoch 10/250\n",
            "3/3 [==============================] - 0s 27ms/step - loss: 31461.4863 - mse: 31461.4863 - val_loss: 24090.7656 - val_mse: 24090.7656 - lr: 0.0010\n",
            "Epoch 11/250\n",
            "3/3 [==============================] - 0s 31ms/step - loss: 27678.8867 - mse: 27678.8867 - val_loss: 21391.9258 - val_mse: 21391.9258 - lr: 0.0010\n",
            "Epoch 12/250\n",
            "3/3 [==============================] - 0s 26ms/step - loss: 25098.6641 - mse: 25098.6641 - val_loss: 18438.3926 - val_mse: 18438.3926 - lr: 0.0010\n",
            "Epoch 13/250\n",
            "3/3 [==============================] - 0s 20ms/step - loss: 22020.9648 - mse: 22020.9648 - val_loss: 16158.0664 - val_mse: 16158.0664 - lr: 0.0010\n",
            "Epoch 14/250\n",
            "3/3 [==============================] - 0s 22ms/step - loss: 20649.9688 - mse: 20649.9688 - val_loss: 15084.6182 - val_mse: 15084.6182 - lr: 0.0010\n",
            "Epoch 15/250\n",
            "3/3 [==============================] - 0s 19ms/step - loss: 19565.1543 - mse: 19565.1543 - val_loss: 15001.0684 - val_mse: 15001.0684 - lr: 0.0010\n",
            "Epoch 16/250\n",
            "3/3 [==============================] - 0s 25ms/step - loss: 18576.4883 - mse: 18576.4883 - val_loss: 15507.1846 - val_mse: 15507.1846 - lr: 0.0010\n",
            "Epoch 17/250\n",
            "3/3 [==============================] - 0s 19ms/step - loss: 16101.5693 - mse: 16101.5693 - val_loss: 15184.4365 - val_mse: 15184.4365 - lr: 0.0010\n",
            "Epoch 18/250\n",
            "3/3 [==============================] - 0s 20ms/step - loss: 15235.7822 - mse: 15235.7822 - val_loss: 14103.6357 - val_mse: 14103.6357 - lr: 0.0010\n",
            "Epoch 19/250\n",
            "3/3 [==============================] - 0s 26ms/step - loss: 14480.0254 - mse: 14480.0254 - val_loss: 12637.0801 - val_mse: 12637.0801 - lr: 0.0010\n",
            "Epoch 20/250\n",
            "3/3 [==============================] - 0s 24ms/step - loss: 14940.9170 - mse: 14940.9170 - val_loss: 11569.6914 - val_mse: 11569.6914 - lr: 0.0010\n",
            "Epoch 21/250\n",
            "3/3 [==============================] - 0s 18ms/step - loss: 14998.3809 - mse: 14998.3809 - val_loss: 11072.3887 - val_mse: 11072.3887 - lr: 0.0010\n",
            "Epoch 22/250\n",
            "3/3 [==============================] - 0s 26ms/step - loss: 13168.7920 - mse: 13168.7920 - val_loss: 10770.2207 - val_mse: 10770.2207 - lr: 0.0010\n",
            "Epoch 23/250\n",
            "3/3 [==============================] - 0s 19ms/step - loss: 12034.7363 - mse: 12034.7363 - val_loss: 11333.1875 - val_mse: 11333.1875 - lr: 0.0010\n",
            "Epoch 24/250\n",
            "3/3 [==============================] - 0s 21ms/step - loss: 12772.0391 - mse: 12772.0391 - val_loss: 12956.9688 - val_mse: 12956.9688 - lr: 0.0010\n",
            "Epoch 25/250\n",
            "3/3 [==============================] - 0s 22ms/step - loss: 12528.3252 - mse: 12528.3252 - val_loss: 13100.2500 - val_mse: 13100.2500 - lr: 0.0010\n",
            "Epoch 26/250\n",
            "3/3 [==============================] - 0s 19ms/step - loss: 11385.8789 - mse: 11385.8789 - val_loss: 10857.8096 - val_mse: 10857.8096 - lr: 0.0010\n",
            "Epoch 27/250\n",
            "3/3 [==============================] - 0s 25ms/step - loss: 11289.6523 - mse: 11289.6523 - val_loss: 9456.3135 - val_mse: 9456.3135 - lr: 0.0010\n",
            "Epoch 28/250\n",
            "3/3 [==============================] - 0s 27ms/step - loss: 10753.7148 - mse: 10753.7148 - val_loss: 10556.5635 - val_mse: 10556.5635 - lr: 0.0010\n",
            "Epoch 29/250\n",
            "3/3 [==============================] - 0s 28ms/step - loss: 10253.9385 - mse: 10253.9385 - val_loss: 11191.9414 - val_mse: 11191.9414 - lr: 0.0010\n",
            "Epoch 30/250\n",
            "3/3 [==============================] - 0s 26ms/step - loss: 9484.4648 - mse: 9484.4648 - val_loss: 10340.1484 - val_mse: 10340.1484 - lr: 0.0010\n",
            "Epoch 31/250\n",
            "3/3 [==============================] - 0s 22ms/step - loss: 10224.6582 - mse: 10224.6582 - val_loss: 9708.7754 - val_mse: 9708.7754 - lr: 0.0010\n",
            "Epoch 32/250\n",
            "3/3 [==============================] - 0s 28ms/step - loss: 9020.5928 - mse: 9020.5928 - val_loss: 10605.6582 - val_mse: 10605.6582 - lr: 0.0010\n",
            "Epoch 33/250\n",
            "3/3 [==============================] - 0s 28ms/step - loss: 9724.1504 - mse: 9724.1504 - val_loss: 11084.8164 - val_mse: 11084.8164 - lr: 0.0010\n",
            "Epoch 34/250\n",
            "3/3 [==============================] - 0s 22ms/step - loss: 8913.2881 - mse: 8913.2881 - val_loss: 10353.0684 - val_mse: 10353.0684 - lr: 0.0010\n",
            "Epoch 35/250\n",
            "3/3 [==============================] - 0s 23ms/step - loss: 9027.5342 - mse: 9027.5342 - val_loss: 9107.5420 - val_mse: 9107.5420 - lr: 0.0010\n",
            "Epoch 36/250\n",
            "3/3 [==============================] - 0s 22ms/step - loss: 8463.8262 - mse: 8463.8262 - val_loss: 8814.3584 - val_mse: 8814.3584 - lr: 0.0010\n",
            "Epoch 37/250\n",
            "3/3 [==============================] - 0s 27ms/step - loss: 8086.5942 - mse: 8086.5942 - val_loss: 9505.7510 - val_mse: 9505.7510 - lr: 0.0010\n",
            "Epoch 38/250\n",
            "3/3 [==============================] - 0s 23ms/step - loss: 6985.8501 - mse: 6985.8501 - val_loss: 10147.3857 - val_mse: 10147.3857 - lr: 0.0010\n",
            "Epoch 39/250\n",
            "3/3 [==============================] - 0s 25ms/step - loss: 7740.9590 - mse: 7740.9590 - val_loss: 10210.7490 - val_mse: 10210.7490 - lr: 0.0010\n",
            "Epoch 40/250\n",
            "3/3 [==============================] - 0s 25ms/step - loss: 7183.2598 - mse: 7183.2598 - val_loss: 9963.9189 - val_mse: 9963.9189 - lr: 0.0010\n",
            "Epoch 41/250\n",
            "3/3 [==============================] - 0s 26ms/step - loss: 6954.4883 - mse: 6954.4883 - val_loss: 9668.5234 - val_mse: 9668.5234 - lr: 0.0010\n",
            "Epoch 42/250\n",
            "3/3 [==============================] - 0s 24ms/step - loss: 6956.7266 - mse: 6956.7266 - val_loss: 9070.5332 - val_mse: 9070.5332 - lr: 0.0010\n",
            "Epoch 43/250\n",
            "3/3 [==============================] - 0s 27ms/step - loss: 7325.1123 - mse: 7325.1123 - val_loss: 8494.9131 - val_mse: 8494.9131 - lr: 0.0010\n",
            "Epoch 44/250\n",
            "3/3 [==============================] - 0s 29ms/step - loss: 7109.2437 - mse: 7109.2437 - val_loss: 7711.0215 - val_mse: 7711.0215 - lr: 0.0010\n",
            "Epoch 45/250\n",
            "3/3 [==============================] - 0s 19ms/step - loss: 7983.2959 - mse: 7983.2959 - val_loss: 7767.9683 - val_mse: 7767.9683 - lr: 0.0010\n",
            "Epoch 46/250\n",
            "3/3 [==============================] - 0s 25ms/step - loss: 7025.2515 - mse: 7025.2515 - val_loss: 8473.6660 - val_mse: 8473.6660 - lr: 0.0010\n",
            "Epoch 47/250\n",
            "3/3 [==============================] - 0s 27ms/step - loss: 7875.6812 - mse: 7875.6812 - val_loss: 9281.5928 - val_mse: 9281.5928 - lr: 0.0010\n",
            "Epoch 48/250\n",
            "3/3 [==============================] - 0s 21ms/step - loss: 6725.8350 - mse: 6725.8350 - val_loss: 8929.7373 - val_mse: 8929.7373 - lr: 0.0010\n",
            "Epoch 49/250\n",
            "3/3 [==============================] - 0s 26ms/step - loss: 7790.4194 - mse: 7790.4194 - val_loss: 8060.0430 - val_mse: 8060.0430 - lr: 0.0010\n",
            "Epoch 50/250\n",
            "3/3 [==============================] - 0s 25ms/step - loss: 7966.5308 - mse: 7966.5308 - val_loss: 7246.5732 - val_mse: 7246.5732 - lr: 0.0010\n",
            "Epoch 51/250\n",
            "3/3 [==============================] - 0s 28ms/step - loss: 6209.6152 - mse: 6209.6152 - val_loss: 8393.6699 - val_mse: 8393.6699 - lr: 0.0010\n",
            "Epoch 52/250\n",
            "3/3 [==============================] - 0s 18ms/step - loss: 6690.1304 - mse: 6690.1304 - val_loss: 9808.9443 - val_mse: 9808.9443 - lr: 0.0010\n",
            "Epoch 53/250\n",
            "3/3 [==============================] - 0s 26ms/step - loss: 6481.9722 - mse: 6481.9722 - val_loss: 9467.2959 - val_mse: 9467.2959 - lr: 0.0010\n",
            "Epoch 54/250\n",
            "3/3 [==============================] - 0s 25ms/step - loss: 6268.7266 - mse: 6268.7266 - val_loss: 7515.1963 - val_mse: 7515.1963 - lr: 0.0010\n",
            "Epoch 55/250\n",
            "3/3 [==============================] - 0s 26ms/step - loss: 6795.1265 - mse: 6795.1265 - val_loss: 7402.1558 - val_mse: 7402.1558 - lr: 0.0010\n",
            "Epoch 56/250\n",
            "3/3 [==============================] - 0s 26ms/step - loss: 6156.2598 - mse: 6156.2598 - val_loss: 8400.1631 - val_mse: 8400.1631 - lr: 0.0010\n",
            "Epoch 57/250\n",
            "3/3 [==============================] - 0s 26ms/step - loss: 6747.3418 - mse: 6747.3418 - val_loss: 8938.2539 - val_mse: 8938.2539 - lr: 0.0010\n",
            "Epoch 58/250\n",
            "1/3 [=========>....................] - ETA: 0s - loss: 5345.5229 - mse: 5345.5229\n",
            "Epoch 58: ReduceLROnPlateau reducing learning rate to 0.0006000000284984708.\n",
            "3/3 [==============================] - 0s 29ms/step - loss: 5934.4492 - mse: 5934.4492 - val_loss: 9044.1807 - val_mse: 9044.1807 - lr: 0.0010\n",
            "Epoch 59/250\n",
            "3/3 [==============================] - 0s 26ms/step - loss: 6047.6025 - mse: 6047.6025 - val_loss: 8827.7910 - val_mse: 8827.7910 - lr: 6.0000e-04\n",
            "Epoch 60/250\n",
            "3/3 [==============================] - 0s 26ms/step - loss: 5978.2373 - mse: 5978.2373 - val_loss: 8729.0801 - val_mse: 8729.0801 - lr: 6.0000e-04\n",
            "Epoch 61/250\n",
            "3/3 [==============================] - 0s 25ms/step - loss: 6219.4971 - mse: 6219.4971 - val_loss: 8023.2256 - val_mse: 8023.2256 - lr: 6.0000e-04\n",
            "Epoch 62/250\n",
            "3/3 [==============================] - 0s 23ms/step - loss: 5553.4312 - mse: 5553.4312 - val_loss: 7127.4858 - val_mse: 7127.4858 - lr: 6.0000e-04\n",
            "Epoch 63/250\n",
            "3/3 [==============================] - 0s 21ms/step - loss: 6380.6475 - mse: 6380.6475 - val_loss: 7075.3193 - val_mse: 7075.3193 - lr: 6.0000e-04\n",
            "Epoch 64/250\n",
            "3/3 [==============================] - 0s 22ms/step - loss: 5743.5547 - mse: 5743.5547 - val_loss: 7790.2539 - val_mse: 7790.2539 - lr: 6.0000e-04\n",
            "Epoch 65/250\n",
            "3/3 [==============================] - 0s 26ms/step - loss: 5541.0903 - mse: 5541.0903 - val_loss: 8048.1733 - val_mse: 8048.1733 - lr: 6.0000e-04\n",
            "Epoch 66/250\n",
            "3/3 [==============================] - 0s 23ms/step - loss: 5191.6318 - mse: 5191.6318 - val_loss: 8092.1045 - val_mse: 8092.1045 - lr: 6.0000e-04\n",
            "Epoch 67/250\n",
            "3/3 [==============================] - 0s 24ms/step - loss: 4988.4741 - mse: 4988.4741 - val_loss: 8354.9648 - val_mse: 8354.9648 - lr: 6.0000e-04\n",
            "Epoch 68/250\n",
            "3/3 [==============================] - 0s 21ms/step - loss: 6113.3013 - mse: 6113.3013 - val_loss: 8290.2734 - val_mse: 8290.2734 - lr: 6.0000e-04\n",
            "Epoch 69/250\n",
            "3/3 [==============================] - 0s 23ms/step - loss: 5692.4790 - mse: 5692.4790 - val_loss: 7969.6309 - val_mse: 7969.6309 - lr: 6.0000e-04\n",
            "Epoch 70/250\n",
            "3/3 [==============================] - 0s 24ms/step - loss: 5186.1714 - mse: 5186.1714 - val_loss: 7757.9165 - val_mse: 7757.9165 - lr: 6.0000e-04\n",
            "Epoch 71/250\n",
            "1/3 [=========>....................] - ETA: 0s - loss: 5855.4600 - mse: 5855.4600\n",
            "Epoch 71: ReduceLROnPlateau reducing learning rate to 0.0003600000170990825.\n",
            "3/3 [==============================] - 0s 25ms/step - loss: 5098.0522 - mse: 5098.0522 - val_loss: 7554.5464 - val_mse: 7554.5464 - lr: 6.0000e-04\n",
            "Epoch 72/250\n",
            "3/3 [==============================] - 0s 27ms/step - loss: 5593.5381 - mse: 5593.5381 - val_loss: 7481.3770 - val_mse: 7481.3770 - lr: 3.6000e-04\n",
            "Epoch 73/250\n",
            "3/3 [==============================] - 0s 27ms/step - loss: 5586.4346 - mse: 5586.4346 - val_loss: 7529.3525 - val_mse: 7529.3525 - lr: 3.6000e-04\n",
            "Epoch 74/250\n",
            "3/3 [==============================] - 0s 24ms/step - loss: 5567.5425 - mse: 5567.5425 - val_loss: 7705.4229 - val_mse: 7705.4229 - lr: 3.6000e-04\n",
            "Epoch 75/250\n",
            "3/3 [==============================] - 0s 28ms/step - loss: 4587.8936 - mse: 4587.8936 - val_loss: 7821.8755 - val_mse: 7821.8755 - lr: 3.6000e-04\n",
            "Epoch 76/250\n",
            "3/3 [==============================] - 0s 27ms/step - loss: 5256.4526 - mse: 5256.4526 - val_loss: 7948.7695 - val_mse: 7948.7695 - lr: 3.6000e-04\n",
            "Epoch 77/250\n",
            "3/3 [==============================] - 0s 20ms/step - loss: 5043.1255 - mse: 5043.1255 - val_loss: 8074.5942 - val_mse: 8074.5942 - lr: 3.6000e-04\n",
            "Epoch 78/250\n",
            "3/3 [==============================] - 0s 21ms/step - loss: 4412.5967 - mse: 4412.5967 - val_loss: 7845.1733 - val_mse: 7845.1733 - lr: 3.6000e-04\n",
            "Epoch 79/250\n",
            "1/3 [=========>....................] - ETA: 0s - loss: 5243.4077 - mse: 5243.4077\n",
            "Epoch 79: ReduceLROnPlateau reducing learning rate to 0.00021600000327453016.\n",
            "3/3 [==============================] - 0s 22ms/step - loss: 5436.7212 - mse: 5436.7212 - val_loss: 7450.4541 - val_mse: 7450.4541 - lr: 3.6000e-04\n",
            "Epoch 80/250\n",
            "3/3 [==============================] - 0s 24ms/step - loss: 4690.2568 - mse: 4690.2568 - val_loss: 7354.5879 - val_mse: 7354.5879 - lr: 2.1600e-04\n",
            "Epoch 81/250\n",
            "3/3 [==============================] - 0s 27ms/step - loss: 4931.0356 - mse: 4931.0356 - val_loss: 7264.7432 - val_mse: 7264.7432 - lr: 2.1600e-04\n",
            "Epoch 82/250\n",
            "3/3 [==============================] - 0s 28ms/step - loss: 5176.4634 - mse: 5176.4634 - val_loss: 7313.3018 - val_mse: 7313.3018 - lr: 2.1600e-04\n",
            "Epoch 83/250\n",
            "3/3 [==============================] - 0s 28ms/step - loss: 5055.3320 - mse: 5055.3320 - val_loss: 7391.5557 - val_mse: 7391.5557 - lr: 2.1600e-04\n",
            "Epoch 84/250\n",
            "3/3 [==============================] - 0s 28ms/step - loss: 5549.9194 - mse: 5549.9194 - val_loss: 7541.2002 - val_mse: 7541.2002 - lr: 2.1600e-04\n",
            "Epoch 85/250\n",
            "3/3 [==============================] - 0s 23ms/step - loss: 5096.5581 - mse: 5096.5581 - val_loss: 7588.3940 - val_mse: 7588.3940 - lr: 2.1600e-04\n",
            "Epoch 86/250\n",
            "3/3 [==============================] - 0s 27ms/step - loss: 5018.2661 - mse: 5018.2661 - val_loss: 7755.2891 - val_mse: 7755.2891 - lr: 2.1600e-04\n",
            "Epoch 87/250\n",
            "1/3 [=========>....................] - ETA: 0s - loss: 5260.3706 - mse: 5260.3706\n",
            "Epoch 87: ReduceLROnPlateau reducing learning rate to 0.00012960000021848827.\n",
            "3/3 [==============================] - 0s 24ms/step - loss: 5266.4463 - mse: 5266.4463 - val_loss: 7966.4365 - val_mse: 7966.4365 - lr: 2.1600e-04\n",
            "Epoch 88/250\n",
            "3/3 [==============================] - 0s 31ms/step - loss: 6005.0186 - mse: 6005.0186 - val_loss: 7973.6060 - val_mse: 7973.6060 - lr: 1.2960e-04\n"
          ]
        }
      ]
    },
    {
      "cell_type": "code",
      "source": [
        "plt.plot(history.history['loss'])\n",
        "plt.plot(history.history['val_loss'])\n",
        "plt.title('model loss')\n",
        "plt.ylabel('loss')\n",
        "plt.xlabel('epoch')\n",
        "plt.legend(['train', 'val'], loc='upper left')\n",
        "plt.show()"
      ],
      "metadata": {
        "id": "DPKLX9FzXr8w",
        "colab": {
          "base_uri": "https://localhost:8080/",
          "height": 295
        },
        "outputId": "d46ad8a8-9473-4588-e133-8eade3c72af5"
      },
      "execution_count": null,
      "outputs": [
        {
          "output_type": "display_data",
          "data": {
            "text/plain": [
              "<Figure size 432x288 with 1 Axes>"
            ],
            "image/png": "[encoded data removed]"
          },
          "metadata": {
            "needs_background": "light"
          }
        }
      ]
    },
    {
      "cell_type": "code",
      "source": [
        "preds = model.predict(X_test)\n",
        "scores = np.mean(np.power(X_test - preds, 2), axis=1)\n",
        "scores_to_define_threshold = np.mean(np.power(X_test - preds, 2), axis=1)\n",
        "plt.hist(scores, bins=20)"
      ],
      "metadata": {
        "id": "u9FslqqYAn9C",
        "colab": {
          "base_uri": "https://localhost:8080/",
          "height": 429
        },
        "outputId": "8378e28d-71a8-4ad6-b315-5d1ccf37d50e"
      },
      "execution_count": null,
      "outputs": [
        {
          "output_type": "execute_result",
          "data": {
            "text/plain": [
              "(array([71., 13.,  7.,  6.,  5.,  5.,  2.,  3.,  1.,  5.,  3., 10.,  5.,\n",
              "         4.,  6.,  9.,  8.,  9.,  7., 36.]),\n",
              " array([  721.67386609,  1572.71399724,  2423.75412839,  3274.79425953,\n",
              "         4125.83439068,  4976.87452183,  5827.91465297,  6678.95478412,\n",
              "         7529.99491526,  8381.03504641,  9232.07517756, 10083.1153087 ,\n",
              "        10934.15543985, 11785.195571  , 12636.23570214, 13487.27583329,\n",
              "        14338.31596444, 15189.35609558, 16040.39622673, 16891.43635787,\n",
              "        17742.47648902]),\n",
              " <a list of 20 Patch objects>)"
            ]
          },
          "metadata": {},
          "execution_count": 14
        },
        {
          "output_type": "display_data",
          "data": {
            "text/plain": [
              "<Figure size 432x288 with 1 Axes>"
            ],
            "image/png": "[encoded data removed]"
          },
          "metadata": {
            "needs_background": "light"
          }
        }
      ]
    },
    {
      "cell_type": "code",
      "source": [
        "threshold = 6000\n",
        "scores[scores < threshold] = -999\n",
        "scores[scores >= threshold] = int(-1)\n",
        "scores[scores == -999] = int(1)\n",
        "# scores[scores.isna()] = int(1)\n",
        "y_pred = np.array(scores)"
      ],
      "metadata": {
        "id": "W31Ar9MavKW9"
      },
      "execution_count": null,
      "outputs": []
    },
    {
      "cell_type": "code",
      "source": [
        "def get_confusion_matrix(y_real, y_pred, model_name=None):\n",
        "    y_real_list = list(y_real)\n",
        "    y_pred_list = list(y_pred)\n",
        "    cm = confusion_matrix(y_true=y_real_list, y_pred=y_pred_list)\n",
        "    ax = sns.heatmap(cm, annot=True, cmap='Blues')\n",
        "\n",
        "    ax.set_title(model_name + ' Confusion Matrix with labels')\n",
        "    ax.set_xlabel('Predicted Values')\n",
        "    ax.set_ylabel('Actual Values')\n",
        "\n",
        "    # Ticket labels - As listas devem estar em ordem alfabetica\n",
        "    ax.xaxis.set_ticklabels(['-1', '1'])\n",
        "    ax.yaxis.set_ticklabels(['-1', '1'])\n",
        "    plt.show()\n",
        "    return cm"
      ],
      "metadata": {
        "id": "zK4fNVzGDWTS"
      },
      "execution_count": null,
      "outputs": []
    },
    {
      "cell_type": "code",
      "source": [
        "# Calcula todas as métricas e exibe a matriz de confusão\n",
        "cm = get_confusion_matrix(y_real=y_test, y_pred=y_pred, model_name=\"Autoencoder\")\n",
        "\n",
        "ret = precision_recall_fscore_support(y_test, y_pred, average='micro')\n",
        "print(ret)\n",
        "# p, r, f1, _ = ret"
      ],
      "metadata": {
        "colab": {
          "base_uri": "https://localhost:8080/",
          "height": 313
        },
        "id": "yFEFsG0ZCtb6",
        "outputId": "2d15bf28-147c-4882-acdd-9b5c8c656d3e"
      },
      "execution_count": null,
      "outputs": [
        {
          "output_type": "display_data",
          "data": {
            "text/plain": [
              "<Figure size 432x288 with 2 Axes>"
            ],
            "image/png": "[encoded data removed]"
          },
          "metadata": {
            "needs_background": "light"
          }
        },
        {
          "output_type": "stream",
          "name": "stdout",
          "text": [
            "(0.7116279069767442, 0.7116279069767442, 0.7116279069767442, None)\n"
          ]
        }
      ]
    },
    {
      "cell_type": "markdown",
      "source": [
        "Vamos encontrar o melhor valor de threshold"
      ],
      "metadata": {
        "id": "cxKxl5C5LiNx"
      }
    },
    {
      "cell_type": "code",
      "source": [
        "erros = [(i, val_y_test, val_y_pred, scores_to_define_threshold[i]) for i, (val_y_test, val_y_pred) in enumerate(zip(y_test, y_pred)) if val_y_test != val_y_pred]\n",
        "print(min([cada_erro[3] for cada_erro in erros]))\n",
        "erros"
      ],
      "metadata": {
        "id": "tmpPxfuZLwyg",
        "colab": {
          "base_uri": "https://localhost:8080/"
        },
        "outputId": "e85f2ddf-2f37-47b4-dab4-9b05d8dd670c"
      },
      "execution_count": null,
      "outputs": [
        {
          "output_type": "stream",
          "name": "stdout",
          "text": [
            "772.6523018475909\n"
          ]
        },
        {
          "output_type": "execute_result",
          "data": {
            "text/plain": [
              "[(70, -1.0, 1.0, 5372.263823268318),\n",
              " (73, -1.0, 1.0, 1234.5902481453902),\n",
              " (75, -1.0, 1.0, 898.7484402324346),\n",
              " (76, -1.0, 1.0, 4549.816291197612),\n",
              " (78, -1.0, 1.0, 4141.310896597884),\n",
              " (79, -1.0, 1.0, 1043.9142125501712),\n",
              " (80, -1.0, 1.0, 1178.9926242034053),\n",
              " (81, -1.0, 1.0, 3664.109369109751),\n",
              " (83, -1.0, 1.0, 1685.457117723702),\n",
              " (85, -1.0, 1.0, 1880.8933192656036),\n",
              " (86, -1.0, 1.0, 2748.1334881988664),\n",
              " (88, -1.0, 1.0, 3677.6089274087694),\n",
              " (89, -1.0, 1.0, 3136.621735519219),\n",
              " (91, -1.0, 1.0, 5133.77008344412),\n",
              " (93, -1.0, 1.0, 1605.1748220388072),\n",
              " (94, -1.0, 1.0, 820.0941467106775),\n",
              " (95, -1.0, 1.0, 2990.3711808353573),\n",
              " (99, -1.0, 1.0, 772.6523018475909),\n",
              " (101, -1.0, 1.0, 4670.717001801752),\n",
              " (102, -1.0, 1.0, 1157.7346932436155),\n",
              " (103, -1.0, 1.0, 2038.111657980388),\n",
              " (104, -1.0, 1.0, 1433.180896567496),\n",
              " (105, -1.0, 1.0, 3459.3269062290697),\n",
              " (106, -1.0, 1.0, 2276.2039760559355),\n",
              " (107, -1.0, 1.0, 856.4917989181611),\n",
              " (108, -1.0, 1.0, 1406.5120174093763),\n",
              " (114, -1.0, 1.0, 1186.0293278793088),\n",
              " (115, -1.0, 1.0, 1195.7351768524),\n",
              " (118, -1.0, 1.0, 1663.174787843561),\n",
              " (119, -1.0, 1.0, 927.5089540288224),\n",
              " (120, -1.0, 1.0, 1437.3033564700213),\n",
              " (121, -1.0, 1.0, 5439.812309616544),\n",
              " (122, -1.0, 1.0, 5059.686964045489),\n",
              " (124, -1.0, 1.0, 4565.158428210094),\n",
              " (125, -1.0, 1.0, 1486.8076865393582),\n",
              " (126, -1.0, 1.0, 948.827428127354),\n",
              " (127, -1.0, 1.0, 827.9606063915471),\n",
              " (128, -1.0, 1.0, 3538.220190146996),\n",
              " (130, -1.0, 1.0, 2257.8871259135376),\n",
              " (131, -1.0, 1.0, 867.486262750841),\n",
              " (135, -1.0, 1.0, 953.0790634860754),\n",
              " (139, -1.0, 1.0, 2823.1825685575122),\n",
              " (140, -1.0, 1.0, 948.7174744585842),\n",
              " (141, -1.0, 1.0, 992.7061277289076),\n",
              " (143, -1.0, 1.0, 2229.4259060494464),\n",
              " (146, -1.0, 1.0, 1174.3558749977424),\n",
              " (148, -1.0, 1.0, 2685.5249244625784),\n",
              " (150, -1.0, 1.0, 1074.9221011957939),\n",
              " (152, -1.0, 1.0, 2029.2992537656908),\n",
              " (153, -1.0, 1.0, 2118.915024984507),\n",
              " (154, -1.0, 1.0, 2128.811006833753),\n",
              " (155, -1.0, 1.0, 3787.0822131223736),\n",
              " (156, -1.0, 1.0, 3983.8287652006306),\n",
              " (158, -1.0, 1.0, 1117.937955008059),\n",
              " (159, -1.0, 1.0, 2813.829821723673),\n",
              " (160, -1.0, 1.0, 5797.604750029059),\n",
              " (161, -1.0, 1.0, 1205.7100453674182),\n",
              " (162, -1.0, 1.0, 1600.3752514861158),\n",
              " (163, -1.0, 1.0, 4355.22961429176),\n",
              " (164, -1.0, 1.0, 3198.1867447663562),\n",
              " (167, -1.0, 1.0, 1752.2259272298465),\n",
              " (169, -1.0, 1.0, 963.2908957209804)]"
            ]
          },
          "metadata": {},
          "execution_count": 19
        }
      ]
    },
    {
      "cell_type": "code",
      "source": [
        "preds = model.predict(X_test)\n",
        "scores = np.mean(np.power(X_test - preds, 2), axis=1)\n",
        "\n",
        "threshold = 772\n",
        "scores[scores < threshold] = -999\n",
        "scores[scores >= threshold] = int(-1)\n",
        "scores[scores == -999] = int(1)\n",
        "# scores[scores.isna()] = int(1)\n",
        "y_pred = np.array(scores)"
      ],
      "metadata": {
        "id": "jqzFL74AFk8M"
      },
      "execution_count": null,
      "outputs": []
    },
    {
      "cell_type": "code",
      "source": [
        "cm = get_confusion_matrix(y_real=y_test, y_pred=y_pred, model_name=\"Autoencoder\")\n",
        "\n",
        "ret = precision_recall_fscore_support(y_test, y_pred, average='micro')\n",
        "print(ret)"
      ],
      "metadata": {
        "colab": {
          "base_uri": "https://localhost:8080/",
          "height": 313
        },
        "id": "XpFprGLZF5Nb",
        "outputId": "48b8f8f4-8108-4a6a-963e-d9379cdf4316"
      },
      "execution_count": null,
      "outputs": [
        {
          "output_type": "display_data",
          "data": {
            "text/plain": [
              "<Figure size 432x288 with 2 Axes>"
            ],
            "image/png": "[encoded data removed]"
          },
          "metadata": {
            "needs_background": "light"
          }
        },
        {
          "output_type": "stream",
          "name": "stdout",
          "text": [
            "(1.0, 1.0, 1.0, None)\n"
          ]
        }
      ]
    },
    {
      "cell_type": "markdown",
      "source": [
        "#### Aplicando sobre o dataset de validação"
      ],
      "metadata": {
        "id": "xesyg0sJXpkW"
      }
    },
    {
      "cell_type": "code",
      "source": [
        "preds_val = model.predict(X_val)\n",
        "scores_val = np.mean(np.power(X_val - preds_val, 2), axis=1)\n",
        "\n",
        "scores_val[scores_val < threshold] = -999\n",
        "scores_val[scores_val >= threshold] = int(-1)\n",
        "scores_val[scores_val == -999] = int(1)\n",
        "# scores_val[scores_val.isna()] = int(1)\n",
        "y_val_pred = np.array(scores_val)"
      ],
      "metadata": {
        "id": "OSadOG8SXrCJ"
      },
      "execution_count": null,
      "outputs": []
    },
    {
      "cell_type": "code",
      "source": [
        "cm_val = get_confusion_matrix(y_real=y_val, y_pred=y_val_pred, model_name=\"Autoencoder\")\n",
        "\n",
        "ret_val = precision_recall_fscore_support(y_val, y_val_pred, average='micro')\n",
        "print(ret_val)"
      ],
      "metadata": {
        "id": "EI3c4eZsXrhO",
        "colab": {
          "base_uri": "https://localhost:8080/",
          "height": 313
        },
        "outputId": "827e125f-ebe5-4f47-c363-734b2723855b"
      },
      "execution_count": null,
      "outputs": [
        {
          "output_type": "display_data",
          "data": {
            "text/plain": [
              "<Figure size 432x288 with 2 Axes>"
            ],
            "image/png": "[encoded data removed]"
          },
          "metadata": {
            "needs_background": "light"
          }
        },
        {
          "output_type": "stream",
          "name": "stdout",
          "text": [
            "(0.9739583333333334, 0.9739583333333334, 0.9739583333333334, None)\n"
          ]
        }
      ]
    },
    {
      "cell_type": "markdown",
      "source": [
        " ### Autoencoder + SVC"
      ],
      "metadata": {
        "id": "qWG2vgy5YNs2"
      }
    },
    {
      "cell_type": "markdown",
      "source": [
        "#### Treino"
      ],
      "metadata": {
        "id": "KN16FQAGXtbe"
      }
    },
    {
      "cell_type": "code",
      "source": [
        "import numpy as np\n",
        "import random\n",
        "import pandas as pd\n",
        "import matplotlib.pyplot as plt\n",
        "from sklearn.metrics import precision_recall_fscore_support\n",
        "from sklearn.metrics import confusion_matrix\n",
        "import seaborn as sns\n",
        "import tensorflow\n",
        "from tensorflow.keras import Model\n",
        "from tensorflow.keras.layers import Input, Dense, Dropout, BatchNormalization\n",
        "from tensorflow.keras.optimizers import Adam\n",
        "from tensorflow.keras import regularizers\n",
        "from tensorflow.keras.callbacks import EarlyStopping, ReduceLROnPlateau\n",
        "import logging\n",
        "\n",
        "\n",
        "# set random seed for reproducibility\n",
        "tensorflow.random.set_seed(2022)\n",
        "np.random.seed(2022)\n",
        "np.random.RandomState(2022)\n",
        "random.seed(2022)"
      ],
      "metadata": {
        "id": "RVzZ3J7xXwnn"
      },
      "execution_count": null,
      "outputs": []
    },
    {
      "cell_type": "code",
      "source": [
        "# definição do modelo\n",
        "\n",
        "input_feats = X_train.shape[1]\n",
        "hidden_neurons = [64, 16]\n",
        "latent_dim = 8\n",
        "\n",
        "# Encoder\n",
        "inputs = Input(shape=(input_feats,), name='encoder_input')\n",
        "enc_hidden = Dense(hidden_neurons[0], activation='linear', name='encoder_hidden_0')(inputs)\n",
        "enc_hidden = Dropout(0.15)(enc_hidden)\n",
        "enc_hidden = Dense(hidden_neurons[1], activation='linear', name='encoder_hidden_1')(enc_hidden)\n",
        "enc_hidden = Dropout(0.25)(enc_hidden)\n",
        "\n",
        "# Camda Latente\n",
        "z_ = Dense(latent_dim, name='z_')(enc_hidden)\n",
        "\n",
        "encoder = Model(inputs, z_, name='encoder')\n",
        "logging.info(encoder.summary())\n",
        "\n",
        "# Decoder\n",
        "latent_inputs = Input(shape=(latent_dim,), name='z_')\n",
        "dec_hidden = Dense(hidden_neurons[1], activation='linear', name='decoder_hidden_0')(latent_inputs)\n",
        "dec_hidden = Dropout(0.15)(dec_hidden)\n",
        "dec_hidden = Dense(hidden_neurons[0], activation='linear', name='decoder_hidden_1')(dec_hidden)\n",
        "dec_hidden = Dropout(0.25)(dec_hidden)\n",
        "\n",
        "\n",
        "outputs = Dense(input_feats, activation='linear',\n",
        "                name='decoder_output')(dec_hidden)\n",
        "\n",
        "decoder = Model(latent_inputs, outputs, name='decoder')\n",
        "logging.info(decoder.summary())\n",
        "\n",
        "\n",
        "outputs = decoder(encoder(inputs))\n",
        "\n",
        "model = Model(inputs, outputs, name='ae')\n",
        "\n",
        "optimizer = Adam(learning_rate=0.001)\n",
        "model.compile(optimizer=optimizer, loss=\"mse\", metrics='mse');"
      ],
      "metadata": {
        "id": "Lx6owKYHX7jS",
        "colab": {
          "base_uri": "https://localhost:8080/"
        },
        "outputId": "15770588-acfb-41e3-f94f-286fb157923e"
      },
      "execution_count": null,
      "outputs": [
        {
          "output_type": "stream",
          "name": "stdout",
          "text": [
            "Model: \"encoder\"\n",
            "_________________________________________________________________\n",
            " Layer (type)                Output Shape              Param #   \n",
            "=================================================================\n",
            " encoder_input (InputLayer)  [(None, 40)]              0         \n",
            "                                                                 \n",
            " encoder_hidden_0 (Dense)    (None, 64)                2624      \n",
            "                                                                 \n",
            " dropout_4 (Dropout)         (None, 64)                0         \n",
            "                                                                 \n",
            " encoder_hidden_1 (Dense)    (None, 16)                1040      \n",
            "                                                                 \n",
            " dropout_5 (Dropout)         (None, 16)                0         \n",
            "                                                                 \n",
            " z_ (Dense)                  (None, 8)                 136       \n",
            "                                                                 \n",
            "=================================================================\n",
            "Total params: 3,800\n",
            "Trainable params: 3,800\n",
            "Non-trainable params: 0\n",
            "_________________________________________________________________\n",
            "Model: \"decoder\"\n",
            "_________________________________________________________________\n",
            " Layer (type)                Output Shape              Param #   \n",
            "=================================================================\n",
            " z_ (InputLayer)             [(None, 8)]               0         \n",
            "                                                                 \n",
            " decoder_hidden_0 (Dense)    (None, 16)                144       \n",
            "                                                                 \n",
            " dropout_6 (Dropout)         (None, 16)                0         \n",
            "                                                                 \n",
            " decoder_hidden_1 (Dense)    (None, 64)                1088      \n",
            "                                                                 \n",
            " dropout_7 (Dropout)         (None, 64)                0         \n",
            "                                                                 \n",
            " decoder_output (Dense)      (None, 40)                2600      \n",
            "                                                                 \n",
            "=================================================================\n",
            "Total params: 3,832\n",
            "Trainable params: 3,832\n",
            "Non-trainable params: 0\n",
            "_________________________________________________________________\n"
          ]
        }
      ]
    },
    {
      "cell_type": "code",
      "source": [
        "monitor = 'val_mse'\n",
        "lr_reduce = ReduceLROnPlateau(monitor=monitor, factor=0.6, min_delta=0.0001, patience=8, verbose=1)\n",
        "early = EarlyStopping(monitor=monitor, mode=\"min\", patience=25)\n",
        "kwargs = {}\n",
        "kwargs['epochs'] = 250\n",
        "kwargs['batch_size'] = 32\n",
        "kwargs['shuffle'] = True\n",
        "kwargs['validation_data'] = (X_test, X_test)\n",
        "kwargs['verbose'] = 1\n",
        "kwargs['callbacks'] = [early, lr_reduce]\n",
        "\n",
        "history = model.fit(X_train, X_train, **kwargs)"
      ],
      "metadata": {
        "id": "Usbvh2oyX7ld",
        "colab": {
          "base_uri": "https://localhost:8080/"
        },
        "outputId": "63adebd0-18b9-4474-8d77-01630a8995a8"
      },
      "execution_count": null,
      "outputs": [
        {
          "output_type": "stream",
          "name": "stdout",
          "text": [
            "Epoch 1/250\n",
            "3/3 [==============================] - 1s 104ms/step - loss: 123938.0703 - mse: 123938.0703 - val_loss: 54104.7734 - val_mse: 54104.7734 - lr: 0.0010\n",
            "Epoch 2/250\n",
            "3/3 [==============================] - 0s 21ms/step - loss: 69190.4766 - mse: 69190.4766 - val_loss: 38350.9961 - val_mse: 38350.9961 - lr: 0.0010\n",
            "Epoch 3/250\n",
            "3/3 [==============================] - 0s 20ms/step - loss: 54469.7891 - mse: 54469.7891 - val_loss: 33892.7031 - val_mse: 33892.7031 - lr: 0.0010\n",
            "Epoch 4/250\n",
            "3/3 [==============================] - 0s 18ms/step - loss: 47197.9492 - mse: 47197.9492 - val_loss: 32680.7168 - val_mse: 32680.7168 - lr: 0.0010\n",
            "Epoch 5/250\n",
            "3/3 [==============================] - 0s 25ms/step - loss: 46976.1836 - mse: 46976.1836 - val_loss: 32217.9141 - val_mse: 32217.9141 - lr: 0.0010\n",
            "Epoch 6/250\n",
            "3/3 [==============================] - 0s 19ms/step - loss: 41504.9883 - mse: 41504.9883 - val_loss: 31401.6309 - val_mse: 31401.6309 - lr: 0.0010\n",
            "Epoch 7/250\n",
            "3/3 [==============================] - 0s 28ms/step - loss: 39972.5234 - mse: 39972.5234 - val_loss: 29977.2070 - val_mse: 29977.2070 - lr: 0.0010\n",
            "Epoch 8/250\n",
            "3/3 [==============================] - 0s 21ms/step - loss: 36707.3711 - mse: 36707.3711 - val_loss: 28268.0859 - val_mse: 28268.0859 - lr: 0.0010\n",
            "Epoch 9/250\n",
            "3/3 [==============================] - 0s 27ms/step - loss: 32806.0664 - mse: 32806.0664 - val_loss: 26483.2168 - val_mse: 26483.2168 - lr: 0.0010\n",
            "Epoch 10/250\n",
            "3/3 [==============================] - 0s 24ms/step - loss: 31461.4863 - mse: 31461.4863 - val_loss: 24090.7656 - val_mse: 24090.7656 - lr: 0.0010\n",
            "Epoch 11/250\n",
            "3/3 [==============================] - 0s 21ms/step - loss: 27678.8867 - mse: 27678.8867 - val_loss: 21391.9258 - val_mse: 21391.9258 - lr: 0.0010\n",
            "Epoch 12/250\n",
            "3/3 [==============================] - 0s 20ms/step - loss: 25098.6641 - mse: 25098.6641 - val_loss: 18438.3926 - val_mse: 18438.3926 - lr: 0.0010\n",
            "Epoch 13/250\n",
            "3/3 [==============================] - 0s 24ms/step - loss: 22020.9648 - mse: 22020.9648 - val_loss: 16158.0664 - val_mse: 16158.0664 - lr: 0.0010\n",
            "Epoch 14/250\n",
            "3/3 [==============================] - 0s 20ms/step - loss: 20649.9688 - mse: 20649.9688 - val_loss: 15084.6182 - val_mse: 15084.6182 - lr: 0.0010\n",
            "Epoch 15/250\n",
            "3/3 [==============================] - 0s 20ms/step - loss: 19565.1543 - mse: 19565.1543 - val_loss: 15001.0684 - val_mse: 15001.0684 - lr: 0.0010\n",
            "Epoch 16/250\n",
            "3/3 [==============================] - 0s 26ms/step - loss: 18576.4883 - mse: 18576.4883 - val_loss: 15507.1846 - val_mse: 15507.1846 - lr: 0.0010\n",
            "Epoch 17/250\n",
            "3/3 [==============================] - 0s 25ms/step - loss: 16101.5693 - mse: 16101.5693 - val_loss: 15184.4365 - val_mse: 15184.4365 - lr: 0.0010\n",
            "Epoch 18/250\n",
            "3/3 [==============================] - 0s 28ms/step - loss: 15235.7822 - mse: 15235.7822 - val_loss: 14103.6357 - val_mse: 14103.6357 - lr: 0.0010\n",
            "Epoch 19/250\n",
            "3/3 [==============================] - 0s 20ms/step - loss: 14480.0254 - mse: 14480.0254 - val_loss: 12637.0801 - val_mse: 12637.0801 - lr: 0.0010\n",
            "Epoch 20/250\n",
            "3/3 [==============================] - 0s 22ms/step - loss: 14940.9170 - mse: 14940.9170 - val_loss: 11569.6914 - val_mse: 11569.6914 - lr: 0.0010\n",
            "Epoch 21/250\n",
            "3/3 [==============================] - 0s 27ms/step - loss: 14998.3809 - mse: 14998.3809 - val_loss: 11072.3887 - val_mse: 11072.3887 - lr: 0.0010\n",
            "Epoch 22/250\n",
            "3/3 [==============================] - 0s 22ms/step - loss: 13168.7920 - mse: 13168.7920 - val_loss: 10770.2207 - val_mse: 10770.2207 - lr: 0.0010\n",
            "Epoch 23/250\n",
            "3/3 [==============================] - 0s 27ms/step - loss: 12034.7363 - mse: 12034.7363 - val_loss: 11333.1875 - val_mse: 11333.1875 - lr: 0.0010\n",
            "Epoch 24/250\n",
            "3/3 [==============================] - 0s 27ms/step - loss: 12772.0391 - mse: 12772.0391 - val_loss: 12956.9688 - val_mse: 12956.9688 - lr: 0.0010\n",
            "Epoch 25/250\n",
            "3/3 [==============================] - 0s 22ms/step - loss: 12528.3252 - mse: 12528.3252 - val_loss: 13100.2500 - val_mse: 13100.2500 - lr: 0.0010\n",
            "Epoch 26/250\n",
            "3/3 [==============================] - 0s 26ms/step - loss: 11385.8789 - mse: 11385.8789 - val_loss: 10857.8096 - val_mse: 10857.8096 - lr: 0.0010\n",
            "Epoch 27/250\n",
            "3/3 [==============================] - 0s 26ms/step - loss: 11289.6523 - mse: 11289.6523 - val_loss: 9456.3135 - val_mse: 9456.3135 - lr: 0.0010\n",
            "Epoch 28/250\n",
            "3/3 [==============================] - 0s 27ms/step - loss: 10753.7148 - mse: 10753.7148 - val_loss: 10556.5635 - val_mse: 10556.5635 - lr: 0.0010\n",
            "Epoch 29/250\n",
            "3/3 [==============================] - 0s 25ms/step - loss: 10253.9385 - mse: 10253.9385 - val_loss: 11191.9414 - val_mse: 11191.9414 - lr: 0.0010\n",
            "Epoch 30/250\n",
            "3/3 [==============================] - 0s 27ms/step - loss: 9484.4648 - mse: 9484.4648 - val_loss: 10340.1484 - val_mse: 10340.1484 - lr: 0.0010\n",
            "Epoch 31/250\n",
            "3/3 [==============================] - 0s 28ms/step - loss: 10224.6582 - mse: 10224.6582 - val_loss: 9708.7754 - val_mse: 9708.7754 - lr: 0.0010\n",
            "Epoch 32/250\n",
            "3/3 [==============================] - 0s 25ms/step - loss: 9020.5928 - mse: 9020.5928 - val_loss: 10605.6582 - val_mse: 10605.6582 - lr: 0.0010\n",
            "Epoch 33/250\n",
            "3/3 [==============================] - 0s 25ms/step - loss: 9724.1504 - mse: 9724.1504 - val_loss: 11084.8164 - val_mse: 11084.8164 - lr: 0.0010\n",
            "Epoch 34/250\n",
            "3/3 [==============================] - 0s 21ms/step - loss: 8913.2881 - mse: 8913.2881 - val_loss: 10353.0684 - val_mse: 10353.0684 - lr: 0.0010\n",
            "Epoch 35/250\n",
            "3/3 [==============================] - 0s 27ms/step - loss: 9027.5342 - mse: 9027.5342 - val_loss: 9107.5420 - val_mse: 9107.5420 - lr: 0.0010\n",
            "Epoch 36/250\n",
            "3/3 [==============================] - 0s 30ms/step - loss: 8463.8262 - mse: 8463.8262 - val_loss: 8814.3584 - val_mse: 8814.3584 - lr: 0.0010\n",
            "Epoch 37/250\n",
            "3/3 [==============================] - 0s 21ms/step - loss: 8086.5942 - mse: 8086.5942 - val_loss: 9505.7510 - val_mse: 9505.7510 - lr: 0.0010\n",
            "Epoch 38/250\n",
            "3/3 [==============================] - 0s 22ms/step - loss: 6985.8501 - mse: 6985.8501 - val_loss: 10147.3857 - val_mse: 10147.3857 - lr: 0.0010\n",
            "Epoch 39/250\n",
            "3/3 [==============================] - 0s 19ms/step - loss: 7740.9590 - mse: 7740.9590 - val_loss: 10210.7490 - val_mse: 10210.7490 - lr: 0.0010\n",
            "Epoch 40/250\n",
            "3/3 [==============================] - 0s 29ms/step - loss: 7183.2598 - mse: 7183.2598 - val_loss: 9963.9189 - val_mse: 9963.9189 - lr: 0.0010\n",
            "Epoch 41/250\n",
            "3/3 [==============================] - 0s 29ms/step - loss: 6954.4883 - mse: 6954.4883 - val_loss: 9668.5234 - val_mse: 9668.5234 - lr: 0.0010\n",
            "Epoch 42/250\n",
            "3/3 [==============================] - 0s 21ms/step - loss: 6956.7266 - mse: 6956.7266 - val_loss: 9070.5332 - val_mse: 9070.5332 - lr: 0.0010\n",
            "Epoch 43/250\n",
            "3/3 [==============================] - 0s 27ms/step - loss: 7325.1123 - mse: 7325.1123 - val_loss: 8494.9131 - val_mse: 8494.9131 - lr: 0.0010\n",
            "Epoch 44/250\n",
            "3/3 [==============================] - 0s 29ms/step - loss: 7109.2437 - mse: 7109.2437 - val_loss: 7711.0215 - val_mse: 7711.0215 - lr: 0.0010\n",
            "Epoch 45/250\n",
            "3/3 [==============================] - 0s 20ms/step - loss: 7983.2959 - mse: 7983.2959 - val_loss: 7767.9683 - val_mse: 7767.9683 - lr: 0.0010\n",
            "Epoch 46/250\n",
            "3/3 [==============================] - 0s 27ms/step - loss: 7025.2515 - mse: 7025.2515 - val_loss: 8473.6660 - val_mse: 8473.6660 - lr: 0.0010\n",
            "Epoch 47/250\n",
            "3/3 [==============================] - 0s 26ms/step - loss: 7875.6812 - mse: 7875.6812 - val_loss: 9281.5928 - val_mse: 9281.5928 - lr: 0.0010\n",
            "Epoch 48/250\n",
            "3/3 [==============================] - 0s 24ms/step - loss: 6725.8350 - mse: 6725.8350 - val_loss: 8929.7373 - val_mse: 8929.7373 - lr: 0.0010\n",
            "Epoch 49/250\n",
            "3/3 [==============================] - 0s 27ms/step - loss: 7790.4194 - mse: 7790.4194 - val_loss: 8060.0430 - val_mse: 8060.0430 - lr: 0.0010\n",
            "Epoch 50/250\n",
            "3/3 [==============================] - 0s 24ms/step - loss: 7966.5308 - mse: 7966.5308 - val_loss: 7246.5732 - val_mse: 7246.5732 - lr: 0.0010\n",
            "Epoch 51/250\n",
            "3/3 [==============================] - 0s 21ms/step - loss: 6209.6152 - mse: 6209.6152 - val_loss: 8393.6699 - val_mse: 8393.6699 - lr: 0.0010\n",
            "Epoch 52/250\n",
            "3/3 [==============================] - 0s 24ms/step - loss: 6690.1304 - mse: 6690.1304 - val_loss: 9808.9443 - val_mse: 9808.9443 - lr: 0.0010\n",
            "Epoch 53/250\n",
            "3/3 [==============================] - 0s 22ms/step - loss: 6481.9722 - mse: 6481.9722 - val_loss: 9467.2959 - val_mse: 9467.2959 - lr: 0.0010\n",
            "Epoch 54/250\n",
            "3/3 [==============================] - 0s 29ms/step - loss: 6268.7266 - mse: 6268.7266 - val_loss: 7515.1963 - val_mse: 7515.1963 - lr: 0.0010\n",
            "Epoch 55/250\n",
            "3/3 [==============================] - 0s 27ms/step - loss: 6795.1265 - mse: 6795.1265 - val_loss: 7402.1558 - val_mse: 7402.1558 - lr: 0.0010\n",
            "Epoch 56/250\n",
            "3/3 [==============================] - 0s 30ms/step - loss: 6156.2598 - mse: 6156.2598 - val_loss: 8400.1631 - val_mse: 8400.1631 - lr: 0.0010\n",
            "Epoch 57/250\n",
            "3/3 [==============================] - 0s 21ms/step - loss: 6747.3418 - mse: 6747.3418 - val_loss: 8938.2539 - val_mse: 8938.2539 - lr: 0.0010\n",
            "Epoch 58/250\n",
            "1/3 [=========>....................] - ETA: 0s - loss: 5345.5229 - mse: 5345.5229\n",
            "Epoch 58: ReduceLROnPlateau reducing learning rate to 0.0006000000284984708.\n",
            "3/3 [==============================] - 0s 32ms/step - loss: 5934.4492 - mse: 5934.4492 - val_loss: 9044.1807 - val_mse: 9044.1807 - lr: 0.0010\n",
            "Epoch 59/250\n",
            "3/3 [==============================] - 0s 30ms/step - loss: 6047.6025 - mse: 6047.6025 - val_loss: 8827.7910 - val_mse: 8827.7910 - lr: 6.0000e-04\n",
            "Epoch 60/250\n",
            "3/3 [==============================] - 0s 25ms/step - loss: 5978.2373 - mse: 5978.2373 - val_loss: 8729.0801 - val_mse: 8729.0801 - lr: 6.0000e-04\n",
            "Epoch 61/250\n",
            "3/3 [==============================] - 0s 23ms/step - loss: 6219.4971 - mse: 6219.4971 - val_loss: 8023.2256 - val_mse: 8023.2256 - lr: 6.0000e-04\n",
            "Epoch 62/250\n",
            "3/3 [==============================] - 0s 21ms/step - loss: 5553.4312 - mse: 5553.4312 - val_loss: 7127.4858 - val_mse: 7127.4858 - lr: 6.0000e-04\n",
            "Epoch 63/250\n",
            "3/3 [==============================] - 0s 27ms/step - loss: 6380.6475 - mse: 6380.6475 - val_loss: 7075.3193 - val_mse: 7075.3193 - lr: 6.0000e-04\n",
            "Epoch 64/250\n",
            "3/3 [==============================] - 0s 26ms/step - loss: 5743.5547 - mse: 5743.5547 - val_loss: 7790.2539 - val_mse: 7790.2539 - lr: 6.0000e-04\n",
            "Epoch 65/250\n",
            "3/3 [==============================] - 0s 20ms/step - loss: 5541.0903 - mse: 5541.0903 - val_loss: 8048.1733 - val_mse: 8048.1733 - lr: 6.0000e-04\n",
            "Epoch 66/250\n",
            "3/3 [==============================] - 0s 26ms/step - loss: 5191.6318 - mse: 5191.6318 - val_loss: 8092.1045 - val_mse: 8092.1045 - lr: 6.0000e-04\n",
            "Epoch 67/250\n",
            "3/3 [==============================] - 0s 28ms/step - loss: 4988.4741 - mse: 4988.4741 - val_loss: 8354.9648 - val_mse: 8354.9648 - lr: 6.0000e-04\n",
            "Epoch 68/250\n",
            "3/3 [==============================] - 0s 19ms/step - loss: 6113.3013 - mse: 6113.3013 - val_loss: 8290.2734 - val_mse: 8290.2734 - lr: 6.0000e-04\n",
            "Epoch 69/250\n",
            "3/3 [==============================] - 0s 26ms/step - loss: 5692.4790 - mse: 5692.4790 - val_loss: 7969.6309 - val_mse: 7969.6309 - lr: 6.0000e-04\n",
            "Epoch 70/250\n",
            "3/3 [==============================] - 0s 19ms/step - loss: 5186.1714 - mse: 5186.1714 - val_loss: 7757.9165 - val_mse: 7757.9165 - lr: 6.0000e-04\n",
            "Epoch 71/250\n",
            "1/3 [=========>....................] - ETA: 0s - loss: 5855.4600 - mse: 5855.4600\n",
            "Epoch 71: ReduceLROnPlateau reducing learning rate to 0.0003600000170990825.\n",
            "3/3 [==============================] - 0s 28ms/step - loss: 5098.0522 - mse: 5098.0522 - val_loss: 7554.5464 - val_mse: 7554.5464 - lr: 6.0000e-04\n",
            "Epoch 72/250\n",
            "3/3 [==============================] - 0s 21ms/step - loss: 5593.5381 - mse: 5593.5381 - val_loss: 7481.3770 - val_mse: 7481.3770 - lr: 3.6000e-04\n",
            "Epoch 73/250\n",
            "3/3 [==============================] - 0s 25ms/step - loss: 5586.4346 - mse: 5586.4346 - val_loss: 7529.3525 - val_mse: 7529.3525 - lr: 3.6000e-04\n",
            "Epoch 74/250\n",
            "3/3 [==============================] - 0s 20ms/step - loss: 5567.5425 - mse: 5567.5425 - val_loss: 7705.4229 - val_mse: 7705.4229 - lr: 3.6000e-04\n",
            "Epoch 75/250\n",
            "3/3 [==============================] - 0s 25ms/step - loss: 4587.8936 - mse: 4587.8936 - val_loss: 7821.8755 - val_mse: 7821.8755 - lr: 3.6000e-04\n",
            "Epoch 76/250\n",
            "3/3 [==============================] - 0s 25ms/step - loss: 5256.4526 - mse: 5256.4526 - val_loss: 7948.7695 - val_mse: 7948.7695 - lr: 3.6000e-04\n",
            "Epoch 77/250\n",
            "3/3 [==============================] - 0s 20ms/step - loss: 5043.1255 - mse: 5043.1255 - val_loss: 8074.5942 - val_mse: 8074.5942 - lr: 3.6000e-04\n",
            "Epoch 78/250\n",
            "3/3 [==============================] - 0s 25ms/step - loss: 4412.5967 - mse: 4412.5967 - val_loss: 7845.1733 - val_mse: 7845.1733 - lr: 3.6000e-04\n",
            "Epoch 79/250\n",
            "1/3 [=========>....................] - ETA: 0s - loss: 5243.4077 - mse: 5243.4077\n",
            "Epoch 79: ReduceLROnPlateau reducing learning rate to 0.00021600000327453016.\n",
            "3/3 [==============================] - 0s 22ms/step - loss: 5436.7212 - mse: 5436.7212 - val_loss: 7450.4541 - val_mse: 7450.4541 - lr: 3.6000e-04\n",
            "Epoch 80/250\n",
            "3/3 [==============================] - 0s 21ms/step - loss: 4690.2568 - mse: 4690.2568 - val_loss: 7354.5879 - val_mse: 7354.5879 - lr: 2.1600e-04\n",
            "Epoch 81/250\n",
            "3/3 [==============================] - 0s 21ms/step - loss: 4931.0356 - mse: 4931.0356 - val_loss: 7264.7432 - val_mse: 7264.7432 - lr: 2.1600e-04\n",
            "Epoch 82/250\n",
            "3/3 [==============================] - 0s 19ms/step - loss: 5176.4634 - mse: 5176.4634 - val_loss: 7313.3018 - val_mse: 7313.3018 - lr: 2.1600e-04\n",
            "Epoch 83/250\n",
            "3/3 [==============================] - 0s 27ms/step - loss: 5055.3320 - mse: 5055.3320 - val_loss: 7391.5557 - val_mse: 7391.5557 - lr: 2.1600e-04\n",
            "Epoch 84/250\n",
            "3/3 [==============================] - 0s 19ms/step - loss: 5549.9194 - mse: 5549.9194 - val_loss: 7541.2002 - val_mse: 7541.2002 - lr: 2.1600e-04\n",
            "Epoch 85/250\n",
            "3/3 [==============================] - 0s 22ms/step - loss: 5096.5581 - mse: 5096.5581 - val_loss: 7588.3940 - val_mse: 7588.3940 - lr: 2.1600e-04\n",
            "Epoch 86/250\n",
            "3/3 [==============================] - 0s 19ms/step - loss: 5018.2661 - mse: 5018.2661 - val_loss: 7755.2891 - val_mse: 7755.2891 - lr: 2.1600e-04\n",
            "Epoch 87/250\n",
            "1/3 [=========>....................] - ETA: 0s - loss: 5260.3706 - mse: 5260.3706\n",
            "Epoch 87: ReduceLROnPlateau reducing learning rate to 0.00012960000021848827.\n",
            "3/3 [==============================] - 0s 24ms/step - loss: 5266.4463 - mse: 5266.4463 - val_loss: 7966.4365 - val_mse: 7966.4365 - lr: 2.1600e-04\n",
            "Epoch 88/250\n",
            "3/3 [==============================] - 0s 21ms/step - loss: 6005.0186 - mse: 6005.0186 - val_loss: 7973.6060 - val_mse: 7973.6060 - lr: 1.2960e-04\n"
          ]
        }
      ]
    },
    {
      "cell_type": "code",
      "source": [
        "from sklearn.svm import OneClassSVM\n",
        "from sklearn.ensemble import IsolationForest"
      ],
      "metadata": {
        "id": "g0CDR37wxQQX"
      },
      "execution_count": null,
      "outputs": []
    },
    {
      "cell_type": "code",
      "source": [
        "preds = model.predict(X_train)\n",
        "svm = OneClassSVM(kernel='rbf', gamma='auto', nu=0.001)  # IsolationForest(contamination=0.01)\n",
        "svm.fit(preds)"
      ],
      "metadata": {
        "colab": {
          "base_uri": "https://localhost:8080/"
        },
        "id": "Lbiod1W8w2rm",
        "outputId": "c39da078-cc92-4a29-c6f5-f5df25cf7fc1"
      },
      "execution_count": null,
      "outputs": [
        {
          "output_type": "execute_result",
          "data": {
            "text/plain": [
              "OneClassSVM(gamma='auto', nu=0.001)"
            ]
          },
          "metadata": {},
          "execution_count": 28
        }
      ]
    },
    {
      "cell_type": "code",
      "source": [
        "y_pred = svm.predict(preds)"
      ],
      "metadata": {
        "id": "-gsJPReZ0hnO"
      },
      "execution_count": null,
      "outputs": []
    },
    {
      "cell_type": "code",
      "source": [
        "# Calcula todas as métricas e exibe a matriz de confusão\n",
        "cm = get_confusion_matrix(y_real=y_train, y_pred=y_pred, model_name=\"Autoencoder + SVM\")\n",
        "\n",
        "ret = precision_recall_fscore_support(y_train, y_pred, average='micro')\n",
        "print(ret)\n",
        "# p, r, f1, _ = ret"
      ],
      "metadata": {
        "colab": {
          "base_uri": "https://localhost:8080/",
          "height": 313
        },
        "id": "3Zjfrw4f1UNP",
        "outputId": "952c6c4f-c75c-4eba-a11b-5b9d4fdf3b3f"
      },
      "execution_count": null,
      "outputs": [
        {
          "output_type": "display_data",
          "data": {
            "text/plain": [
              "<Figure size 432x288 with 2 Axes>"
            ],
            "image/png": "[encoded data removed]"
          },
          "metadata": {
            "needs_background": "light"
          }
        },
        {
          "output_type": "stream",
          "name": "stdout",
          "text": [
            "(1.0, 1.0, 1.0, None)\n"
          ]
        }
      ]
    },
    {
      "cell_type": "code",
      "source": [
        "preds = model.predict(X_test)\n",
        "y_pred = svm.predict(preds)\n",
        "\n",
        "# Calcula todas as métricas e exibe a matriz de confusão\n",
        "cm = get_confusion_matrix(y_real=y_test, y_pred=y_pred, model_name=\"Autoencoder + SVM\")\n",
        "\n",
        "ret = precision_recall_fscore_support(y_test, y_pred, average='micro')\n",
        "print(ret)\n",
        "# p, r, f1, _ = ret"
      ],
      "metadata": {
        "colab": {
          "base_uri": "https://localhost:8080/",
          "height": 313
        },
        "id": "xsMV3M463KjG",
        "outputId": "793a6dd3-ea88-4200-9e02-5d56f0f594b8"
      },
      "execution_count": null,
      "outputs": [
        {
          "output_type": "display_data",
          "data": {
            "text/plain": [
              "<Figure size 432x288 with 2 Axes>"
            ],
            "image/png": "[encoded data removed]"
          },
          "metadata": {
            "needs_background": "light"
          }
        },
        {
          "output_type": "stream",
          "name": "stdout",
          "text": [
            "(1.0, 1.0, 1.0, None)\n"
          ]
        }
      ]
    },
    {
      "cell_type": "markdown",
      "source": [
        "#### Aplicando sobre o dataset de validação"
      ],
      "metadata": {
        "id": "N2Rn_7JcXxE2"
      }
    },
    {
      "cell_type": "code",
      "source": [
        "preds = model.predict(X_val)\n",
        "y_val_pred = svm.predict(preds)\n",
        "\n",
        "# Calcula todas as métricas e exibe a matriz de confusão\n",
        "cm = get_confusion_matrix(y_real=y_val, y_pred=y_val_pred, model_name=\"Autoencoder + SVM\")\n",
        "\n",
        "ret = precision_recall_fscore_support(y_val, y_val_pred, average='micro')\n",
        "print(ret)\n",
        "# p, r, f1, _ = ret"
      ],
      "metadata": {
        "id": "w1qTlf06XzE3",
        "colab": {
          "base_uri": "https://localhost:8080/",
          "height": 313
        },
        "outputId": "47965121-0db5-48b8-d208-c26484fb8e58"
      },
      "execution_count": null,
      "outputs": [
        {
          "output_type": "display_data",
          "data": {
            "text/plain": [
              "<Figure size 432x288 with 2 Axes>"
            ],
            "image/png": "[encoded data removed]"
          },
          "metadata": {
            "needs_background": "light"
          }
        },
        {
          "output_type": "stream",
          "name": "stdout",
          "text": [
            "(1.0, 1.0, 1.0, None)\n"
          ]
        }
      ]
    },
    {
      "cell_type": "markdown",
      "source": [
        "### Variational Autoencoder"
      ],
      "metadata": {
        "id": "pv7-_ghTYUcL"
      }
    },
    {
      "cell_type": "markdown",
      "source": [
        "#### Treino"
      ],
      "metadata": {
        "id": "4qk-8vAjXzve"
      }
    },
    {
      "cell_type": "code",
      "source": [
        "from sklearn.preprocessing import MinMaxScaler\n",
        "\n",
        "\n",
        "scaler = MinMaxScaler()\n",
        "scaler.fit(X_train)"
      ],
      "metadata": {
        "colab": {
          "base_uri": "https://localhost:8080/"
        },
        "id": "O6GM0dsMyZBn",
        "outputId": "567042ba-a8e1-4671-950e-379aaa34e402"
      },
      "execution_count": null,
      "outputs": [
        {
          "output_type": "execute_result",
          "data": {
            "text/plain": [
              "MinMaxScaler()"
            ]
          },
          "metadata": {},
          "execution_count": 33
        }
      ]
    },
    {
      "cell_type": "code",
      "source": [
        "X_train_norm = scaler.transform(X_train)\n",
        "X_test_norm = scaler.transform(X_test)"
      ],
      "metadata": {
        "id": "NB2HLiHFy6YG"
      },
      "execution_count": null,
      "outputs": []
    },
    {
      "cell_type": "code",
      "source": [
        "import numpy as np\n",
        "import random\n",
        "import pandas as pd\n",
        "import matplotlib.pyplot as plt\n",
        "from sklearn.metrics import precision_recall_fscore_support\n",
        "from sklearn.metrics import confusion_matrix\n",
        "import seaborn as sns\n",
        "import tensorflow as tf\n",
        "from tensorflow import keras\n",
        "from tensorflow.keras import Model\n",
        "from tensorflow.keras.layers import Input, Dense, Dropout, BatchNormalization, Lambda, Layer\n",
        "from tensorflow.keras.optimizers import Adam\n",
        "from tensorflow.keras import regularizers\n",
        "from tensorflow.keras.callbacks import EarlyStopping, ReduceLROnPlateau\n",
        "from tensorflow.keras import backend as K\n",
        "from tensorflow.keras.losses import mse\n",
        "import logging\n",
        "\n",
        "\n",
        "\n",
        "# set random seed for reproducibility\n",
        "tf.random.set_seed(2022)\n",
        "np.random.seed(2022)\n",
        "np.random.RandomState(2022)\n",
        "random.seed(2022)"
      ],
      "metadata": {
        "id": "jEyeaywtX4v1"
      },
      "execution_count": null,
      "outputs": []
    },
    {
      "cell_type": "code",
      "source": [
        "class Sampling(Layer):\n",
        "    \"\"\"Uses (z_mean, z_log_var) to sample z, the vector encoding a digit.\"\"\"\n",
        "\n",
        "    def call(self, inputs):\n",
        "        z_mean, z_log_var = inputs\n",
        "        batch = tf.shape(z_mean)[0]\n",
        "        dim = tf.shape(z_mean)[1]\n",
        "        epsilon = tf.keras.backend.random_normal(shape=(batch, dim))\n",
        "        return z_mean + tf.exp(0.5 * z_log_var) * epsilon"
      ],
      "metadata": {
        "id": "8H6HIZwRVhjx"
      },
      "execution_count": null,
      "outputs": []
    },
    {
      "cell_type": "code",
      "source": [
        "# definição do modelo\n",
        "\n",
        "input_feats = X_train_norm.shape[1]\n",
        "hidden_neurons = [128, 32]\n",
        "latent_dim = 8\n",
        "\n",
        "# Encoder\n",
        "inputs = Input(shape=(input_feats,), name='encoder_input')\n",
        "enc_hidden = Dense(hidden_neurons[0], activation='linear', name='encoder_hidden_0')(inputs)\n",
        "enc_hidden = Dropout(0.15)(enc_hidden)\n",
        "enc_hidden = Dense(hidden_neurons[1], activation='linear', name='encoder_hidden_1')(enc_hidden)\n",
        "enc_hidden = Dropout(0.25)(enc_hidden)\n",
        "\n",
        "# Camada Latente\n",
        "z_mean = Dense(latent_dim, name='z_mean')(enc_hidden)\n",
        "z_log_var = Dense(latent_dim, name='z_log_var')(enc_hidden)\n",
        "z = Sampling()([z_mean, z_log_var])\n",
        "\n",
        "encoder = Model(inputs, [z_mean, z_log_var, z], name='encoder')\n",
        "# logging.info(encoder.summary())\n",
        "\n",
        "\n",
        "# Decoder\n",
        "latent_inputs = Input(shape=(latent_dim,), name='z_sampling')\n",
        "dec_hidden = Dense(hidden_neurons[1], activation='linear', name='decoder_hidden_0')(latent_inputs)\n",
        "dec_hidden = Dropout(0.25)(dec_hidden)\n",
        "dec_hidden = Dense(hidden_neurons[0], activation='linear', name='decoder_hidden_1')(dec_hidden)\n",
        "dec_hidden = Dropout(0.15)(dec_hidden)\n",
        "outputs = Dense(input_feats, activation='linear',\n",
        "                name='decoder_output')(dec_hidden)\n",
        "\n",
        "decoder = Model(latent_inputs, outputs, name='decoder')\n",
        "# logging.info(decoder.summary())\n",
        "\n",
        "# Definindo o modelo VAE\n",
        "outputs = decoder(encoder(inputs)[2])\n",
        "model = Model(inputs, outputs, name='vae')\n",
        "logging.info(model.summary())\n",
        "\n",
        "# Adicionando métrica para reconstrução do VAE\n",
        "reconstruction_loss = keras.losses.mse(inputs, outputs)\n",
        "reconstruction_loss *= input_feats\n",
        "kl_loss = 1 + z_log_var - K.square(z_mean) - K.exp(z_log_var)\n",
        "kl_loss = K.sum(kl_loss, axis=-1)\n",
        "kl_loss *= -0.5\n",
        "vae_loss = K.mean(reconstruction_loss + kl_loss)\n",
        "model.add_loss(vae_loss)\n",
        "\n",
        "optimizer = Adam(learning_rate=0.001)\n",
        "model.compile(optimizer=optimizer);"
      ],
      "metadata": {
        "id": "bXeApVxtX8gO",
        "colab": {
          "base_uri": "https://localhost:8080/"
        },
        "outputId": "04a0e458-2a87-4644-ed20-6370a53b1c7e"
      },
      "execution_count": null,
      "outputs": [
        {
          "output_type": "stream",
          "name": "stdout",
          "text": [
            "Model: \"vae\"\n",
            "_________________________________________________________________\n",
            " Layer (type)                Output Shape              Param #   \n",
            "=================================================================\n",
            " encoder_input (InputLayer)  [(None, 40)]              0         \n",
            "                                                                 \n",
            " encoder (Functional)        [(None, 8),               9904      \n",
            "                              (None, 8),                         \n",
            "                              (None, 8)]                         \n",
            "                                                                 \n",
            " decoder (Functional)        (None, 40)                9672      \n",
            "                                                                 \n",
            "=================================================================\n",
            "Total params: 19,576\n",
            "Trainable params: 19,576\n",
            "Non-trainable params: 0\n",
            "_________________________________________________________________\n"
          ]
        }
      ]
    },
    {
      "cell_type": "code",
      "source": [
        "monitor = 'loss'\n",
        "lr_reduce = ReduceLROnPlateau(monitor=monitor, factor=0.6, min_delta=0.0001, patience=8, verbose=1)\n",
        "early = EarlyStopping(monitor=monitor, mode=\"min\", patience=25)\n",
        "kwargs = {}\n",
        "kwargs['epochs'] = 250\n",
        "kwargs['batch_size'] = 64\n",
        "kwargs['shuffle'] = True\n",
        "kwargs['validation_data'] = (X_test_norm, X_test_norm)\n",
        "kwargs['verbose'] = 1\n",
        "kwargs['callbacks'] = [early, lr_reduce]\n",
        "\n",
        "history = model.fit(X_train_norm, X_train_norm, **kwargs)"
      ],
      "metadata": {
        "id": "_Ba-kq5MX8iM",
        "colab": {
          "base_uri": "https://localhost:8080/"
        },
        "outputId": "f3a8243c-d248-406a-ebfd-a2e98ed801f2"
      },
      "execution_count": null,
      "outputs": [
        {
          "output_type": "stream",
          "name": "stdout",
          "text": [
            "Epoch 1/250\n",
            "2/2 [==============================] - 1s 229ms/step - loss: 80.4951 - val_loss: nan - lr: 0.0010\n",
            "Epoch 2/250\n",
            "2/2 [==============================] - 0s 37ms/step - loss: 46.0295 - val_loss: nan - lr: 0.0010\n",
            "Epoch 3/250\n",
            "2/2 [==============================] - 0s 62ms/step - loss: 38.0550 - val_loss: nan - lr: 0.0010\n",
            "Epoch 4/250\n",
            "2/2 [==============================] - 0s 37ms/step - loss: 31.8496 - val_loss: nan - lr: 0.0010\n",
            "Epoch 5/250\n",
            "2/2 [==============================] - 0s 33ms/step - loss: 30.1235 - val_loss: nan - lr: 0.0010\n",
            "Epoch 6/250\n",
            "2/2 [==============================] - 0s 56ms/step - loss: 27.3982 - val_loss: nan - lr: 0.0010\n",
            "Epoch 7/250\n",
            "2/2 [==============================] - 0s 48ms/step - loss: 26.7239 - val_loss: nan - lr: 0.0010\n",
            "Epoch 8/250\n",
            "2/2 [==============================] - 0s 37ms/step - loss: 22.5514 - val_loss: nan - lr: 0.0010\n",
            "Epoch 9/250\n",
            "2/2 [==============================] - 0s 53ms/step - loss: 21.1701 - val_loss: nan - lr: 0.0010\n",
            "Epoch 10/250\n",
            "2/2 [==============================] - 0s 50ms/step - loss: 19.9694 - val_loss: nan - lr: 0.0010\n",
            "Epoch 11/250\n",
            "2/2 [==============================] - 0s 49ms/step - loss: 18.8268 - val_loss: nan - lr: 0.0010\n",
            "Epoch 12/250\n",
            "2/2 [==============================] - 0s 33ms/step - loss: 17.3863 - val_loss: nan - lr: 0.0010\n",
            "Epoch 13/250\n",
            "2/2 [==============================] - 0s 33ms/step - loss: 16.4682 - val_loss: nan - lr: 0.0010\n",
            "Epoch 14/250\n",
            "2/2 [==============================] - 0s 37ms/step - loss: 14.9943 - val_loss: nan - lr: 0.0010\n",
            "Epoch 15/250\n",
            "2/2 [==============================] - 0s 42ms/step - loss: 14.4177 - val_loss: nan - lr: 0.0010\n",
            "Epoch 16/250\n",
            "2/2 [==============================] - 0s 32ms/step - loss: 13.8755 - val_loss: nan - lr: 0.0010\n",
            "Epoch 17/250\n",
            "2/2 [==============================] - 0s 38ms/step - loss: 13.1009 - val_loss: nan - lr: 0.0010\n",
            "Epoch 18/250\n",
            "2/2 [==============================] - 0s 52ms/step - loss: 13.1424 - val_loss: nan - lr: 0.0010\n",
            "Epoch 19/250\n",
            "2/2 [==============================] - 0s 54ms/step - loss: 13.2395 - val_loss: nan - lr: 0.0010\n",
            "Epoch 20/250\n",
            "2/2 [==============================] - 0s 44ms/step - loss: 12.3479 - val_loss: nan - lr: 0.0010\n",
            "Epoch 21/250\n",
            "2/2 [==============================] - 0s 34ms/step - loss: 11.3117 - val_loss: nan - lr: 0.0010\n",
            "Epoch 22/250\n",
            "2/2 [==============================] - 0s 40ms/step - loss: 11.3205 - val_loss: nan - lr: 0.0010\n",
            "Epoch 23/250\n",
            "2/2 [==============================] - 0s 47ms/step - loss: 11.1067 - val_loss: nan - lr: 0.0010\n",
            "Epoch 24/250\n",
            "2/2 [==============================] - 0s 40ms/step - loss: 11.9342 - val_loss: nan - lr: 0.0010\n",
            "Epoch 25/250\n",
            "2/2 [==============================] - 0s 52ms/step - loss: 11.8331 - val_loss: nan - lr: 0.0010\n",
            "Epoch 26/250\n",
            "2/2 [==============================] - 0s 49ms/step - loss: 10.1821 - val_loss: nan - lr: 0.0010\n",
            "Epoch 27/250\n",
            "2/2 [==============================] - 0s 52ms/step - loss: 10.2066 - val_loss: nan - lr: 0.0010\n",
            "Epoch 28/250\n",
            "2/2 [==============================] - 0s 50ms/step - loss: 10.7022 - val_loss: nan - lr: 0.0010\n",
            "Epoch 29/250\n",
            "2/2 [==============================] - 0s 33ms/step - loss: 10.1550 - val_loss: nan - lr: 0.0010\n",
            "Epoch 30/250\n",
            "2/2 [==============================] - 0s 50ms/step - loss: 10.3284 - val_loss: nan - lr: 0.0010\n",
            "Epoch 31/250\n",
            "2/2 [==============================] - 0s 38ms/step - loss: 10.3585 - val_loss: nan - lr: 0.0010\n",
            "Epoch 32/250\n",
            "2/2 [==============================] - 0s 35ms/step - loss: 8.9195 - val_loss: nan - lr: 0.0010\n",
            "Epoch 33/250\n",
            "2/2 [==============================] - 0s 37ms/step - loss: 10.3166 - val_loss: nan - lr: 0.0010\n",
            "Epoch 34/250\n",
            "2/2 [==============================] - 0s 31ms/step - loss: 10.3012 - val_loss: nan - lr: 0.0010\n",
            "Epoch 35/250\n",
            "2/2 [==============================] - 0s 34ms/step - loss: 9.3536 - val_loss: nan - lr: 0.0010\n",
            "Epoch 36/250\n",
            "2/2 [==============================] - 0s 49ms/step - loss: 9.0275 - val_loss: nan - lr: 0.0010\n",
            "Epoch 37/250\n",
            "2/2 [==============================] - 0s 40ms/step - loss: 8.6376 - val_loss: nan - lr: 0.0010\n",
            "Epoch 38/250\n",
            "2/2 [==============================] - 0s 56ms/step - loss: 9.4337 - val_loss: nan - lr: 0.0010\n",
            "Epoch 39/250\n",
            "2/2 [==============================] - 0s 32ms/step - loss: 9.3583 - val_loss: nan - lr: 0.0010\n",
            "Epoch 40/250\n",
            "2/2 [==============================] - 0s 49ms/step - loss: 8.7736 - val_loss: nan - lr: 0.0010\n",
            "Epoch 41/250\n",
            "2/2 [==============================] - 0s 55ms/step - loss: 8.5598 - val_loss: nan - lr: 0.0010\n",
            "Epoch 42/250\n",
            "2/2 [==============================] - 0s 64ms/step - loss: 8.6667 - val_loss: nan - lr: 0.0010\n",
            "Epoch 43/250\n",
            "2/2 [==============================] - 0s 59ms/step - loss: 8.6276 - val_loss: nan - lr: 0.0010\n",
            "Epoch 44/250\n",
            "2/2 [==============================] - 0s 57ms/step - loss: 9.1645 - val_loss: nan - lr: 0.0010\n",
            "Epoch 45/250\n",
            "2/2 [==============================] - 0s 54ms/step - loss: 8.2953 - val_loss: nan - lr: 0.0010\n",
            "Epoch 46/250\n",
            "2/2 [==============================] - 0s 37ms/step - loss: 8.8684 - val_loss: nan - lr: 0.0010\n",
            "Epoch 47/250\n",
            "2/2 [==============================] - 0s 46ms/step - loss: 8.5001 - val_loss: nan - lr: 0.0010\n",
            "Epoch 48/250\n",
            "2/2 [==============================] - 0s 47ms/step - loss: 8.0785 - val_loss: nan - lr: 0.0010\n",
            "Epoch 49/250\n",
            "2/2 [==============================] - 0s 55ms/step - loss: 8.7392 - val_loss: nan - lr: 0.0010\n",
            "Epoch 50/250\n",
            "2/2 [==============================] - 0s 40ms/step - loss: 7.9898 - val_loss: nan - lr: 0.0010\n",
            "Epoch 51/250\n",
            "2/2 [==============================] - 0s 43ms/step - loss: 8.5496 - val_loss: nan - lr: 0.0010\n",
            "Epoch 52/250\n",
            "2/2 [==============================] - 0s 54ms/step - loss: 8.2280 - val_loss: nan - lr: 0.0010\n",
            "Epoch 53/250\n",
            "2/2 [==============================] - 0s 37ms/step - loss: 8.0654 - val_loss: nan - lr: 0.0010\n",
            "Epoch 54/250\n",
            "2/2 [==============================] - 0s 41ms/step - loss: 7.6344 - val_loss: nan - lr: 0.0010\n",
            "Epoch 55/250\n",
            "2/2 [==============================] - 0s 56ms/step - loss: 8.6537 - val_loss: nan - lr: 0.0010\n",
            "Epoch 56/250\n",
            "2/2 [==============================] - 0s 50ms/step - loss: 7.7824 - val_loss: nan - lr: 0.0010\n",
            "Epoch 57/250\n",
            "2/2 [==============================] - 0s 46ms/step - loss: 7.5927 - val_loss: nan - lr: 0.0010\n",
            "Epoch 58/250\n",
            "2/2 [==============================] - 0s 34ms/step - loss: 7.4376 - val_loss: nan - lr: 0.0010\n",
            "Epoch 59/250\n",
            "2/2 [==============================] - 0s 35ms/step - loss: 7.4001 - val_loss: nan - lr: 0.0010\n",
            "Epoch 60/250\n",
            "2/2 [==============================] - 0s 49ms/step - loss: 7.2441 - val_loss: nan - lr: 0.0010\n",
            "Epoch 61/250\n",
            "2/2 [==============================] - 0s 49ms/step - loss: 7.4510 - val_loss: nan - lr: 0.0010\n",
            "Epoch 62/250\n",
            "2/2 [==============================] - 0s 33ms/step - loss: 7.7470 - val_loss: nan - lr: 0.0010\n",
            "Epoch 63/250\n",
            "2/2 [==============================] - 0s 56ms/step - loss: 6.6206 - val_loss: nan - lr: 0.0010\n",
            "Epoch 64/250\n",
            "2/2 [==============================] - 0s 52ms/step - loss: 6.6794 - val_loss: nan - lr: 0.0010\n",
            "Epoch 65/250\n",
            "2/2 [==============================] - 0s 37ms/step - loss: 6.4881 - val_loss: nan - lr: 0.0010\n",
            "Epoch 66/250\n",
            "2/2 [==============================] - 0s 49ms/step - loss: 7.2038 - val_loss: nan - lr: 0.0010\n",
            "Epoch 67/250\n",
            "2/2 [==============================] - 0s 36ms/step - loss: 6.7027 - val_loss: nan - lr: 0.0010\n",
            "Epoch 68/250\n",
            "2/2 [==============================] - 0s 38ms/step - loss: 7.0251 - val_loss: nan - lr: 0.0010\n",
            "Epoch 69/250\n",
            "2/2 [==============================] - 0s 34ms/step - loss: 7.0167 - val_loss: nan - lr: 0.0010\n",
            "Epoch 70/250\n",
            "2/2 [==============================] - 0s 31ms/step - loss: 7.2753 - val_loss: nan - lr: 0.0010\n",
            "Epoch 71/250\n",
            "2/2 [==============================] - 0s 33ms/step - loss: 6.8989 - val_loss: nan - lr: 0.0010\n",
            "Epoch 72/250\n",
            "2/2 [==============================] - 0s 35ms/step - loss: 6.3174 - val_loss: nan - lr: 0.0010\n",
            "Epoch 73/250\n",
            "2/2 [==============================] - 0s 51ms/step - loss: 6.2607 - val_loss: nan - lr: 0.0010\n",
            "Epoch 74/250\n",
            "2/2 [==============================] - 0s 44ms/step - loss: 6.4676 - val_loss: nan - lr: 0.0010\n",
            "Epoch 75/250\n",
            "2/2 [==============================] - 0s 35ms/step - loss: 6.1385 - val_loss: nan - lr: 0.0010\n",
            "Epoch 76/250\n",
            "2/2 [==============================] - 0s 47ms/step - loss: 6.7158 - val_loss: nan - lr: 0.0010\n",
            "Epoch 77/250\n",
            "2/2 [==============================] - 0s 35ms/step - loss: 6.2066 - val_loss: nan - lr: 0.0010\n",
            "Epoch 78/250\n",
            "2/2 [==============================] - 0s 49ms/step - loss: 6.2338 - val_loss: nan - lr: 0.0010\n",
            "Epoch 79/250\n",
            "2/2 [==============================] - 0s 35ms/step - loss: 6.1079 - val_loss: nan - lr: 0.0010\n",
            "Epoch 80/250\n",
            "2/2 [==============================] - 0s 48ms/step - loss: 6.0959 - val_loss: nan - lr: 0.0010\n",
            "Epoch 81/250\n",
            "2/2 [==============================] - 0s 51ms/step - loss: 6.0658 - val_loss: nan - lr: 0.0010\n",
            "Epoch 82/250\n",
            "2/2 [==============================] - 0s 32ms/step - loss: 5.7863 - val_loss: nan - lr: 0.0010\n",
            "Epoch 83/250\n",
            "2/2 [==============================] - 0s 51ms/step - loss: 5.6661 - val_loss: nan - lr: 0.0010\n",
            "Epoch 84/250\n",
            "2/2 [==============================] - 0s 37ms/step - loss: 5.3176 - val_loss: nan - lr: 0.0010\n",
            "Epoch 85/250\n",
            "2/2 [==============================] - 0s 46ms/step - loss: 5.5813 - val_loss: nan - lr: 0.0010\n",
            "Epoch 86/250\n",
            "2/2 [==============================] - 0s 31ms/step - loss: 5.4670 - val_loss: nan - lr: 0.0010\n",
            "Epoch 87/250\n",
            "2/2 [==============================] - 0s 33ms/step - loss: 5.9465 - val_loss: nan - lr: 0.0010\n",
            "Epoch 88/250\n",
            "2/2 [==============================] - 0s 46ms/step - loss: 5.1040 - val_loss: nan - lr: 0.0010\n",
            "Epoch 89/250\n",
            "2/2 [==============================] - 0s 31ms/step - loss: 5.2043 - val_loss: nan - lr: 0.0010\n",
            "Epoch 90/250\n",
            "2/2 [==============================] - 0s 61ms/step - loss: 5.4361 - val_loss: nan - lr: 0.0010\n",
            "Epoch 91/250\n",
            "2/2 [==============================] - 0s 52ms/step - loss: 5.5564 - val_loss: nan - lr: 0.0010\n",
            "Epoch 92/250\n",
            "2/2 [==============================] - 0s 38ms/step - loss: 4.8273 - val_loss: nan - lr: 0.0010\n",
            "Epoch 93/250\n",
            "2/2 [==============================] - 0s 48ms/step - loss: 5.5837 - val_loss: nan - lr: 0.0010\n",
            "Epoch 94/250\n",
            "2/2 [==============================] - 0s 36ms/step - loss: 5.1430 - val_loss: nan - lr: 0.0010\n",
            "Epoch 95/250\n",
            "2/2 [==============================] - 0s 36ms/step - loss: 4.8044 - val_loss: nan - lr: 0.0010\n",
            "Epoch 96/250\n",
            "2/2 [==============================] - 0s 33ms/step - loss: 4.8051 - val_loss: nan - lr: 0.0010\n",
            "Epoch 97/250\n",
            "2/2 [==============================] - 0s 53ms/step - loss: 5.1299 - val_loss: nan - lr: 0.0010\n",
            "Epoch 98/250\n",
            "2/2 [==============================] - 0s 50ms/step - loss: 4.8135 - val_loss: nan - lr: 0.0010\n",
            "Epoch 99/250\n",
            "2/2 [==============================] - 0s 33ms/step - loss: 5.2842 - val_loss: nan - lr: 0.0010\n",
            "Epoch 100/250\n",
            "2/2 [==============================] - 0s 33ms/step - loss: 4.7094 - val_loss: nan - lr: 0.0010\n",
            "Epoch 101/250\n",
            "2/2 [==============================] - 0s 49ms/step - loss: 4.7636 - val_loss: nan - lr: 0.0010\n",
            "Epoch 102/250\n",
            "2/2 [==============================] - 0s 35ms/step - loss: 4.7053 - val_loss: nan - lr: 0.0010\n",
            "Epoch 103/250\n",
            "2/2 [==============================] - 0s 33ms/step - loss: 4.9680 - val_loss: nan - lr: 0.0010\n",
            "Epoch 104/250\n",
            "2/2 [==============================] - 0s 48ms/step - loss: 4.7626 - val_loss: nan - lr: 0.0010\n",
            "Epoch 105/250\n",
            "2/2 [==============================] - 0s 49ms/step - loss: 5.4174 - val_loss: nan - lr: 0.0010\n",
            "Epoch 106/250\n",
            "2/2 [==============================] - 0s 51ms/step - loss: 5.0077 - val_loss: nan - lr: 0.0010\n",
            "Epoch 107/250\n",
            "2/2 [==============================] - 0s 37ms/step - loss: 4.7073 - val_loss: nan - lr: 0.0010\n",
            "Epoch 108/250\n",
            "2/2 [==============================] - 0s 58ms/step - loss: 4.3704 - val_loss: nan - lr: 0.0010\n",
            "Epoch 109/250\n",
            "2/2 [==============================] - 0s 54ms/step - loss: 4.6703 - val_loss: nan - lr: 0.0010\n",
            "Epoch 110/250\n",
            "2/2 [==============================] - 0s 47ms/step - loss: 4.5359 - val_loss: nan - lr: 0.0010\n",
            "Epoch 111/250\n",
            "2/2 [==============================] - 0s 69ms/step - loss: 4.8131 - val_loss: nan - lr: 0.0010\n",
            "Epoch 112/250\n",
            "2/2 [==============================] - 0s 37ms/step - loss: 4.5382 - val_loss: nan - lr: 0.0010\n",
            "Epoch 113/250\n",
            "2/2 [==============================] - 0s 49ms/step - loss: 4.3454 - val_loss: nan - lr: 0.0010\n",
            "Epoch 114/250\n",
            "2/2 [==============================] - 0s 38ms/step - loss: 4.4640 - val_loss: nan - lr: 0.0010\n",
            "Epoch 115/250\n",
            "2/2 [==============================] - 0s 49ms/step - loss: 4.4859 - val_loss: nan - lr: 0.0010\n",
            "Epoch 116/250\n",
            "2/2 [==============================] - 0s 47ms/step - loss: 4.6132 - val_loss: nan - lr: 0.0010\n",
            "Epoch 117/250\n",
            "2/2 [==============================] - 0s 52ms/step - loss: 4.6677 - val_loss: nan - lr: 0.0010\n",
            "Epoch 118/250\n",
            "2/2 [==============================] - 0s 50ms/step - loss: 4.1786 - val_loss: nan - lr: 0.0010\n",
            "Epoch 119/250\n",
            "2/2 [==============================] - 0s 44ms/step - loss: 4.2220 - val_loss: nan - lr: 0.0010\n",
            "Epoch 120/250\n",
            "2/2 [==============================] - 0s 40ms/step - loss: 4.1740 - val_loss: nan - lr: 0.0010\n",
            "Epoch 121/250\n",
            "2/2 [==============================] - 0s 37ms/step - loss: 4.4118 - val_loss: nan - lr: 0.0010\n",
            "Epoch 122/250\n",
            "2/2 [==============================] - 0s 36ms/step - loss: 4.0865 - val_loss: nan - lr: 0.0010\n",
            "Epoch 123/250\n",
            "2/2 [==============================] - 0s 35ms/step - loss: 4.2602 - val_loss: nan - lr: 0.0010\n",
            "Epoch 124/250\n",
            "2/2 [==============================] - 0s 37ms/step - loss: 4.2285 - val_loss: nan - lr: 0.0010\n",
            "Epoch 125/250\n",
            "2/2 [==============================] - 0s 47ms/step - loss: 4.2114 - val_loss: nan - lr: 0.0010\n",
            "Epoch 126/250\n",
            "2/2 [==============================] - 0s 61ms/step - loss: 4.2972 - val_loss: nan - lr: 0.0010\n",
            "Epoch 127/250\n",
            "2/2 [==============================] - 0s 52ms/step - loss: 4.2379 - val_loss: nan - lr: 0.0010\n",
            "Epoch 128/250\n",
            "2/2 [==============================] - 0s 52ms/step - loss: 4.3931 - val_loss: nan - lr: 0.0010\n",
            "Epoch 129/250\n",
            "2/2 [==============================] - 0s 56ms/step - loss: 4.0031 - val_loss: nan - lr: 0.0010\n",
            "Epoch 130/250\n",
            "2/2 [==============================] - 0s 37ms/step - loss: 4.3004 - val_loss: nan - lr: 0.0010\n",
            "Epoch 131/250\n",
            "2/2 [==============================] - 0s 38ms/step - loss: 4.1671 - val_loss: nan - lr: 0.0010\n",
            "Epoch 132/250\n",
            "2/2 [==============================] - 0s 58ms/step - loss: 4.1010 - val_loss: nan - lr: 0.0010\n",
            "Epoch 133/250\n",
            "2/2 [==============================] - 0s 42ms/step - loss: 4.0380 - val_loss: nan - lr: 0.0010\n",
            "Epoch 134/250\n",
            "2/2 [==============================] - 0s 43ms/step - loss: 3.8383 - val_loss: nan - lr: 0.0010\n",
            "Epoch 135/250\n",
            "2/2 [==============================] - 0s 53ms/step - loss: 3.8941 - val_loss: nan - lr: 0.0010\n",
            "Epoch 136/250\n",
            "2/2 [==============================] - 0s 38ms/step - loss: 4.0568 - val_loss: nan - lr: 0.0010\n",
            "Epoch 137/250\n",
            "2/2 [==============================] - 0s 54ms/step - loss: 4.0719 - val_loss: nan - lr: 0.0010\n",
            "Epoch 138/250\n",
            "2/2 [==============================] - 0s 47ms/step - loss: 3.9612 - val_loss: nan - lr: 0.0010\n",
            "Epoch 139/250\n",
            "2/2 [==============================] - 0s 41ms/step - loss: 4.1522 - val_loss: nan - lr: 0.0010\n",
            "Epoch 140/250\n",
            "2/2 [==============================] - 0s 37ms/step - loss: 3.6969 - val_loss: nan - lr: 0.0010\n",
            "Epoch 141/250\n",
            "2/2 [==============================] - 0s 62ms/step - loss: 4.0978 - val_loss: nan - lr: 0.0010\n",
            "Epoch 142/250\n",
            "2/2 [==============================] - 0s 41ms/step - loss: 4.2374 - val_loss: nan - lr: 0.0010\n",
            "Epoch 143/250\n",
            "2/2 [==============================] - 0s 42ms/step - loss: 4.0830 - val_loss: nan - lr: 0.0010\n",
            "Epoch 144/250\n",
            "2/2 [==============================] - 0s 42ms/step - loss: 3.8483 - val_loss: nan - lr: 0.0010\n",
            "Epoch 145/250\n",
            "2/2 [==============================] - 0s 42ms/step - loss: 3.9297 - val_loss: nan - lr: 0.0010\n",
            "Epoch 146/250\n",
            "2/2 [==============================] - 0s 54ms/step - loss: 3.7777 - val_loss: nan - lr: 0.0010\n",
            "Epoch 147/250\n",
            "2/2 [==============================] - 0s 56ms/step - loss: 4.0052 - val_loss: nan - lr: 0.0010\n",
            "Epoch 148/250\n",
            "1/2 [==============>...............] - ETA: 0s - loss: 4.0710\n",
            "Epoch 148: ReduceLROnPlateau reducing learning rate to 0.0006000000284984708.\n",
            "2/2 [==============================] - 0s 42ms/step - loss: 3.8975 - val_loss: nan - lr: 0.0010\n",
            "Epoch 149/250\n",
            "2/2 [==============================] - 0s 48ms/step - loss: 3.7608 - val_loss: inf - lr: 6.0000e-04\n",
            "Epoch 150/250\n",
            "2/2 [==============================] - 0s 42ms/step - loss: 4.0101 - val_loss: inf - lr: 6.0000e-04\n",
            "Epoch 151/250\n",
            "2/2 [==============================] - 0s 53ms/step - loss: 3.9370 - val_loss: inf - lr: 6.0000e-04\n",
            "Epoch 152/250\n",
            "2/2 [==============================] - 0s 47ms/step - loss: 4.1021 - val_loss: inf - lr: 6.0000e-04\n",
            "Epoch 153/250\n",
            "2/2 [==============================] - 0s 42ms/step - loss: 3.8455 - val_loss: inf - lr: 6.0000e-04\n",
            "Epoch 154/250\n",
            "2/2 [==============================] - 0s 42ms/step - loss: 3.8745 - val_loss: inf - lr: 6.0000e-04\n",
            "Epoch 155/250\n",
            "2/2 [==============================] - 0s 43ms/step - loss: 3.7795 - val_loss: inf - lr: 6.0000e-04\n",
            "Epoch 156/250\n",
            "1/2 [==============>...............] - ETA: 0s - loss: 3.5349\n",
            "Epoch 156: ReduceLROnPlateau reducing learning rate to 0.0003600000170990825.\n",
            "2/2 [==============================] - 0s 45ms/step - loss: 3.8117 - val_loss: inf - lr: 6.0000e-04\n",
            "Epoch 157/250\n",
            "2/2 [==============================] - 0s 64ms/step - loss: 3.8924 - val_loss: inf - lr: 3.6000e-04\n",
            "Epoch 158/250\n",
            "2/2 [==============================] - 0s 50ms/step - loss: 3.7795 - val_loss: inf - lr: 3.6000e-04\n",
            "Epoch 159/250\n",
            "2/2 [==============================] - 0s 42ms/step - loss: 4.2470 - val_loss: inf - lr: 3.6000e-04\n",
            "Epoch 160/250\n",
            "2/2 [==============================] - 0s 52ms/step - loss: 3.9479 - val_loss: inf - lr: 3.6000e-04\n",
            "Epoch 161/250\n",
            "2/2 [==============================] - 0s 61ms/step - loss: 3.6760 - val_loss: inf - lr: 3.6000e-04\n",
            "Epoch 162/250\n",
            "2/2 [==============================] - 0s 50ms/step - loss: 3.7407 - val_loss: inf - lr: 3.6000e-04\n",
            "Epoch 163/250\n",
            "2/2 [==============================] - 0s 41ms/step - loss: 3.7317 - val_loss: inf - lr: 3.6000e-04\n",
            "Epoch 164/250\n",
            "2/2 [==============================] - 0s 37ms/step - loss: 4.1599 - val_loss: inf - lr: 3.6000e-04\n",
            "Epoch 165/250\n",
            "2/2 [==============================] - 0s 49ms/step - loss: 3.6615 - val_loss: inf - lr: 3.6000e-04\n",
            "Epoch 166/250\n",
            "2/2 [==============================] - 0s 54ms/step - loss: 3.8664 - val_loss: inf - lr: 3.6000e-04\n",
            "Epoch 167/250\n",
            "2/2 [==============================] - 0s 42ms/step - loss: 3.3988 - val_loss: inf - lr: 3.6000e-04\n",
            "Epoch 168/250\n",
            "2/2 [==============================] - 0s 48ms/step - loss: 3.7265 - val_loss: inf - lr: 3.6000e-04\n",
            "Epoch 169/250\n",
            "2/2 [==============================] - 0s 61ms/step - loss: 3.8618 - val_loss: inf - lr: 3.6000e-04\n",
            "Epoch 170/250\n",
            "2/2 [==============================] - 0s 39ms/step - loss: 3.5181 - val_loss: inf - lr: 3.6000e-04\n",
            "Epoch 171/250\n",
            "2/2 [==============================] - 0s 56ms/step - loss: 3.5859 - val_loss: inf - lr: 3.6000e-04\n",
            "Epoch 172/250\n",
            "2/2 [==============================] - 0s 54ms/step - loss: 4.0433 - val_loss: inf - lr: 3.6000e-04\n",
            "Epoch 173/250\n",
            "2/2 [==============================] - 0s 42ms/step - loss: 4.0936 - val_loss: inf - lr: 3.6000e-04\n",
            "Epoch 174/250\n",
            "2/2 [==============================] - 0s 43ms/step - loss: 3.6699 - val_loss: inf - lr: 3.6000e-04\n",
            "Epoch 175/250\n",
            "1/2 [==============>...............] - ETA: 0s - loss: 3.5046\n",
            "Epoch 175: ReduceLROnPlateau reducing learning rate to 0.00021600000327453016.\n",
            "2/2 [==============================] - 0s 55ms/step - loss: 3.8276 - val_loss: inf - lr: 3.6000e-04\n",
            "Epoch 176/250\n",
            "2/2 [==============================] - 0s 38ms/step - loss: 3.6935 - val_loss: inf - lr: 2.1600e-04\n",
            "Epoch 177/250\n",
            "2/2 [==============================] - 0s 43ms/step - loss: 3.7176 - val_loss: inf - lr: 2.1600e-04\n",
            "Epoch 178/250\n",
            "2/2 [==============================] - 0s 44ms/step - loss: 3.8431 - val_loss: inf - lr: 2.1600e-04\n",
            "Epoch 179/250\n",
            "2/2 [==============================] - 0s 37ms/step - loss: 3.8216 - val_loss: inf - lr: 2.1600e-04\n",
            "Epoch 180/250\n",
            "2/2 [==============================] - 0s 48ms/step - loss: 3.9799 - val_loss: inf - lr: 2.1600e-04\n",
            "Epoch 181/250\n",
            "2/2 [==============================] - 0s 52ms/step - loss: 4.0072 - val_loss: inf - lr: 2.1600e-04\n",
            "Epoch 182/250\n",
            "2/2 [==============================] - 0s 54ms/step - loss: 3.6954 - val_loss: inf - lr: 2.1600e-04\n",
            "Epoch 183/250\n",
            "1/2 [==============>...............] - ETA: 0s - loss: 4.1214\n",
            "Epoch 183: ReduceLROnPlateau reducing learning rate to 0.00012960000021848827.\n",
            "2/2 [==============================] - 0s 55ms/step - loss: 3.6816 - val_loss: inf - lr: 2.1600e-04\n",
            "Epoch 184/250\n",
            "2/2 [==============================] - 0s 53ms/step - loss: 3.9889 - val_loss: inf - lr: 1.2960e-04\n",
            "Epoch 185/250\n",
            "2/2 [==============================] - 0s 49ms/step - loss: 3.9879 - val_loss: inf - lr: 1.2960e-04\n",
            "Epoch 186/250\n",
            "2/2 [==============================] - 0s 47ms/step - loss: 3.7810 - val_loss: inf - lr: 1.2960e-04\n",
            "Epoch 187/250\n",
            "2/2 [==============================] - 0s 40ms/step - loss: 3.6504 - val_loss: inf - lr: 1.2960e-04\n",
            "Epoch 188/250\n",
            "2/2 [==============================] - 0s 60ms/step - loss: 3.5741 - val_loss: inf - lr: 1.2960e-04\n",
            "Epoch 189/250\n",
            "2/2 [==============================] - 0s 43ms/step - loss: 3.6000 - val_loss: inf - lr: 1.2960e-04\n",
            "Epoch 190/250\n",
            "2/2 [==============================] - 0s 60ms/step - loss: 3.6562 - val_loss: inf - lr: 1.2960e-04\n",
            "Epoch 191/250\n",
            "1/2 [==============>...............] - ETA: 0s - loss: 3.6550\n",
            "Epoch 191: ReduceLROnPlateau reducing learning rate to 7.775999838486313e-05.\n",
            "2/2 [==============================] - 0s 58ms/step - loss: 4.0135 - val_loss: inf - lr: 1.2960e-04\n",
            "Epoch 192/250\n",
            "2/2 [==============================] - 0s 60ms/step - loss: 3.7078 - val_loss: inf - lr: 7.7760e-05\n"
          ]
        }
      ]
    },
    {
      "cell_type": "code",
      "source": [
        "plt.plot(history.history['loss'])\n",
        "plt.plot(history.history['val_loss'])\n",
        "plt.title('model loss')\n",
        "plt.ylabel('loss')\n",
        "plt.xlabel('epoch')\n",
        "plt.legend(['train', 'val'], loc='upper left')\n",
        "plt.show()"
      ],
      "metadata": {
        "colab": {
          "base_uri": "https://localhost:8080/",
          "height": 295
        },
        "id": "F6w1UOu00NDn",
        "outputId": "9b5916a2-9b66-4f03-e95d-972637252995"
      },
      "execution_count": null,
      "outputs": [
        {
          "output_type": "display_data",
          "data": {
            "text/plain": [
              "<Figure size 432x288 with 1 Axes>"
            ],
            "image/png": "[encoded data removed]"
          },
          "metadata": {
            "needs_background": "light"
          }
        }
      ]
    },
    {
      "cell_type": "code",
      "source": [
        "preds = model.predict(X_test_norm)\n",
        "scores = np.mean(np.power(X_test_norm - preds, 2), axis=1)\n",
        "scores_to_define_threshold = np.mean(np.power(X_test_norm - preds, 2), axis=1)\n",
        "plt.hist(scores, bins=5)"
      ],
      "metadata": {
        "colab": {
          "base_uri": "https://localhost:8080/",
          "height": 351
        },
        "id": "pzDaqWQz0aVQ",
        "outputId": "32bbeaa0-ce5e-4fc0-964a-cebf4881c122"
      },
      "execution_count": null,
      "outputs": [
        {
          "output_type": "execute_result",
          "data": {
            "text/plain": [
              "(array([214.,   0.,   0.,   0.,   1.]),\n",
              " array([7.73059982e-03, 5.15870970e+68, 1.03174194e+69, 1.54761291e+69,\n",
              "        2.06348388e+69, 2.57935485e+69]),\n",
              " <a list of 5 Patch objects>)"
            ]
          },
          "metadata": {},
          "execution_count": 42
        },
        {
          "output_type": "display_data",
          "data": {
            "text/plain": [
              "<Figure size 432x288 with 1 Axes>"
            ],
            "image/png": "[encoded data removed]"
          },
          "metadata": {
            "needs_background": "light"
          }
        }
      ]
    },
    {
      "cell_type": "code",
      "source": [
        "threshold = 6000\n",
        "scores[scores < threshold] = -999\n",
        "scores[scores >= threshold] = int(-1)\n",
        "scores[scores == -999] = int(1)\n",
        "# scores[scores.isna()] = int(1)\n",
        "y_pred = np.array(scores)"
      ],
      "metadata": {
        "id": "b3uuAczV0yEH"
      },
      "execution_count": null,
      "outputs": []
    },
    {
      "cell_type": "code",
      "source": [
        "def get_confusion_matrix(y_real, y_pred, model_name=None):\n",
        "    y_real_list = list(y_real)\n",
        "    y_pred_list = list(y_pred)\n",
        "    cm = confusion_matrix(y_true=y_real_list, y_pred=y_pred_list)\n",
        "    ax = sns.heatmap(cm, annot=True, cmap='Blues')\n",
        "\n",
        "    ax.set_title(model_name + ' Confusion Matrix with labels')\n",
        "    ax.set_xlabel('Predicted Values')\n",
        "    ax.set_ylabel('Actual Values')\n",
        "\n",
        "    # Ticket labels - As listas devem estar em ordem alfabetica\n",
        "    ax.xaxis.set_ticklabels(['-1', '1'])\n",
        "    ax.yaxis.set_ticklabels(['-1', '1'])\n",
        "    plt.show()\n",
        "    return cm"
      ],
      "metadata": {
        "id": "okKa4J0I06Dp"
      },
      "execution_count": null,
      "outputs": []
    },
    {
      "cell_type": "code",
      "source": [
        "# Calcula todas as métricas e exibe a matriz de confusão\n",
        "cm = get_confusion_matrix(y_real=y_test, y_pred=y_pred, model_name=\"Variational Autoencoder\")\n",
        "\n",
        "ret = precision_recall_fscore_support(y_test, y_pred, average='micro')\n",
        "print(ret)\n",
        "# p, r, f1, _ = ret"
      ],
      "metadata": {
        "colab": {
          "base_uri": "https://localhost:8080/",
          "height": 313
        },
        "id": "dXsBTtZe1Aln",
        "outputId": "c2f44c6e-c501-4b6d-8089-032254ca17b8"
      },
      "execution_count": null,
      "outputs": [
        {
          "output_type": "display_data",
          "data": {
            "text/plain": [
              "<Figure size 432x288 with 2 Axes>"
            ],
            "image/png": "[encoded data removed]"
          },
          "metadata": {
            "needs_background": "light"
          }
        },
        {
          "output_type": "stream",
          "name": "stdout",
          "text": [
            "(0.7116279069767442, 0.7116279069767442, 0.7116279069767442, None)\n"
          ]
        }
      ]
    },
    {
      "cell_type": "code",
      "source": [
        "erros = [(i, val_y_test, val_y_pred, scores_to_define_threshold[i]) for i, (val_y_test, val_y_pred) in enumerate(zip(y_test, y_pred)) if val_y_test != val_y_pred]\n",
        "print(min([cada_erro[3] for cada_erro in erros]))\n",
        "erros"
      ],
      "metadata": {
        "colab": {
          "base_uri": "https://localhost:8080/"
        },
        "id": "WRpHzrFp10Vv",
        "outputId": "2d6bb7bb-bc84-4a57-cf73-f269d53fab0d"
      },
      "execution_count": null,
      "outputs": [
        {
          "output_type": "stream",
          "name": "stdout",
          "text": [
            "0.18104247677377697\n"
          ]
        },
        {
          "output_type": "execute_result",
          "data": {
            "text/plain": [
              "[(70, -1.0, 1.0, 2203.6376537932238),\n",
              " (73, -1.0, 1.0, 48.67027293358895),\n",
              " (75, -1.0, 1.0, 4.976513783983612),\n",
              " (76, -1.0, 1.0, 472.84980131819765),\n",
              " (78, -1.0, 1.0, 390.2124566106853),\n",
              " (79, -1.0, 1.0, 18.589331077123155),\n",
              " (80, -1.0, 1.0, 38.627042073833785),\n",
              " (81, -1.0, 1.0, 702.8674654665093),\n",
              " (83, -1.0, 1.0, 128.89758043551777),\n",
              " (85, -1.0, 1.0, 163.13396966892054),\n",
              " (86, -1.0, 1.0, 392.77635486928364),\n",
              " (88, -1.0, 1.0, 413.8144672318711),\n",
              " (89, -1.0, 1.0, 336.23607954314286),\n",
              " (91, -1.0, 1.0, 1905.422555876261),\n",
              " (93, -1.0, 1.0, 106.43595507322046),\n",
              " (94, -1.0, 1.0, 1.5065718930316836),\n",
              " (95, -1.0, 1.0, 382.87698420822096),\n",
              " (99, -1.0, 1.0, 0.18104247677377697),\n",
              " (101, -1.0, 1.0, 767.9051586572959),\n",
              " (102, -1.0, 1.0, 35.82874254358704),\n",
              " (103, -1.0, 1.0, 196.8041351638577),\n",
              " (104, -1.0, 1.0, 81.37465780673244),\n",
              " (105, -1.0, 1.0, 392.7412886127912),\n",
              " (106, -1.0, 1.0, 227.5100363801076),\n",
              " (107, -1.0, 1.0, 2.2351612482078513),\n",
              " (108, -1.0, 1.0, 77.31306070876724),\n",
              " (114, -1.0, 1.0, 38.811473319219445),\n",
              " (115, -1.0, 1.0, 42.567921407296),\n",
              " (118, -1.0, 1.0, 124.89190600162706),\n",
              " (119, -1.0, 1.0, 6.495166022414887),\n",
              " (120, -1.0, 1.0, 82.03266745732083),\n",
              " (121, -1.0, 1.0, 1927.7435904996353),\n",
              " (122, -1.0, 1.0, 901.1931364410748),\n",
              " (124, -1.0, 1.0, 2392.421149644882),\n",
              " (125, -1.0, 1.0, 92.31275144328549),\n",
              " (126, -1.0, 1.0, 8.723068826944438),\n",
              " (127, -1.0, 1.0, 1.458830432123025),\n",
              " (128, -1.0, 1.0, 554.1242047484684),\n",
              " (130, -1.0, 1.0, 235.4543847153322),\n",
              " (131, -1.0, 1.0, 2.8356304731928583),\n",
              " (135, -1.0, 1.0, 9.151992298128851),\n",
              " (139, -1.0, 1.0, 334.8277383045864),\n",
              " (140, -1.0, 1.0, 8.534203096041534),\n",
              " (141, -1.0, 1.0, 14.027817124331772),\n",
              " (143, -1.0, 1.0, 225.45276234313047),\n",
              " (146, -1.0, 1.0, 37.485984362144634),\n",
              " (148, -1.0, 1.0, 337.49241865772046),\n",
              " (150, -1.0, 1.0, 23.273025212931646),\n",
              " (152, -1.0, 1.0, 202.640098127532),\n",
              " (153, -1.0, 1.0, 212.28085962190124),\n",
              " (154, -1.0, 1.0, 213.27399388589055),\n",
              " (155, -1.0, 1.0, 617.5723440310542),\n",
              " (156, -1.0, 1.0, 842.6174875383709),\n",
              " (158, -1.0, 1.0, 29.136273493403735),\n",
              " (159, -1.0, 1.0, 364.11357558090583),\n",
              " (160, -1.0, 1.0, 5186.822807294424),\n",
              " (161, -1.0, 1.0, 44.68241805832705),\n",
              " (162, -1.0, 1.0, 109.38164525271364),\n",
              " (163, -1.0, 1.0, 304.4481726477531),\n",
              " (164, -1.0, 1.0, 490.7633125203905),\n",
              " (167, -1.0, 1.0, 138.42018520267862),\n",
              " (169, -1.0, 1.0, 9.890996313169)]"
            ]
          },
          "metadata": {},
          "execution_count": 46
        }
      ]
    },
    {
      "cell_type": "code",
      "source": [
        "preds = model.predict(X_test_norm)\n",
        "scores = np.mean(np.power(X_test_norm - preds, 2), axis=1)\n",
        "\n",
        "threshold = 0.181\n",
        "scores[scores < threshold] = -999\n",
        "scores[scores >= threshold] = int(-1)\n",
        "scores[scores == -999] = int(1)\n",
        "# scores[scores.isna()] = int(1)\n",
        "y_pred = np.array(scores)"
      ],
      "metadata": {
        "id": "JOCYTlmO29s0"
      },
      "execution_count": null,
      "outputs": []
    },
    {
      "cell_type": "code",
      "source": [
        "cm = get_confusion_matrix(y_real=y_test, y_pred=y_pred, model_name=\"Autoencoder\")\n",
        "\n",
        "ret = precision_recall_fscore_support(y_test, y_pred, average='micro')\n",
        "print(ret)"
      ],
      "metadata": {
        "colab": {
          "base_uri": "https://localhost:8080/",
          "height": 313
        },
        "id": "Hj9PkGwj3E-7",
        "outputId": "dc4f8ef5-f03d-4b0b-8405-8a6fb6a03767"
      },
      "execution_count": null,
      "outputs": [
        {
          "output_type": "display_data",
          "data": {
            "text/plain": [
              "<Figure size 432x288 with 2 Axes>"
            ],
            "image/png": "[encoded data removed]"
          },
          "metadata": {
            "needs_background": "light"
          }
        },
        {
          "output_type": "stream",
          "name": "stdout",
          "text": [
            "(1.0, 1.0, 1.0, None)\n"
          ]
        }
      ]
    },
    {
      "cell_type": "markdown",
      "source": [
        "#### Aplicando sobre o dataset de validação"
      ],
      "metadata": {
        "id": "YcBS7Q8UX6DS"
      }
    },
    {
      "cell_type": "code",
      "source": [
        "X_val_norm = scaler.transform(X_val)\n",
        "preds_val = model.predict(X_val_norm)\n",
        "scores_val = np.mean(np.power(X_val_norm - preds_val, 2), axis=1)\n",
        "\n",
        "scores_val[scores_val < threshold] = -999\n",
        "scores_val[scores_val >= threshold] = int(-1)\n",
        "scores_val[scores_val == -999] = int(1)\n",
        "# scores_val[scores_val.isna()] = int(1)\n",
        "y_val_pred = np.array(scores_val)"
      ],
      "metadata": {
        "id": "HK_JXftlX64O"
      },
      "execution_count": null,
      "outputs": []
    },
    {
      "cell_type": "code",
      "source": [
        "cm_val = get_confusion_matrix(y_real=y_val, y_pred=y_val_pred, model_name=\"Autoencoder\")\n",
        "\n",
        "ret_val = precision_recall_fscore_support(y_val, y_val_pred, average='micro')\n",
        "print(ret_val)"
      ],
      "metadata": {
        "id": "MxaNRY_pX860",
        "colab": {
          "base_uri": "https://localhost:8080/",
          "height": 313
        },
        "outputId": "b240e7b5-9f3b-4cfc-f65f-9297ab96be5d"
      },
      "execution_count": null,
      "outputs": [
        {
          "output_type": "display_data",
          "data": {
            "text/plain": [
              "<Figure size 432x288 with 2 Axes>"
            ],
            "image/png": "[encoded data removed]"
          },
          "metadata": {
            "needs_background": "light"
          }
        },
        {
          "output_type": "stream",
          "name": "stdout",
          "text": [
            "(0.984375, 0.984375, 0.984375, None)\n"
          ]
        }
      ]
    },
    {
      "cell_type": "code",
      "source": [],
      "metadata": {
        "id": "OiS-o3cPX88-"
      },
      "execution_count": null,
      "outputs": []
    }
  ]
}